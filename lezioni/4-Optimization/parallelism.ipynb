{
 "cells": [
  {
   "cell_type": "markdown",
   "id": "feefa39c",
   "metadata": {
    "slideshow": {
     "slide_type": "slide"
    }
   },
   "source": [
    "# Parallelismo in Python\n",
    "\n",
    "Esploreremo i principali strumenti per il calcolo parallelo in Python:"
   ]
  },
  {
   "cell_type": "markdown",
   "id": "57b4b095",
   "metadata": {
    "slideshow": {
     "slide_type": "subslide"
    }
   },
   "source": [
    "## Perché utilizzare il parallelismo?\n",
    "\n",
    "- Sfruttare tutte le risorse hardware disponibili\n",
    "- Velocizzare operazioni CPU-bound o I/O-bound\n",
    "- Gestire più attività simultaneamente"
   ]
  },
  {
   "cell_type": "markdown",
   "id": "d15c883d",
   "metadata": {
    "slideshow": {
     "slide_type": "fragment"
    }
   },
   "source": [
    "Esistono due approcci principali:\n",
    "- **Multithreading**: condivisione memoria, ideale per operazioni I/O-bound\n",
    "- **Multiprocessing**: processi separati, ideale per operazioni CPU-bound"
   ]
  },
  {
   "cell_type": "markdown",
   "id": "7365cfda",
   "metadata": {
    "slideshow": {
     "slide_type": "subslide"
    }
   },
   "source": [
    "## Il problema del GIL (Global Interpreter Lock)\n",
    "\n",
    "- Il GIL impedisce l'esecuzione parallela di thread Python sulla stessa CPU\n",
    "- Un solo thread può eseguire codice Python alla volta\n",
    "- Limita il parallelismo reale nel multithreading\n",
    "- Il multiprocessing bypassa questo limite creando interpreti Python separati"
   ]
  },
  {
   "cell_type": "markdown",
   "id": "9100f765",
   "metadata": {
    "slideshow": {
     "slide_type": "subslide"
    }
   },
   "source": [
    "## Funzione di test\n",
    "\n",
    "Per confrontare i vari metodi, useremo una funzione che calcola i numeri primi fino a un certo limite"
   ]
  },
  {
   "cell_type": "code",
   "execution_count": 1,
   "id": "68f50c67",
   "metadata": {
    "slideshow": {
     "slide_type": "subslide"
    }
   },
   "outputs": [],
   "source": [
    "def is_prime(n):\n",
    "    \"\"\"Verifica se un numero è primo. Generato da Claude 3.7 Sonnet\"\"\"\n",
    "    if n <= 1:\n",
    "        return False\n",
    "    elif n <= 3:\n",
    "        return True\n",
    "    elif n % 2 == 0 or n % 3 == 0:\n",
    "        return False\n",
    "    i = 5\n",
    "    while i * i <= n:\n",
    "        if n % i == 0 or n % (i + 2) == 0:\n",
    "            return False\n",
    "        i += 6\n",
    "    return True"
   ]
  },
  {
   "cell_type": "code",
   "execution_count": 2,
   "id": "2bc6e9ef",
   "metadata": {
    "slideshow": {
     "slide_type": "subslide"
    }
   },
   "outputs": [],
   "source": [
    "def count_primes(start, end):\n",
    "    \"\"\"Conta i numeri primi in un intervallo\"\"\"\n",
    "    count = 0\n",
    "    for n in range(start, end):\n",
    "        if is_prime(n):\n",
    "            count += 1\n",
    "    return count\n",
    "\n",
    "def sequential_primes(ranges):\n",
    "    \"\"\"Esecuzione sequenziale\"\"\"\n",
    "    results = []\n",
    "    for start, end in ranges:\n",
    "        results.append(count_primes(start, end))\n",
    "    return results"
   ]
  },
  {
   "cell_type": "markdown",
   "id": "fa07d02d",
   "metadata": {
    "slideshow": {
     "slide_type": "subslide"
    }
   },
   "source": [
    "## Approccio Sequenziale (baseline)"
   ]
  },
  {
   "cell_type": "code",
   "execution_count": 3,
   "id": "bf0ed869",
   "metadata": {
    "slideshow": {
     "slide_type": "fragment"
    }
   },
   "outputs": [],
   "source": [
    "# Definiamo gli intervalli da calcolare\n",
    "ranges = [(i*1000000, (i+1)*1000000) for i in range(3)]"
   ]
  },
  {
   "cell_type": "code",
   "execution_count": 4,
   "id": "ae94c7ce",
   "metadata": {
    "slideshow": {
     "slide_type": "fragment"
    }
   },
   "outputs": [
    {
     "name": "stdout",
     "output_type": "stream",
     "text": [
      "CPU times: total: 16.8 s\n",
      "Wall time: 17.9 s\n"
     ]
    },
    {
     "data": {
      "text/plain": [
       "[78498, 70435, 67883]"
      ]
     },
     "execution_count": 4,
     "metadata": {},
     "output_type": "execute_result"
    }
   ],
   "source": [
    "%%time\n",
    "sequential_primes(ranges)"
   ]
  },
  {
   "cell_type": "markdown",
   "id": "d27b2183",
   "metadata": {
    "slideshow": {
     "slide_type": "slide"
    }
   },
   "source": [
    "# 1. Multithreading"
   ]
  },
  {
   "cell_type": "markdown",
   "id": "73ef76cb",
   "metadata": {
    "slideshow": {
     "slide_type": "subslide"
    }
   },
   "source": [
    "## Multithreading con `threading`\n",
    "\n",
    "- Libreria standard di Python\n",
    "- Crea thread condividendo lo stesso spazio di memoria\n",
    "- Soggetto alle limitazioni del GIL\n",
    "- Ideale per task I/O-bound (networking, file I/O)\n",
    "- Non ottimale per task CPU-bound (calcoli)"
   ]
  },
  {
   "cell_type": "code",
   "execution_count": 5,
   "id": "22b79935",
   "metadata": {
    "slideshow": {
     "slide_type": "subslide"
    }
   },
   "outputs": [],
   "source": [
    "import threading\n",
    "\n",
    "def threading_primes(ranges):\n",
    "    results = [0] * len(ranges)\n",
    "    \n",
    "    def worker(idx, start, end):\n",
    "        results[idx] = count_primes(start, end)\n",
    "    \n",
    "    threads = []\n",
    "    for i, (start, end) in enumerate(ranges):\n",
    "        thread = threading.Thread(target=worker, args=(i, start, end))\n",
    "        threads.append(thread)\n",
    "        thread.start()\n",
    "    \n",
    "    for thread in threads:\n",
    "        thread.join()\n",
    "    \n",
    "    return results"
   ]
  },
  {
   "cell_type": "code",
   "execution_count": 6,
   "id": "529f4883",
   "metadata": {
    "slideshow": {
     "slide_type": "fragment"
    }
   },
   "outputs": [
    {
     "name": "stdout",
     "output_type": "stream",
     "text": [
      "CPU times: total: 16.1 s\n",
      "Wall time: 16.9 s\n"
     ]
    },
    {
     "data": {
      "text/plain": [
       "[78498, 70435, 67883]"
      ]
     },
     "execution_count": 6,
     "metadata": {},
     "output_type": "execute_result"
    }
   ],
   "source": [
    "%%time\n",
    "threading_primes(ranges)"
   ]
  },
  {
   "cell_type": "markdown",
   "id": "0929a0a1",
   "metadata": {
    "slideshow": {
     "slide_type": "subslide"
    }
   },
   "source": [
    "## Concurrent.futures con ThreadPoolExecutor\n",
    "\n",
    "- API più moderna e semplice\n",
    "- Gestisce automaticamente il pool di thread\n",
    "- Offre pattern come map/submit per esecuzioni parallele\n",
    "- Sempre con le limitazioni del GIL"
   ]
  },
  {
   "cell_type": "code",
   "execution_count": 7,
   "id": "558fcb17",
   "metadata": {
    "slideshow": {
     "slide_type": "subslide"
    }
   },
   "outputs": [],
   "source": [
    "from concurrent.futures import ThreadPoolExecutor\n",
    "\n",
    "def concurrent_threading_primes(ranges):\n",
    "    with ThreadPoolExecutor() as executor:\n",
    "        # Uso map per applicare la funzione a tutti gli elementi\n",
    "        results = list(executor.map(lambda r: count_primes(r[0], r[1]), ranges))\n",
    "    return results"
   ]
  },
  {
   "cell_type": "code",
   "execution_count": 8,
   "id": "6eed1eaa",
   "metadata": {
    "slideshow": {
     "slide_type": "fragment"
    }
   },
   "outputs": [
    {
     "name": "stdout",
     "output_type": "stream",
     "text": [
      "CPU times: total: 17.5 s\n",
      "Wall time: 18.4 s\n"
     ]
    },
    {
     "data": {
      "text/plain": [
       "[78498, 70435, 67883]"
      ]
     },
     "execution_count": 8,
     "metadata": {},
     "output_type": "execute_result"
    }
   ],
   "source": [
    "%%time\n",
    "concurrent_threading_primes(ranges)"
   ]
  },
  {
   "cell_type": "markdown",
   "id": "654533df",
   "metadata": {
    "slideshow": {
     "slide_type": "slide"
    }
   },
   "source": [
    "# 2. Multiprocessing"
   ]
  },
  {
   "cell_type": "markdown",
   "id": "25fa3c96",
   "metadata": {
    "slideshow": {
     "slide_type": "subslide"
    }
   },
   "source": [
    "## Multiprocessing con `multiprocessing`\n",
    "\n",
    "- Crea processi Python separati\n",
    "- Ogni processo ha il suo interprete Python e memoria\n",
    "- Bypassa il GIL\n",
    "- Ideale per task CPU-bound\n",
    "- Overhead maggiore per la creazione dei processi"
   ]
  },
  {
   "cell_type": "code",
   "execution_count": 9,
   "id": "217859e5",
   "metadata": {
    "slideshow": {
     "slide_type": "fragment"
    }
   },
   "outputs": [],
   "source": [
    "import multiprocessing as mp\n",
    "\n",
    "def multiprocessing_primes(ranges):\n",
    "    with mp.Pool() as pool:\n",
    "        # Uso starmap per passare gli argomenti espansi\n",
    "        results = pool.starmap(count_primes, ranges)\n",
    "    return results"
   ]
  },
  {
   "cell_type": "markdown",
   "id": "3855dd81",
   "metadata": {
    "slideshow": {
     "slide_type": "subslide"
    }
   },
   "source": [
    "Multiprocessing non è supportato negli Jupyter Notebook, quindi eseguiremo un file esterno con lo stesso codice tramite subprocess"
   ]
  },
  {
   "cell_type": "code",
   "execution_count": 10,
   "id": "de0bdab9",
   "metadata": {
    "slideshow": {
     "slide_type": "fragment"
    }
   },
   "outputs": [
    {
     "name": "stdout",
     "output_type": "stream",
     "text": [
      "CPU times: total: 31.2 ms\n",
      "Wall time: 2.35 s\n"
     ]
    },
    {
     "data": {
      "text/plain": [
       "'Risultati (multiprocessing): [78498, 70435, 67883]'"
      ]
     },
     "execution_count": 10,
     "metadata": {},
     "output_type": "execute_result"
    }
   ],
   "source": [
    "%%time\n",
    "import subprocess\n",
    "\n",
    "process = subprocess.run(\n",
    "    [\"python\", \"test_multiprocessing.py\", \"--method\", \"multiprocessing\"],\n",
    "    stdout=subprocess.PIPE, stderr=subprocess.PIPE\n",
    ")\n",
    "process.stdout.decode().strip()"
   ]
  },
  {
   "cell_type": "markdown",
   "id": "e3a4e6bc",
   "metadata": {
    "slideshow": {
     "slide_type": "subslide"
    }
   },
   "source": [
    "## Concurrent.futures con ProcessPoolExecutor\n",
    "\n",
    "- Stessa API di ThreadPoolExecutor ma usa processi\n",
    "- Interfaccia più moderna e semplice\n",
    "- Sotto il cofano usa multiprocessing"
   ]
  },
  {
   "cell_type": "code",
   "execution_count": 11,
   "id": "cbcef0f1",
   "metadata": {
    "slideshow": {
     "slide_type": "subslide"
    }
   },
   "outputs": [],
   "source": [
    "from concurrent.futures import ProcessPoolExecutor\n",
    "\n",
    "def concurrent_processing_primes(ranges):\n",
    "    with ProcessPoolExecutor() as executor:\n",
    "        results = list(executor.map(lambda r: count_primes(r[0], r[1]), ranges))\n",
    "    return results"
   ]
  },
  {
   "cell_type": "markdown",
   "id": "f3c9c1a0",
   "metadata": {
    "slideshow": {
     "slide_type": "fragment"
    }
   },
   "source": [
    "Anche ProcessPoolExecutor non è supportato negli Jupyter Notebook, quindi eseguiremo un file esterno con lo stesso codice tramite subprocess"
   ]
  },
  {
   "cell_type": "code",
   "execution_count": 12,
   "id": "cc4641fc",
   "metadata": {
    "slideshow": {
     "slide_type": "fragment"
    }
   },
   "outputs": [
    {
     "name": "stdout",
     "output_type": "stream",
     "text": [
      "CPU times: total: 31.2 ms\n",
      "Wall time: 2.31 s\n"
     ]
    },
    {
     "data": {
      "text/plain": [
       "'Risultati (concurrent): [78498, 70435, 67883]'"
      ]
     },
     "execution_count": 12,
     "metadata": {},
     "output_type": "execute_result"
    }
   ],
   "source": [
    "%%time\n",
    "import subprocess\n",
    "\n",
    "process = subprocess.run(\n",
    "    [\"python\", \"test_multiprocessing.py\", \"--method\", \"concurrent\"],\n",
    "    stdout=subprocess.PIPE, stderr=subprocess.PIPE\n",
    ")\n",
    "process.stdout.decode().strip()"
   ]
  },
  {
   "cell_type": "markdown",
   "id": "1c88cc14",
   "metadata": {
    "slideshow": {
     "slide_type": "slide"
    }
   },
   "source": [
    "# 3. Joblib"
   ]
  },
  {
   "cell_type": "markdown",
   "id": "67e3fb48",
   "metadata": {
    "slideshow": {
     "slide_type": "subslide"
    }
   },
   "source": [
    "- Libreria popolare nell'ecosistema scientifico (scikit-learn)\n",
    "- Supporta sia multiprocessing che multithreading\n",
    "- Offre caching e pipeline di calcolo\n",
    "- Gestisce automaticamente la parallelizzazione\n",
    "- Backend intercambiabili (loky, multiprocessing, threading, dask)"
   ]
  },
  {
   "cell_type": "code",
   "execution_count": 13,
   "id": "dc76ebc2",
   "metadata": {
    "slideshow": {
     "slide_type": "subslide"
    }
   },
   "outputs": [],
   "source": [
    "from joblib import Parallel, delayed\n",
    "\n",
    "def joblib_primes(ranges):\n",
    "    # n_jobs=-1 utilizza tutti i core disponibili\n",
    "    results = Parallel(n_jobs=-1)(delayed(count_primes)(start, end) for start, end in ranges)\n",
    "    return results"
   ]
  },
  {
   "cell_type": "code",
   "execution_count": 14,
   "id": "ba23e3f5",
   "metadata": {
    "slideshow": {
     "slide_type": "fragment"
    }
   },
   "outputs": [
    {
     "name": "stdout",
     "output_type": "stream",
     "text": [
      "CPU times: total: 46.9 ms\n",
      "Wall time: 2.59 s\n"
     ]
    },
    {
     "data": {
      "text/plain": [
       "[78498, 70435, 67883]"
      ]
     },
     "execution_count": 14,
     "metadata": {},
     "output_type": "execute_result"
    }
   ],
   "source": [
    "%%time\n",
    "joblib_primes(ranges)"
   ]
  },
  {
   "cell_type": "markdown",
   "id": "6dd45bfd",
   "metadata": {
    "slideshow": {
     "slide_type": "slide"
    }
   },
   "source": [
    "# 4. Ray"
   ]
  },
  {
   "cell_type": "markdown",
   "id": "b79d8638",
   "metadata": {
    "slideshow": {
     "slide_type": "subslide"
    }
   },
   "source": [
    "- Framework moderno per il calcolo parallelo e distribuito\n",
    "- Può scalare da un singolo computer a un cluster\n",
    "- Particolarmente popolare nel ML/AI\n",
    "- Offre funzionalità avanzate come actor model e scheduling\n",
    "- Overhead iniziale ma buone prestazioni su task complessi"
   ]
  },
  {
   "cell_type": "code",
   "execution_count": null,
   "id": "bd01252d",
   "metadata": {
    "slideshow": {
     "slide_type": "subslide"
    }
   },
   "outputs": [
    {
     "name": "stderr",
     "output_type": "stream",
     "text": [
      "c:\\users\\jackm\\pythonprojects\\tutoraggio-ingegneria-del-software_iada_\\.venv\\lib\\site-packages\\tqdm\\auto.py:21: TqdmWarning: IProgress not found. Please update jupyter and ipywidgets. See https://ipywidgets.readthedocs.io/en/stable/user_install.html\n",
      "  from .autonotebook import tqdm as notebook_tqdm\n",
      "2025-05-20 10:07:47,206\tINFO util.py:154 -- Missing packages: ['ipywidgets']. Run `pip install -U ipywidgets`, then restart the notebook server for rich notebook output.\n"
     ]
    }
   ],
   "source": [
    "import ray\n",
    "ray.init()\n",
    "\n",
    "@ray.remote\n",
    "def ray_count_primes(start, end):\n",
    "    return count_primes(start, end)\n",
    "\n",
    "def ray_primes(ranges):\n",
    "    # Lancio tutti i task in parallelo\n",
    "    futures = [ray_count_primes.remote(start, end) for start, end in ranges]\n",
    "    # Raccolgo i risultati\n",
    "    return ray.get(futures)"
   ]
  },
  {
   "cell_type": "code",
   "execution_count": 18,
   "id": "9965e408",
   "metadata": {
    "slideshow": {
     "slide_type": "fragment"
    }
   },
   "outputs": [
    {
     "name": "stdout",
     "output_type": "stream",
     "text": [
      "CPU times: total: 156 ms\n",
      "Wall time: 2.4 s\n"
     ]
    },
    {
     "data": {
      "text/plain": [
       "[78498, 70435, 67883]"
      ]
     },
     "execution_count": 18,
     "metadata": {},
     "output_type": "execute_result"
    }
   ],
   "source": [
    "%%time\n",
    "ray_primes(ranges)"
   ]
  }
 ],
 "metadata": {
  "kernelspec": {
   "display_name": "Python 3 (ipykernel)",
   "language": "python",
   "name": "python3"
  },
  "language_info": {
   "codemirror_mode": {
    "name": "ipython",
    "version": 3
   },
   "file_extension": ".py",
   "mimetype": "text/x-python",
   "name": "python",
   "nbconvert_exporter": "python",
   "pygments_lexer": "ipython3",
   "version": "3.8.10"
  }
 },
 "nbformat": 4,
 "nbformat_minor": 5
}
