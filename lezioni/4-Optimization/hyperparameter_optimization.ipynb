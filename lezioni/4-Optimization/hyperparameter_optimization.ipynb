{
 "cells": [
  {
   "cell_type": "markdown",
   "id": "1d629cc5",
   "metadata": {
    "slideshow": {
     "slide_type": "slide"
    }
   },
   "source": [
    "# Tecniche di Ottimizzazione degli Iperparametri nel Machine Learning\n",
    "\n",
    "L'ottimizzazione degli iperparametri, o tuning degli iperparametri, è il processo di ricerca del set ottimale di iperparametri per un algoritmo di machine learning. Mentre i parametri del modello vengono appresi durante l'addestramento, gli iperparametri sono impostati prima dell'inizio dell'addestramento e influenzano il modo in cui il modello apprende.\n",
    "\n",
    "Questo notebook esplora varie tecniche e framework di ottimizzazione degli iperparametri, inclusi Optuna, Ray Tune, e Weights & Biases Sweeps, applicate all'algoritmo RandomForest."
   ]
  },
  {
   "cell_type": "markdown",
   "id": "74d88860",
   "metadata": {
    "slideshow": {
     "slide_type": "subslide"
    }
   },
   "source": [
    "## Sfide Comuni nell'Ottimizzazione degli Iperparametri:\n",
    "\n",
    "- Ampi spazi di ricerca con molte possibili combinazioni\n",
    "- Costi di valutazione elevati (tempo/risorse computazionali)\n",
    "- Rischio di overfitting sui dati di validazione\n",
    "- Paesaggi di ottimizzazione non convessi\n",
    "- Iperparametri condizionali (parametri che hanno importanza solo quando altri hanno valori specifici)"
   ]
  },
  {
   "cell_type": "markdown",
   "id": "708b3f97",
   "metadata": {
    "slideshow": {
     "slide_type": "fragment"
    }
   },
   "source": [
    "## Perché è importante l'ottimizzazione degli iperparametri?\n",
    "\n",
    "1. **Prestazioni del Modello**: Un corretto tuning degli iperparametri può migliorare significativamente l'accuratezza e la generalizzazione del modello.\n",
    "2. **Efficienza**: Aiuta a utilizzare in modo efficiente le risorse computazionali.\n",
    "3. **Robustezza**: I modelli ben sintonizzati tendono ad essere più robusti su diversi dataset."
   ]
  },
  {
   "cell_type": "markdown",
   "id": "a2f09fb9",
   "metadata": {
    "slideshow": {
     "slide_type": "subslide"
    }
   },
   "source": [
    "### Il Processo di Tuning degli Iperparametri\n",
    "\n",
    "1. Definire uno spazio di ricerca per gli iperparametri\n",
    "2. Selezionare una strategia di campionamento\n",
    "3. Definire una metrica di valutazione\n",
    "4. Implementare un algoritmo di ricerca\n",
    "5. Analizzare i risultati e selezionare i migliori iperparametri"
   ]
  },
  {
   "cell_type": "code",
   "execution_count": 17,
   "id": "c46a8616",
   "metadata": {
    "slideshow": {
     "slide_type": "fragment"
    }
   },
   "outputs": [],
   "source": [
    "# Installazione delle librerie necessarie\n",
    "# !pip install optuna ray[tune] wandb scikit-learn seaborn plotly"
   ]
  },
  {
   "cell_type": "code",
   "execution_count": 1,
   "id": "d6b8d156",
   "metadata": {
    "slideshow": {
     "slide_type": "subslide"
    }
   },
   "outputs": [],
   "source": [
    "# Importazione delle librerie necessarie\n",
    "import numpy as np\n",
    "import matplotlib.pyplot as plt\n",
    "import seaborn as sns\n",
    "from sklearn.datasets import load_diabetes\n",
    "from sklearn.model_selection import train_test_split, GridSearchCV, RandomizedSearchCV, cross_val_score\n",
    "from sklearn.ensemble import RandomForestRegressor\n",
    "from sklearn.metrics import mean_squared_error, r2_score\n",
    "\n",
    "# Impostazioni per le visualizzazioni\n",
    "plt.style.use('ggplot')\n",
    "seed = 42\n",
    "np.random.seed(42)"
   ]
  },
  {
   "cell_type": "code",
   "execution_count": 3,
   "id": "599b9217",
   "metadata": {
    "slideshow": {
     "slide_type": "subslide"
    }
   },
   "outputs": [],
   "source": [
    "# Caricamento di un dataset di esempio (Diabetes)\n",
    "diabetes = load_diabetes()\n",
    "X, y = diabetes.data, diabetes.target\n",
    "\n",
    "# Prima separazione: divide i dati in \"temp\" (che diventerà train+validation) e test finale (20%)\n",
    "X_temp, X_test, y_temp, y_test = train_test_split(\n",
    "    diabetes.data, diabetes.target, test_size=0.2, random_state=seed\n",
    ")\n",
    "\n",
    "# Seconda separazione: divide \"temp\" in train effettivo (80% del totale) e validation (20% del totale)\n",
    "X_train, X_val, y_train, y_val = train_test_split(\n",
    "    X_temp, y_temp, test_size=0.25, random_state=seed  # 0.25 * 0.8 = 0.2 (20% del dataset originale)\n",
    ")"
   ]
  },
  {
   "cell_type": "code",
   "execution_count": 4,
   "id": "1220fe8b",
   "metadata": {
    "slideshow": {
     "slide_type": "fragment"
    }
   },
   "outputs": [],
   "source": [
    "# Definizione di una semplice funzione di valutazione del modello\n",
    "def evaluate_model(model, X_eval_data, y_eval_data):\n",
    "    \"\"\"Valuta le prestazioni del modello e restituisce le metriche.\"\"\"\n",
    "    y_pred = model.predict(X_eval_data)\n",
    "    mse = mean_squared_error(y_eval_data, y_pred)\n",
    "    r2 = r2_score(y_eval_data, y_pred)\n",
    "    return {\n",
    "        \"MSE\": mse,\n",
    "        \"RMSE\": np.sqrt(mse),\n",
    "        \"R²\": r2\n",
    "    }"
   ]
  },
  {
   "cell_type": "markdown",
   "id": "3c504363",
   "metadata": {
    "slideshow": {
     "slide_type": "subslide"
    }
   },
   "source": [
    "## Tecniche di Campionamento dei Parametri\n",
    "\n",
    "Prima di immergerci nei framework specifici, comprendiamo le comuni tecniche di campionamento utilizzate nell'ottimizzazione degli iperparametri:\n",
    "\n",
    "1. **Grid Search**: Ricerca esaustivamente attraverso un sottoinsieme specificato manualmente dello spazio degli iperparametri.\n",
    "2. **Random Search**: Campiona casualmente dallo spazio degli iperparametri, trovando potenzialmente soluzioni migliori con meno iterazioni.\n",
    "3. **Bayesian Optimization**: Costruisce un modello probabilistico della funzione obiettivo e lo utilizza per selezionare gli iperparametri più promettenti."
   ]
  },
  {
   "cell_type": "markdown",
   "id": "96a5d4c7",
   "metadata": {
    "slideshow": {
     "slide_type": "subslide"
    }
   },
   "source": [
    "### Distribuzioni Comuni dei Parametri\n",
    "\n",
    "- **Uniforme**: Uguale probabilità in un intervallo (buono per parametri dove non c'è una convinzione a priori)\n",
    "- **Log-uniforme**: Campiona valori tali che i loro logaritmi siano distribuiti uniformemente (buono per i tassi di apprendimento)\n",
    "- **Categorica**: Seleziona da opzioni discrete (buono per scelte di algoritmi o flag booleani)\n",
    "- **Normale/Gaussiana**: Quando i valori vicino al centro hanno maggiori probabilità di essere ottimali"
   ]
  },
  {
   "cell_type": "code",
   "execution_count": 4,
   "id": "fbe8433c",
   "metadata": {
    "slideshow": {
     "slide_type": "subslide"
    }
   },
   "outputs": [
    {
     "data": {
      "image/png": "[encoded data removed]",
      "text/plain": [
       "<Figure size 1800x500 with 3 Axes>"
      ]
     },
     "metadata": {},
     "output_type": "display_data"
    }
   ],
   "source": [
    "# Visualizzazione di diverse tecniche di campionamento dei parametri (Generato da Claude Sonnet)\n",
    "fig, axes = plt.subplots(1, 3, figsize=(18, 5))\n",
    "\n",
    "# Grid Search\n",
    "n_points_grid = 6\n",
    "grid_x, grid_y = np.linspace(0, 1, n_points_grid), np.linspace(0, 1, n_points_grid)\n",
    "grid_points = np.array([(x_val, y_val) for x_val in grid_x for y_val in grid_y])\n",
    "axes[0].scatter(grid_points[:, 0], grid_points[:, 1], c='blue', s=50) \n",
    "\n",
    "# Random Search\n",
    "random_points = np.random.rand(36, 2)\n",
    "axes[1].scatter(random_points[:, 0], random_points[:, 1], c='red', s=50)\n",
    "\n",
    "# Ricerca ispirata a Bayes (visualizzazione semplificata)\n",
    "bay_points_initial = np.random.rand(10, 2)  # Punti casuali iniziali\n",
    "x_coords, y_coords = np.linspace(0, 1, 100), np.linspace(0, 1, 100)\n",
    "X_mesh, Y_mesh = np.meshgrid(x_coords, y_coords)\n",
    "Z_surrogate = np.exp(-((X_mesh - 0.7)**2 + (Y_mesh - 0.3)**2) / 0.1)  # Modello surrogato\n",
    "axes[2].contourf(X_mesh, Y_mesh, Z_surrogate, levels=10, cmap='viridis', alpha=0.5)\n",
    "axes[2].scatter(bay_points_initial[:, 0], bay_points_initial[:, 1], c='orange', s=50, label='Punti iniziali')\n",
    "guided_points = 0.7 + np.random.randn(26, 2) * 0.1 # Punti guidati aggiuntivi\n",
    "guided_points = np.clip(guided_points, 0, 1)\n",
    "axes[2].scatter(guided_points[:, 0], guided_points[:, 1], c='green', s=50, label='Punti guidati')\n",
    "axes[2].legend()\n",
    "\n",
    "for ax, title in zip(axes, ['Grid Search (36 campioni)', 'Random Search (36 campioni)', 'Ricerca Ispirata a Bayes']):\n",
    "    ax.set_xlim(0, 1)\n",
    "    ax.set_ylim(0, 1)\n",
    "    ax.set_title(title)\n",
    "\n",
    "plt.tight_layout()\n",
    "plt.show()"
   ]
  },
  {
   "cell_type": "markdown",
   "id": "c1b887af",
   "metadata": {
    "slideshow": {
     "slide_type": "subslide"
    }
   },
   "source": [
    "## 2. Optuna: Framework Avanzato per l'Ottimizzazione degli Iperparametri\n",
    "\n",
    "[Optuna](https://optuna.org/) è un framework di ottimizzazione automatica degli iperparametri che offre:\n",
    "\n",
    "- Algoritmi di campionamento efficienti\n",
    "- Pruning (potatura) automatico dei trial non promettenti\n",
    "- Ottimizzazione parallela e distribuita\n",
    "- Visualizzazioni per l'analisi dei risultati"
   ]
  },
  {
   "cell_type": "code",
   "execution_count": 5,
   "id": "857d8776",
   "metadata": {
    "slideshow": {
     "slide_type": "subslide"
    }
   },
   "outputs": [
    {
     "name": "stderr",
     "output_type": "stream",
     "text": [
      "c:\\users\\jackm\\pythonprojects\\tutoraggio-ingegneria-del-software_iada_\\.venv\\lib\\site-packages\\tqdm\\auto.py:21: TqdmWarning: IProgress not found. Please update jupyter and ipywidgets. See https://ipywidgets.readthedocs.io/en/stable/user_install.html\n",
      "  from .autonotebook import tqdm as notebook_tqdm\n"
     ]
    }
   ],
   "source": [
    "import optuna\n",
    "\n",
    "def objective_optuna(trial):\n",
    "    # Definizione dello spazio di ricerca\n",
    "    n_estimators = trial.suggest_int('n_estimators', 50, 200)\n",
    "    max_depth = trial.suggest_int('max_depth', 10, 50, log=True)\n",
    "    \n",
    "    # Creazione e addestramento del modello\n",
    "    model = RandomForestRegressor(\n",
    "        n_estimators=n_estimators,\n",
    "        max_depth=max_depth,\n",
    "        random_state=seed,\n",
    "        n_jobs=-1\n",
    "    )\n",
    "    \n",
    "    # Addestramento su train\n",
    "    model.fit(X_train, y_train)\n",
    "    metrics = evaluate_model(model, X_val, y_val)\n",
    "\n",
    "    return metrics['MSE']"
   ]
  },
  {
   "cell_type": "code",
   "execution_count": 8,
   "id": "94e71e25",
   "metadata": {
    "scrolled": false,
    "slideshow": {
     "slide_type": "subslide"
    }
   },
   "outputs": [
    {
     "name": "stderr",
     "output_type": "stream",
     "text": [
      "[I 2025-05-20 10:38:01,295] A new study created in memory with name: no-name-3b3e6415-c92c-4f54-b438-a716b3d63ca2\n",
      "[I 2025-05-20 10:38:01,959] Trial 0 finished with value: 2998.327281740697 and parameters: {'n_estimators': 155, 'max_depth': 20}. Best is trial 0 with value: 2998.327281740697.\n",
      "[I 2025-05-20 10:38:02,449] Trial 1 finished with value: 2974.701586147099 and parameters: {'n_estimators': 112, 'max_depth': 29}. Best is trial 1 with value: 2974.701586147099.\n",
      "[I 2025-05-20 10:38:03,123] Trial 2 finished with value: 3005.798620107831 and parameters: {'n_estimators': 151, 'max_depth': 36}. Best is trial 1 with value: 2974.701586147099.\n",
      "[I 2025-05-20 10:38:03,534] Trial 3 finished with value: 2968.9730046304426 and parameters: {'n_estimators': 64, 'max_depth': 21}. Best is trial 3 with value: 2968.9730046304426.\n",
      "[I 2025-05-20 10:38:04,362] Trial 4 finished with value: 2990.195149465946 and parameters: {'n_estimators': 180, 'max_depth': 39}. Best is trial 3 with value: 2968.9730046304426.\n"
     ]
    },
    {
     "name": "stdout",
     "output_type": "stream",
     "text": [
      "Migliori iperparametri (Optuna):  {'n_estimators': 64, 'max_depth': 21}\n",
      "Miglior MSE (Optuna):  2968.9730046304426\n"
     ]
    }
   ],
   "source": [
    "# Creazione e ottimizzazione dello studio Optuna\n",
    "study_optuna = optuna.create_study(direction='minimize')\n",
    "study_optuna.optimize(objective_optuna, n_trials=5)\n",
    "\n",
    "# Risultati migliori\n",
    "print(\"Migliori iperparametri (Optuna): \", study_optuna.best_params)\n",
    "print(\"Miglior MSE (Optuna): \", study_optuna.best_value)"
   ]
  },
  {
   "cell_type": "code",
   "execution_count": 9,
   "id": "3ae22772",
   "metadata": {
    "slideshow": {
     "slide_type": "fragment"
    }
   },
   "outputs": [
    {
     "name": "stdout",
     "output_type": "stream",
     "text": [
      "Metriche sul set di test (Optuna): {'MSE': 3227.2314343398875, 'RMSE': 56.80872674457585, 'R²': 0.3908759908125581}\n"
     ]
    }
   ],
   "source": [
    "# Valutazione del modello ottimizzato con Optuna\n",
    "best_params_optuna = study_optuna.best_params\n",
    "optuna_model = RandomForestRegressor(\n",
    "    **best_params_optuna,  # Usiamo tutti i parametri trovati da Optuna\n",
    "    random_state=seed,\n",
    "    n_jobs=-1\n",
    ")\n",
    "X_train_full = np.vstack([X_train, X_val])\n",
    "y_train_full = np.concatenate([y_train, y_val])\n",
    "optuna_model.fit(X_train_full, y_train_full)\n",
    "print(\"Metriche sul set di test (Optuna):\", evaluate_model(optuna_model, X_test, y_test))"
   ]
  },
  {
   "cell_type": "markdown",
   "id": "5533c4a1",
   "metadata": {
    "slideshow": {
     "slide_type": "subslide"
    }
   },
   "source": [
    "## 3. Ray Tune: Framework Scalabile per l'Ottimizzazione Distribuita\n",
    "\n",
    "[Ray Tune](https://docs.ray.io/en/latest/tune/index.html) è un framework per il tuning distribuito che offre:\n",
    "\n",
    "- Esecuzione parallela su multiple CPU e GPU\n",
    "- Early stopping automatico di trial non promettenti\n",
    "- Supporto per vari algoritmi di ottimizzazione\n",
    "- Integrazione con diversi framework di ML\n",
    "- Scalabilità per grandi cluster"
   ]
  },
  {
   "cell_type": "code",
   "execution_count": 10,
   "id": "9d5bf12f",
   "metadata": {
    "slideshow": {
     "slide_type": "fragment"
    }
   },
   "outputs": [
    {
     "name": "stderr",
     "output_type": "stream",
     "text": [
      "2025-05-20 10:39:33,442\tINFO util.py:154 -- Missing packages: ['ipywidgets']. Run `pip install -U ipywidgets`, then restart the notebook server for rich notebook output.\n",
      "2025-05-20 10:39:34,785\tINFO util.py:154 -- Missing packages: ['ipywidgets']. Run `pip install -U ipywidgets`, then restart the notebook server for rich notebook output.\n"
     ]
    }
   ],
   "source": [
    "import ray\n",
    "from ray import tune, train as ray_train\n",
    "from ray.tune.schedulers import ASHAScheduler"
   ]
  },
  {
   "cell_type": "code",
   "execution_count": 11,
   "id": "c3378fc5",
   "metadata": {
    "slideshow": {
     "slide_type": "subslide"
    }
   },
   "outputs": [],
   "source": [
    "# Funzione di training per Ray Tune con RandomForest\n",
    "def train_rf_ray(config):\n",
    "    # Creiamo il modello con la configurazione fornita\n",
    "    model = RandomForestRegressor(\n",
    "        n_estimators=config[\"n_estimators\"],\n",
    "        max_depth=config[\"max_depth\"] if config[\"max_depth\"] > 0 else None,\n",
    "        random_state=seed\n",
    "    )\n",
    "    \n",
    "    model.fit(X_train, y_train)\n",
    "    \n",
    "    # Valutazione su validation (NON su test)\n",
    "    y_pred = model.predict(X_val)\n",
    "    mse = mean_squared_error(y_val, y_pred)\n",
    "    r2 = r2_score(y_val, y_pred)\n",
    "    \n",
    "    # Rapporto dei risultati a Ray Tune\n",
    "    ray_train.report(dict(mse=mse, r2=r2))"
   ]
  },
  {
   "cell_type": "code",
   "execution_count": 12,
   "id": "521d153f",
   "metadata": {
    "slideshow": {
     "slide_type": "subslide"
    }
   },
   "outputs": [],
   "source": [
    "def tune_rf_hyperparameters_ray():\n",
    "    # Configurazione dello scheduler per early stopping\n",
    "    scheduler = ASHAScheduler(metric=\"mse\", mode=\"min\", max_t=100, grace_period=1)\n",
    "    \n",
    "    # Definizione dello spazio di ricerca\n",
    "    config_ray = {\n",
    "        \"n_estimators\": tune.randint(50, 200),\n",
    "        \"max_depth\": tune.randint(0, 50),  # 0 = None\n",
    "    }\n",
    "    \n",
    "    # Inizializzazione Ray\n",
    "    if not ray.is_initialized():\n",
    "        ray.init(num_cpus=4, ignore_reinit_error=True)\n",
    "    \n",
    "    # Esecuzione del tuning\n",
    "    analysis = tune.run(\n",
    "        train_rf_ray,\n",
    "        config=config_ray,\n",
    "        num_samples=5,  # Numero di combinazioni da provare\n",
    "        scheduler=scheduler,\n",
    "        resources_per_trial={\"cpu\": 1}\n",
    "    )\n",
    "    \n",
    "    # Risultati migliori\n",
    "    best_trial = analysis.get_best_trial(\"mse\", \"min\")\n",
    "    print(\"Miglior configurazione (Ray Tune):\", best_trial.config)\n",
    "    print(f\"Miglior MSE (Ray Tune): {best_trial.last_result['mse']}\")\n",
    "    print(f\"Miglior R² (Ray Tune): {best_trial.last_result['r2']}\")\n",
    "\n",
    "    return analysis"
   ]
  },
  {
   "cell_type": "code",
   "execution_count": 13,
   "id": "a92bb3fc",
   "metadata": {
    "slideshow": {
     "slide_type": "subslide"
    }
   },
   "outputs": [
    {
     "name": "stderr",
     "output_type": "stream",
     "text": [
      "2025-05-20 10:40:28,694\tINFO worker.py:1752 -- Started a local Ray instance.\n",
      "2025-05-20 10:40:29,460\tINFO tune.py:613 -- [output] This uses the legacy output and progress reporter, as Jupyter notebooks are not supported by the new engine, yet. For more information, please see https://github.com/ray-project/ray/issues/36949\n"
     ]
    },
    {
     "data": {
      "text/html": [
       "<div class=\"tuneStatus\">\n",
       "  <div style=\"display: flex;flex-direction: row\">\n",
       "    <div style=\"display: flex;flex-direction: column;\">\n",
       "      <h3>Tune Status</h3>\n",
       "      <table>\n",
       "<tbody>\n",
       "<tr><td>Current time:</td><td>2025-05-20 10:40:37</td></tr>\n",
       "<tr><td>Running for: </td><td>00:00:08.29        </td></tr>\n",
       "<tr><td>Memory:      </td><td>21.6/31.8 GiB      </td></tr>\n",
       "</tbody>\n",
       "</table>\n",
       "    </div>\n",
       "    <div class=\"vDivider\"></div>\n",
       "    <div class=\"systemInfo\">\n",
       "      <h3>System Info</h3>\n",
       "      Using AsyncHyperBand: num_stopped=4<br>Bracket: Iter 64.000: None | Iter 16.000: None | Iter 4.000: None | Iter 1.000: -2995.235292763357<br>Logical resource usage: 1.0/4 CPUs, 0/1 GPUs (0.0/1.0 accelerator_type:G)\n",
       "    </div>\n",
       "    \n",
       "  </div>\n",
       "  <div class=\"hDivider\"></div>\n",
       "  <div class=\"trialStatus\">\n",
       "    <h3>Trial Status</h3>\n",
       "    <table>\n",
       "<thead>\n",
       "<tr><th>Trial name              </th><th>status    </th><th>loc            </th><th style=\"text-align: right;\">  max_depth</th><th style=\"text-align: right;\">  n_estimators</th><th style=\"text-align: right;\">  iter</th><th style=\"text-align: right;\">  total time (s)</th><th style=\"text-align: right;\">    mse</th><th style=\"text-align: right;\">      r2</th></tr>\n",
       "</thead>\n",
       "<tbody>\n",
       "<tr><td>train_rf_ray_15a02_00000</td><td>TERMINATED</td><td>127.0.0.1:43836</td><td style=\"text-align: right;\">         28</td><td style=\"text-align: right;\">           152</td><td style=\"text-align: right;\">     1</td><td style=\"text-align: right;\">        0.54059 </td><td style=\"text-align: right;\">3004.83</td><td style=\"text-align: right;\">0.451555</td></tr>\n",
       "<tr><td>train_rf_ray_15a02_00001</td><td>TERMINATED</td><td>127.0.0.1:10688</td><td style=\"text-align: right;\">         20</td><td style=\"text-align: right;\">           121</td><td style=\"text-align: right;\">     1</td><td style=\"text-align: right;\">        0.432735</td><td style=\"text-align: right;\">2995.24</td><td style=\"text-align: right;\">0.453307</td></tr>\n",
       "<tr><td>train_rf_ray_15a02_00002</td><td>TERMINATED</td><td>127.0.0.1:21256</td><td style=\"text-align: right;\">         10</td><td style=\"text-align: right;\">           124</td><td style=\"text-align: right;\">     1</td><td style=\"text-align: right;\">        0.396545</td><td style=\"text-align: right;\">2937.6 </td><td style=\"text-align: right;\">0.463825</td></tr>\n",
       "<tr><td>train_rf_ray_15a02_00003</td><td>TERMINATED</td><td>127.0.0.1:41316</td><td style=\"text-align: right;\">         39</td><td style=\"text-align: right;\">           149</td><td style=\"text-align: right;\">     1</td><td style=\"text-align: right;\">        0.536619</td><td style=\"text-align: right;\">3006.28</td><td style=\"text-align: right;\">0.451291</td></tr>\n",
       "<tr><td>train_rf_ray_15a02_00004</td><td>TERMINATED</td><td>127.0.0.1:49296</td><td style=\"text-align: right;\">          1</td><td style=\"text-align: right;\">           199</td><td style=\"text-align: right;\">     1</td><td style=\"text-align: right;\">        0.20405 </td><td style=\"text-align: right;\">3549.39</td><td style=\"text-align: right;\">0.352162</td></tr>\n",
       "</tbody>\n",
       "</table>\n",
       "  </div>\n",
       "</div>\n",
       "<style>\n",
       ".tuneStatus {\n",
       "  color: var(--jp-ui-font-color1);\n",
       "}\n",
       ".tuneStatus .systemInfo {\n",
       "  display: flex;\n",
       "  flex-direction: column;\n",
       "}\n",
       ".tuneStatus td {\n",
       "  white-space: nowrap;\n",
       "}\n",
       ".tuneStatus .trialStatus {\n",
       "  display: flex;\n",
       "  flex-direction: column;\n",
       "}\n",
       ".tuneStatus h3 {\n",
       "  font-weight: bold;\n",
       "}\n",
       ".tuneStatus .hDivider {\n",
       "  border-bottom-width: var(--jp-border-width);\n",
       "  border-bottom-color: var(--jp-border-color0);\n",
       "  border-bottom-style: solid;\n",
       "}\n",
       ".tuneStatus .vDivider {\n",
       "  border-left-width: var(--jp-border-width);\n",
       "  border-left-color: var(--jp-border-color0);\n",
       "  border-left-style: solid;\n",
       "  margin: 0.5em 1em 0.5em 1em;\n",
       "}\n",
       "</style>\n"
      ],
      "text/plain": [
       "<IPython.core.display.HTML object>"
      ]
     },
     "metadata": {},
     "output_type": "display_data"
    },
    {
     "data": {
      "text/html": [
       "<div class=\"trialProgress\">\n",
       "  <h3>Trial Progress</h3>\n",
       "  <table>\n",
       "<thead>\n",
       "<tr><th>Trial name              </th><th style=\"text-align: right;\">    mse</th><th style=\"text-align: right;\">      r2</th></tr>\n",
       "</thead>\n",
       "<tbody>\n",
       "<tr><td>train_rf_ray_15a02_00000</td><td style=\"text-align: right;\">3004.83</td><td style=\"text-align: right;\">0.451555</td></tr>\n",
       "<tr><td>train_rf_ray_15a02_00001</td><td style=\"text-align: right;\">2995.24</td><td style=\"text-align: right;\">0.453307</td></tr>\n",
       "<tr><td>train_rf_ray_15a02_00002</td><td style=\"text-align: right;\">2937.6 </td><td style=\"text-align: right;\">0.463825</td></tr>\n",
       "<tr><td>train_rf_ray_15a02_00003</td><td style=\"text-align: right;\">3006.28</td><td style=\"text-align: right;\">0.451291</td></tr>\n",
       "<tr><td>train_rf_ray_15a02_00004</td><td style=\"text-align: right;\">3549.39</td><td style=\"text-align: right;\">0.352162</td></tr>\n",
       "</tbody>\n",
       "</table>\n",
       "</div>\n",
       "<style>\n",
       ".trialProgress {\n",
       "  display: flex;\n",
       "  flex-direction: column;\n",
       "  color: var(--jp-ui-font-color1);\n",
       "}\n",
       ".trialProgress h3 {\n",
       "  font-weight: bold;\n",
       "}\n",
       ".trialProgress td {\n",
       "  white-space: nowrap;\n",
       "}\n",
       "</style>\n"
      ],
      "text/plain": [
       "<IPython.core.display.HTML object>"
      ]
     },
     "metadata": {},
     "output_type": "display_data"
    },
    {
     "name": "stderr",
     "output_type": "stream",
     "text": [
      "2025-05-20 10:40:37,897\tINFO tune.py:1016 -- Wrote the latest version of all result files and experiment state to 'C:/Users/jackm/ray_results/train_rf_ray_2025-05-20_10-40-29' in 0.0320s.\n",
      "2025-05-20 10:40:38,013\tINFO tune.py:1048 -- Total run time: 8.55 seconds (8.26 seconds for the tuning loop).\n"
     ]
    },
    {
     "name": "stdout",
     "output_type": "stream",
     "text": [
      "Miglior configurazione (Ray Tune): {'n_estimators': 124, 'max_depth': 10}\n",
      "Miglior MSE (Ray Tune): 2937.6045091761903\n",
      "Miglior R² (Ray Tune): 0.46382536367370397\n"
     ]
    }
   ],
   "source": [
    "# Per eseguire Ray Tune, decommentare la riga seguente:\n",
    "ray_analysis = tune_rf_hyperparameters_ray()"
   ]
  },
  {
   "cell_type": "markdown",
   "id": "e0c9da99",
   "metadata": {
    "slideshow": {
     "slide_type": "subslide"
    }
   },
   "source": [
    "## 4. Weights & Biases Sweeps: Piattaforma Collaborativa per l'Ottimizzazione\n",
    "\n",
    "[Weights & Biases (W&B)](https://wandb.ai) è una piattaforma per il tracciamento degli esperimenti con funzionalità di ottimizzazione degli iperparametri, che offre:\n",
    "\n",
    "- Visualizzazioni interattive dei risultati\n",
    "- Ottimizzazione collaborativa\n",
    "- Vari algoritmi di ricerca (grid, random, bayes)\n",
    "- Tracciamento completo di esperimenti e metriche\n",
    "- Strumenti avanzati di analisi dei risultati"
   ]
  },
  {
   "cell_type": "code",
   "execution_count": 14,
   "id": "f0ca9357",
   "metadata": {
    "slideshow": {
     "slide_type": "fragment"
    }
   },
   "outputs": [
    {
     "name": "stderr",
     "output_type": "stream",
     "text": [
      "wandb: Currently logged in as: giacomomedda to https://api.wandb.ai. Use `wandb login --relogin` to force relogin\n"
     ]
    },
    {
     "data": {
      "text/plain": [
       "True"
      ]
     },
     "execution_count": 14,
     "metadata": {},
     "output_type": "execute_result"
    }
   ],
   "source": [
    "import wandb\n",
    "\n",
    "# Decommentare per effettuare il login\n",
    "wandb.login()"
   ]
  },
  {
   "cell_type": "code",
   "execution_count": 15,
   "id": "1b3d164a",
   "metadata": {
    "slideshow": {
     "slide_type": "subslide"
    }
   },
   "outputs": [],
   "source": [
    "# Funzione di addestramento per W&B Sweeps\n",
    "def train_wandb(config_wandb=None):\n",
    "    with wandb.init(config=config_wandb):\n",
    "        # Accesso alla configurazione di W&B\n",
    "        current_config = wandb.config\n",
    "        \n",
    "        # Creazione modello con parametri forniti\n",
    "        model = RandomForestRegressor(\n",
    "            n_estimators=current_config.n_estimators,\n",
    "            max_depth=current_config.max_depth,\n",
    "            random_state=seed\n",
    "        )\n",
    "\n",
    "        model.fit(X_train, y_train)\n",
    "    \n",
    "        # Valutazione su validation (NON su test)\n",
    "        y_pred = model.predict(X_val)\n",
    "        mse = mean_squared_error(y_val, y_pred)\n",
    "        r2 = r2_score(y_val, y_pred)\n",
    "        \n",
    "        # Tracciamento metriche\n",
    "        wandb.log({\n",
    "            \"MSE\": mse,\n",
    "            \"R2\": r2\n",
    "        })"
   ]
  },
  {
   "cell_type": "code",
   "execution_count": 16,
   "id": "4f190457",
   "metadata": {
    "slideshow": {
     "slide_type": "subslide"
    }
   },
   "outputs": [],
   "source": [
    "# Configurazione dello sweep\n",
    "sweep_config_wandb = {\n",
    "    'method': 'bayes',  # Ottimizzazione Bayesiana\n",
    "    'metric': {\n",
    "        'name': 'MSE',\n",
    "        'goal': 'minimize'\n",
    "    },\n",
    "    'parameters': {\n",
    "        'n_estimators': {'min': 50, 'max': 200, 'distribution': 'int_uniform'},\n",
    "        'max_depth': {'min': 10, 'max': 50, 'distribution': 'int_uniform'},\n",
    "    }\n",
    "}"
   ]
  },
  {
   "cell_type": "code",
   "execution_count": 17,
   "id": "bbb49f4d",
   "metadata": {
    "slideshow": {
     "slide_type": "subslide"
    }
   },
   "outputs": [
    {
     "name": "stdout",
     "output_type": "stream",
     "text": [
      "Create sweep with ID: 3l11xcii\n",
      "Sweep URL: https://wandb.ai/giacomomedda/ottimizzazione-iperparametri-diabetes/sweeps/3l11xcii\n"
     ]
    },
    {
     "name": "stderr",
     "output_type": "stream",
     "text": [
      "wandb: Agent Starting Run: abae067u with config:\n",
      "wandb: \tmax_depth: 12\n",
      "wandb: \tn_estimators: 171\n"
     ]
    },
    {
     "data": {
      "text/html": [
       "creating run (0.2s)"
      ],
      "text/plain": [
       "<IPython.core.display.HTML object>"
      ]
     },
     "metadata": {},
     "output_type": "display_data"
    },
    {
     "data": {
      "text/html": [
       "Tracking run with wandb version 0.19.11"
      ],
      "text/plain": [
       "<IPython.core.display.HTML object>"
      ]
     },
     "metadata": {},
     "output_type": "display_data"
    },
    {
     "data": {
      "text/html": [
       "Run data is saved locally in <code>C:\\Users\\jackm\\PythonProjects\\Tutoraggio-Ingegneria-del-Software_IADA_2024_2025\\lezioni\\4-Optimization\\wandb\\run-20250520_104153-abae067u</code>"
      ],
      "text/plain": [
       "<IPython.core.display.HTML object>"
      ]
     },
     "metadata": {},
     "output_type": "display_data"
    },
    {
     "data": {
      "text/html": [
       "Syncing run <strong><a href='https://wandb.ai/giacomomedda/ottimizzazione-iperparametri-diabetes/runs/abae067u' target=\"_blank\">pious-sweep-1</a></strong> to <a href='https://wandb.ai/giacomomedda/ottimizzazione-iperparametri-diabetes' target=\"_blank\">Weights & Biases</a> (<a href='https://wandb.me/developer-guide' target=\"_blank\">docs</a>)<br>Sweep page: <a href='https://wandb.ai/giacomomedda/ottimizzazione-iperparametri-diabetes/sweeps/3l11xcii' target=\"_blank\">https://wandb.ai/giacomomedda/ottimizzazione-iperparametri-diabetes/sweeps/3l11xcii</a>"
      ],
      "text/plain": [
       "<IPython.core.display.HTML object>"
      ]
     },
     "metadata": {},
     "output_type": "display_data"
    },
    {
     "data": {
      "text/html": [
       " View project at <a href='https://wandb.ai/giacomomedda/ottimizzazione-iperparametri-diabetes' target=\"_blank\">https://wandb.ai/giacomomedda/ottimizzazione-iperparametri-diabetes</a>"
      ],
      "text/plain": [
       "<IPython.core.display.HTML object>"
      ]
     },
     "metadata": {},
     "output_type": "display_data"
    },
    {
     "data": {
      "text/html": [
       " View sweep at <a href='https://wandb.ai/giacomomedda/ottimizzazione-iperparametri-diabetes/sweeps/3l11xcii' target=\"_blank\">https://wandb.ai/giacomomedda/ottimizzazione-iperparametri-diabetes/sweeps/3l11xcii</a>"
      ],
      "text/plain": [
       "<IPython.core.display.HTML object>"
      ]
     },
     "metadata": {},
     "output_type": "display_data"
    },
    {
     "data": {
      "text/html": [
       " View run at <a href='https://wandb.ai/giacomomedda/ottimizzazione-iperparametri-diabetes/runs/abae067u' target=\"_blank\">https://wandb.ai/giacomomedda/ottimizzazione-iperparametri-diabetes/runs/abae067u</a>"
      ],
      "text/plain": [
       "<IPython.core.display.HTML object>"
      ]
     },
     "metadata": {},
     "output_type": "display_data"
    },
    {
     "data": {
      "text/html": [],
      "text/plain": [
       "<IPython.core.display.HTML object>"
      ]
     },
     "metadata": {},
     "output_type": "display_data"
    },
    {
     "data": {
      "text/html": [
       "<br>    <style><br>        .wandb-row {<br>            display: flex;<br>            flex-direction: row;<br>            flex-wrap: wrap;<br>            justify-content: flex-start;<br>            width: 100%;<br>        }<br>        .wandb-col {<br>            display: flex;<br>            flex-direction: column;<br>            flex-basis: 100%;<br>            flex: 1;<br>            padding: 10px;<br>        }<br>    </style><br><div class=\"wandb-row\"><div class=\"wandb-col\"><h3>Run history:</h3><br/><table class=\"wandb\"><tr><td>MSE</td><td>▁</td></tr><tr><td>R2</td><td>▁</td></tr></table><br/></div><div class=\"wandb-col\"><h3>Run summary:</h3><br/><table class=\"wandb\"><tr><td>MSE</td><td>2972.76215</td></tr><tr><td>R2</td><td>0.45741</td></tr></table><br/></div></div>"
      ],
      "text/plain": [
       "<IPython.core.display.HTML object>"
      ]
     },
     "metadata": {},
     "output_type": "display_data"
    },
    {
     "data": {
      "text/html": [
       " View run <strong style=\"color:#cdcd00\">pious-sweep-1</strong> at: <a href='https://wandb.ai/giacomomedda/ottimizzazione-iperparametri-diabetes/runs/abae067u' target=\"_blank\">https://wandb.ai/giacomomedda/ottimizzazione-iperparametri-diabetes/runs/abae067u</a><br> View project at: <a href='https://wandb.ai/giacomomedda/ottimizzazione-iperparametri-diabetes' target=\"_blank\">https://wandb.ai/giacomomedda/ottimizzazione-iperparametri-diabetes</a><br>Synced 5 W&B file(s), 0 media file(s), 0 artifact file(s) and 0 other file(s)"
      ],
      "text/plain": [
       "<IPython.core.display.HTML object>"
      ]
     },
     "metadata": {},
     "output_type": "display_data"
    },
    {
     "data": {
      "text/html": [
       "Find logs at: <code>.\\wandb\\run-20250520_104153-abae067u\\logs</code>"
      ],
      "text/plain": [
       "<IPython.core.display.HTML object>"
      ]
     },
     "metadata": {},
     "output_type": "display_data"
    },
    {
     "name": "stderr",
     "output_type": "stream",
     "text": [
      "wandb: Agent Starting Run: jcg1jtrd with config:\n",
      "wandb: \tmax_depth: 22\n",
      "wandb: \tn_estimators: 179\n"
     ]
    },
    {
     "data": {
      "text/html": [
       "Tracking run with wandb version 0.19.11"
      ],
      "text/plain": [
       "<IPython.core.display.HTML object>"
      ]
     },
     "metadata": {},
     "output_type": "display_data"
    },
    {
     "data": {
      "text/html": [
       "Run data is saved locally in <code>C:\\Users\\jackm\\PythonProjects\\Tutoraggio-Ingegneria-del-Software_IADA_2024_2025\\lezioni\\4-Optimization\\wandb\\run-20250520_104208-jcg1jtrd</code>"
      ],
      "text/plain": [
       "<IPython.core.display.HTML object>"
      ]
     },
     "metadata": {},
     "output_type": "display_data"
    },
    {
     "data": {
      "text/html": [
       "Syncing run <strong><a href='https://wandb.ai/giacomomedda/ottimizzazione-iperparametri-diabetes/runs/jcg1jtrd' target=\"_blank\">stellar-sweep-2</a></strong> to <a href='https://wandb.ai/giacomomedda/ottimizzazione-iperparametri-diabetes' target=\"_blank\">Weights & Biases</a> (<a href='https://wandb.me/developer-guide' target=\"_blank\">docs</a>)<br>Sweep page: <a href='https://wandb.ai/giacomomedda/ottimizzazione-iperparametri-diabetes/sweeps/3l11xcii' target=\"_blank\">https://wandb.ai/giacomomedda/ottimizzazione-iperparametri-diabetes/sweeps/3l11xcii</a>"
      ],
      "text/plain": [
       "<IPython.core.display.HTML object>"
      ]
     },
     "metadata": {},
     "output_type": "display_data"
    },
    {
     "data": {
      "text/html": [
       " View project at <a href='https://wandb.ai/giacomomedda/ottimizzazione-iperparametri-diabetes' target=\"_blank\">https://wandb.ai/giacomomedda/ottimizzazione-iperparametri-diabetes</a>"
      ],
      "text/plain": [
       "<IPython.core.display.HTML object>"
      ]
     },
     "metadata": {},
     "output_type": "display_data"
    },
    {
     "data": {
      "text/html": [
       " View sweep at <a href='https://wandb.ai/giacomomedda/ottimizzazione-iperparametri-diabetes/sweeps/3l11xcii' target=\"_blank\">https://wandb.ai/giacomomedda/ottimizzazione-iperparametri-diabetes/sweeps/3l11xcii</a>"
      ],
      "text/plain": [
       "<IPython.core.display.HTML object>"
      ]
     },
     "metadata": {},
     "output_type": "display_data"
    },
    {
     "data": {
      "text/html": [
       " View run at <a href='https://wandb.ai/giacomomedda/ottimizzazione-iperparametri-diabetes/runs/jcg1jtrd' target=\"_blank\">https://wandb.ai/giacomomedda/ottimizzazione-iperparametri-diabetes/runs/jcg1jtrd</a>"
      ],
      "text/plain": [
       "<IPython.core.display.HTML object>"
      ]
     },
     "metadata": {},
     "output_type": "display_data"
    },
    {
     "data": {
      "text/html": [],
      "text/plain": [
       "<IPython.core.display.HTML object>"
      ]
     },
     "metadata": {},
     "output_type": "display_data"
    },
    {
     "data": {
      "text/html": [
       "<br>    <style><br>        .wandb-row {<br>            display: flex;<br>            flex-direction: row;<br>            flex-wrap: wrap;<br>            justify-content: flex-start;<br>            width: 100%;<br>        }<br>        .wandb-col {<br>            display: flex;<br>            flex-direction: column;<br>            flex-basis: 100%;<br>            flex: 1;<br>            padding: 10px;<br>        }<br>    </style><br><div class=\"wandb-row\"><div class=\"wandb-col\"><h3>Run history:</h3><br/><table class=\"wandb\"><tr><td>MSE</td><td>▁</td></tr><tr><td>R2</td><td>▁</td></tr></table><br/></div><div class=\"wandb-col\"><h3>Run summary:</h3><br/><table class=\"wandb\"><tr><td>MSE</td><td>2991.06825</td></tr><tr><td>R2</td><td>0.45407</td></tr></table><br/></div></div>"
      ],
      "text/plain": [
       "<IPython.core.display.HTML object>"
      ]
     },
     "metadata": {},
     "output_type": "display_data"
    },
    {
     "data": {
      "text/html": [
       " View run <strong style=\"color:#cdcd00\">stellar-sweep-2</strong> at: <a href='https://wandb.ai/giacomomedda/ottimizzazione-iperparametri-diabetes/runs/jcg1jtrd' target=\"_blank\">https://wandb.ai/giacomomedda/ottimizzazione-iperparametri-diabetes/runs/jcg1jtrd</a><br> View project at: <a href='https://wandb.ai/giacomomedda/ottimizzazione-iperparametri-diabetes' target=\"_blank\">https://wandb.ai/giacomomedda/ottimizzazione-iperparametri-diabetes</a><br>Synced 5 W&B file(s), 0 media file(s), 0 artifact file(s) and 0 other file(s)"
      ],
      "text/plain": [
       "<IPython.core.display.HTML object>"
      ]
     },
     "metadata": {},
     "output_type": "display_data"
    },
    {
     "data": {
      "text/html": [
       "Find logs at: <code>.\\wandb\\run-20250520_104208-jcg1jtrd\\logs</code>"
      ],
      "text/plain": [
       "<IPython.core.display.HTML object>"
      ]
     },
     "metadata": {},
     "output_type": "display_data"
    },
    {
     "name": "stderr",
     "output_type": "stream",
     "text": [
      "wandb: Sweep Agent: Waiting for job.\n",
      "wandb: Job received.\n",
      "wandb: Agent Starting Run: hgn1ntsw with config:\n",
      "wandb: \tmax_depth: 12\n",
      "wandb: \tn_estimators: 183\n"
     ]
    },
    {
     "data": {
      "text/html": [
       "Tracking run with wandb version 0.19.11"
      ],
      "text/plain": [
       "<IPython.core.display.HTML object>"
      ]
     },
     "metadata": {},
     "output_type": "display_data"
    },
    {
     "data": {
      "text/html": [
       "Run data is saved locally in <code>C:\\Users\\jackm\\PythonProjects\\Tutoraggio-Ingegneria-del-Software_IADA_2024_2025\\lezioni\\4-Optimization\\wandb\\run-20250520_104224-hgn1ntsw</code>"
      ],
      "text/plain": [
       "<IPython.core.display.HTML object>"
      ]
     },
     "metadata": {},
     "output_type": "display_data"
    },
    {
     "data": {
      "text/html": [
       "Syncing run <strong><a href='https://wandb.ai/giacomomedda/ottimizzazione-iperparametri-diabetes/runs/hgn1ntsw' target=\"_blank\">leafy-sweep-3</a></strong> to <a href='https://wandb.ai/giacomomedda/ottimizzazione-iperparametri-diabetes' target=\"_blank\">Weights & Biases</a> (<a href='https://wandb.me/developer-guide' target=\"_blank\">docs</a>)<br>Sweep page: <a href='https://wandb.ai/giacomomedda/ottimizzazione-iperparametri-diabetes/sweeps/3l11xcii' target=\"_blank\">https://wandb.ai/giacomomedda/ottimizzazione-iperparametri-diabetes/sweeps/3l11xcii</a>"
      ],
      "text/plain": [
       "<IPython.core.display.HTML object>"
      ]
     },
     "metadata": {},
     "output_type": "display_data"
    },
    {
     "data": {
      "text/html": [
       " View project at <a href='https://wandb.ai/giacomomedda/ottimizzazione-iperparametri-diabetes' target=\"_blank\">https://wandb.ai/giacomomedda/ottimizzazione-iperparametri-diabetes</a>"
      ],
      "text/plain": [
       "<IPython.core.display.HTML object>"
      ]
     },
     "metadata": {},
     "output_type": "display_data"
    },
    {
     "data": {
      "text/html": [
       " View sweep at <a href='https://wandb.ai/giacomomedda/ottimizzazione-iperparametri-diabetes/sweeps/3l11xcii' target=\"_blank\">https://wandb.ai/giacomomedda/ottimizzazione-iperparametri-diabetes/sweeps/3l11xcii</a>"
      ],
      "text/plain": [
       "<IPython.core.display.HTML object>"
      ]
     },
     "metadata": {},
     "output_type": "display_data"
    },
    {
     "data": {
      "text/html": [
       " View run at <a href='https://wandb.ai/giacomomedda/ottimizzazione-iperparametri-diabetes/runs/hgn1ntsw' target=\"_blank\">https://wandb.ai/giacomomedda/ottimizzazione-iperparametri-diabetes/runs/hgn1ntsw</a>"
      ],
      "text/plain": [
       "<IPython.core.display.HTML object>"
      ]
     },
     "metadata": {},
     "output_type": "display_data"
    },
    {
     "data": {
      "text/html": [],
      "text/plain": [
       "<IPython.core.display.HTML object>"
      ]
     },
     "metadata": {},
     "output_type": "display_data"
    },
    {
     "data": {
      "text/html": [
       "<br>    <style><br>        .wandb-row {<br>            display: flex;<br>            flex-direction: row;<br>            flex-wrap: wrap;<br>            justify-content: flex-start;<br>            width: 100%;<br>        }<br>        .wandb-col {<br>            display: flex;<br>            flex-direction: column;<br>            flex-basis: 100%;<br>            flex: 1;<br>            padding: 10px;<br>        }<br>    </style><br><div class=\"wandb-row\"><div class=\"wandb-col\"><h3>Run history:</h3><br/><table class=\"wandb\"><tr><td>MSE</td><td>▁</td></tr><tr><td>R2</td><td>▁</td></tr></table><br/></div><div class=\"wandb-col\"><h3>Run summary:</h3><br/><table class=\"wandb\"><tr><td>MSE</td><td>2973.38808</td></tr><tr><td>R2</td><td>0.45729</td></tr></table><br/></div></div>"
      ],
      "text/plain": [
       "<IPython.core.display.HTML object>"
      ]
     },
     "metadata": {},
     "output_type": "display_data"
    },
    {
     "data": {
      "text/html": [
       " View run <strong style=\"color:#cdcd00\">leafy-sweep-3</strong> at: <a href='https://wandb.ai/giacomomedda/ottimizzazione-iperparametri-diabetes/runs/hgn1ntsw' target=\"_blank\">https://wandb.ai/giacomomedda/ottimizzazione-iperparametri-diabetes/runs/hgn1ntsw</a><br> View project at: <a href='https://wandb.ai/giacomomedda/ottimizzazione-iperparametri-diabetes' target=\"_blank\">https://wandb.ai/giacomomedda/ottimizzazione-iperparametri-diabetes</a><br>Synced 5 W&B file(s), 0 media file(s), 0 artifact file(s) and 0 other file(s)"
      ],
      "text/plain": [
       "<IPython.core.display.HTML object>"
      ]
     },
     "metadata": {},
     "output_type": "display_data"
    },
    {
     "data": {
      "text/html": [
       "Find logs at: <code>.\\wandb\\run-20250520_104224-hgn1ntsw\\logs</code>"
      ],
      "text/plain": [
       "<IPython.core.display.HTML object>"
      ]
     },
     "metadata": {},
     "output_type": "display_data"
    },
    {
     "name": "stderr",
     "output_type": "stream",
     "text": [
      "wandb: Sweep Agent: Waiting for job.\n",
      "wandb: Job received.\n",
      "wandb: Agent Starting Run: jngwm8tj with config:\n",
      "wandb: \tmax_depth: 10\n",
      "wandb: \tn_estimators: 177\n"
     ]
    },
    {
     "data": {
      "text/html": [
       "Tracking run with wandb version 0.19.11"
      ],
      "text/plain": [
       "<IPython.core.display.HTML object>"
      ]
     },
     "metadata": {},
     "output_type": "display_data"
    },
    {
     "data": {
      "text/html": [
       "Run data is saved locally in <code>C:\\Users\\jackm\\PythonProjects\\Tutoraggio-Ingegneria-del-Software_IADA_2024_2025\\lezioni\\4-Optimization\\wandb\\run-20250520_104240-jngwm8tj</code>"
      ],
      "text/plain": [
       "<IPython.core.display.HTML object>"
      ]
     },
     "metadata": {},
     "output_type": "display_data"
    },
    {
     "data": {
      "text/html": [
       "Syncing run <strong><a href='https://wandb.ai/giacomomedda/ottimizzazione-iperparametri-diabetes/runs/jngwm8tj' target=\"_blank\">graceful-sweep-4</a></strong> to <a href='https://wandb.ai/giacomomedda/ottimizzazione-iperparametri-diabetes' target=\"_blank\">Weights & Biases</a> (<a href='https://wandb.me/developer-guide' target=\"_blank\">docs</a>)<br>Sweep page: <a href='https://wandb.ai/giacomomedda/ottimizzazione-iperparametri-diabetes/sweeps/3l11xcii' target=\"_blank\">https://wandb.ai/giacomomedda/ottimizzazione-iperparametri-diabetes/sweeps/3l11xcii</a>"
      ],
      "text/plain": [
       "<IPython.core.display.HTML object>"
      ]
     },
     "metadata": {},
     "output_type": "display_data"
    },
    {
     "data": {
      "text/html": [
       " View project at <a href='https://wandb.ai/giacomomedda/ottimizzazione-iperparametri-diabetes' target=\"_blank\">https://wandb.ai/giacomomedda/ottimizzazione-iperparametri-diabetes</a>"
      ],
      "text/plain": [
       "<IPython.core.display.HTML object>"
      ]
     },
     "metadata": {},
     "output_type": "display_data"
    },
    {
     "data": {
      "text/html": [
       " View sweep at <a href='https://wandb.ai/giacomomedda/ottimizzazione-iperparametri-diabetes/sweeps/3l11xcii' target=\"_blank\">https://wandb.ai/giacomomedda/ottimizzazione-iperparametri-diabetes/sweeps/3l11xcii</a>"
      ],
      "text/plain": [
       "<IPython.core.display.HTML object>"
      ]
     },
     "metadata": {},
     "output_type": "display_data"
    },
    {
     "data": {
      "text/html": [
       " View run at <a href='https://wandb.ai/giacomomedda/ottimizzazione-iperparametri-diabetes/runs/jngwm8tj' target=\"_blank\">https://wandb.ai/giacomomedda/ottimizzazione-iperparametri-diabetes/runs/jngwm8tj</a>"
      ],
      "text/plain": [
       "<IPython.core.display.HTML object>"
      ]
     },
     "metadata": {},
     "output_type": "display_data"
    },
    {
     "data": {
      "text/html": [],
      "text/plain": [
       "<IPython.core.display.HTML object>"
      ]
     },
     "metadata": {},
     "output_type": "display_data"
    },
    {
     "data": {
      "text/html": [
       "<br>    <style><br>        .wandb-row {<br>            display: flex;<br>            flex-direction: row;<br>            flex-wrap: wrap;<br>            justify-content: flex-start;<br>            width: 100%;<br>        }<br>        .wandb-col {<br>            display: flex;<br>            flex-direction: column;<br>            flex-basis: 100%;<br>            flex: 1;<br>            padding: 10px;<br>        }<br>    </style><br><div class=\"wandb-row\"><div class=\"wandb-col\"><h3>Run history:</h3><br/><table class=\"wandb\"><tr><td>MSE</td><td>▁</td></tr><tr><td>R2</td><td>▁</td></tr></table><br/></div><div class=\"wandb-col\"><h3>Run summary:</h3><br/><table class=\"wandb\"><tr><td>MSE</td><td>2975.5872</td></tr><tr><td>R2</td><td>0.45689</td></tr></table><br/></div></div>"
      ],
      "text/plain": [
       "<IPython.core.display.HTML object>"
      ]
     },
     "metadata": {},
     "output_type": "display_data"
    },
    {
     "data": {
      "text/html": [
       " View run <strong style=\"color:#cdcd00\">graceful-sweep-4</strong> at: <a href='https://wandb.ai/giacomomedda/ottimizzazione-iperparametri-diabetes/runs/jngwm8tj' target=\"_blank\">https://wandb.ai/giacomomedda/ottimizzazione-iperparametri-diabetes/runs/jngwm8tj</a><br> View project at: <a href='https://wandb.ai/giacomomedda/ottimizzazione-iperparametri-diabetes' target=\"_blank\">https://wandb.ai/giacomomedda/ottimizzazione-iperparametri-diabetes</a><br>Synced 5 W&B file(s), 0 media file(s), 0 artifact file(s) and 0 other file(s)"
      ],
      "text/plain": [
       "<IPython.core.display.HTML object>"
      ]
     },
     "metadata": {},
     "output_type": "display_data"
    },
    {
     "data": {
      "text/html": [
       "Find logs at: <code>.\\wandb\\run-20250520_104240-jngwm8tj\\logs</code>"
      ],
      "text/plain": [
       "<IPython.core.display.HTML object>"
      ]
     },
     "metadata": {},
     "output_type": "display_data"
    },
    {
     "name": "stderr",
     "output_type": "stream",
     "text": [
      "wandb: Agent Starting Run: vn29w0o5 with config:\n",
      "wandb: \tmax_depth: 31\n",
      "wandb: \tn_estimators: 155\n"
     ]
    },
    {
     "data": {
      "text/html": [
       "Tracking run with wandb version 0.19.11"
      ],
      "text/plain": [
       "<IPython.core.display.HTML object>"
      ]
     },
     "metadata": {},
     "output_type": "display_data"
    },
    {
     "data": {
      "text/html": [
       "Run data is saved locally in <code>C:\\Users\\jackm\\PythonProjects\\Tutoraggio-Ingegneria-del-Software_IADA_2024_2025\\lezioni\\4-Optimization\\wandb\\run-20250520_104245-vn29w0o5</code>"
      ],
      "text/plain": [
       "<IPython.core.display.HTML object>"
      ]
     },
     "metadata": {},
     "output_type": "display_data"
    },
    {
     "data": {
      "text/html": [
       "Syncing run <strong><a href='https://wandb.ai/giacomomedda/ottimizzazione-iperparametri-diabetes/runs/vn29w0o5' target=\"_blank\">helpful-sweep-5</a></strong> to <a href='https://wandb.ai/giacomomedda/ottimizzazione-iperparametri-diabetes' target=\"_blank\">Weights & Biases</a> (<a href='https://wandb.me/developer-guide' target=\"_blank\">docs</a>)<br>Sweep page: <a href='https://wandb.ai/giacomomedda/ottimizzazione-iperparametri-diabetes/sweeps/3l11xcii' target=\"_blank\">https://wandb.ai/giacomomedda/ottimizzazione-iperparametri-diabetes/sweeps/3l11xcii</a>"
      ],
      "text/plain": [
       "<IPython.core.display.HTML object>"
      ]
     },
     "metadata": {},
     "output_type": "display_data"
    },
    {
     "data": {
      "text/html": [
       " View project at <a href='https://wandb.ai/giacomomedda/ottimizzazione-iperparametri-diabetes' target=\"_blank\">https://wandb.ai/giacomomedda/ottimizzazione-iperparametri-diabetes</a>"
      ],
      "text/plain": [
       "<IPython.core.display.HTML object>"
      ]
     },
     "metadata": {},
     "output_type": "display_data"
    },
    {
     "data": {
      "text/html": [
       " View sweep at <a href='https://wandb.ai/giacomomedda/ottimizzazione-iperparametri-diabetes/sweeps/3l11xcii' target=\"_blank\">https://wandb.ai/giacomomedda/ottimizzazione-iperparametri-diabetes/sweeps/3l11xcii</a>"
      ],
      "text/plain": [
       "<IPython.core.display.HTML object>"
      ]
     },
     "metadata": {},
     "output_type": "display_data"
    },
    {
     "data": {
      "text/html": [
       " View run at <a href='https://wandb.ai/giacomomedda/ottimizzazione-iperparametri-diabetes/runs/vn29w0o5' target=\"_blank\">https://wandb.ai/giacomomedda/ottimizzazione-iperparametri-diabetes/runs/vn29w0o5</a>"
      ],
      "text/plain": [
       "<IPython.core.display.HTML object>"
      ]
     },
     "metadata": {},
     "output_type": "display_data"
    },
    {
     "data": {
      "text/html": [],
      "text/plain": [
       "<IPython.core.display.HTML object>"
      ]
     },
     "metadata": {},
     "output_type": "display_data"
    },
    {
     "data": {
      "text/html": [
       "<br>    <style><br>        .wandb-row {<br>            display: flex;<br>            flex-direction: row;<br>            flex-wrap: wrap;<br>            justify-content: flex-start;<br>            width: 100%;<br>        }<br>        .wandb-col {<br>            display: flex;<br>            flex-direction: column;<br>            flex-basis: 100%;<br>            flex: 1;<br>            padding: 10px;<br>        }<br>    </style><br><div class=\"wandb-row\"><div class=\"wandb-col\"><h3>Run history:</h3><br/><table class=\"wandb\"><tr><td>MSE</td><td>▁</td></tr><tr><td>R2</td><td>▁</td></tr></table><br/></div><div class=\"wandb-col\"><h3>Run summary:</h3><br/><table class=\"wandb\"><tr><td>MSE</td><td>2998.32728</td></tr><tr><td>R2</td><td>0.45274</td></tr></table><br/></div></div>"
      ],
      "text/plain": [
       "<IPython.core.display.HTML object>"
      ]
     },
     "metadata": {},
     "output_type": "display_data"
    },
    {
     "data": {
      "text/html": [
       " View run <strong style=\"color:#cdcd00\">helpful-sweep-5</strong> at: <a href='https://wandb.ai/giacomomedda/ottimizzazione-iperparametri-diabetes/runs/vn29w0o5' target=\"_blank\">https://wandb.ai/giacomomedda/ottimizzazione-iperparametri-diabetes/runs/vn29w0o5</a><br> View project at: <a href='https://wandb.ai/giacomomedda/ottimizzazione-iperparametri-diabetes' target=\"_blank\">https://wandb.ai/giacomomedda/ottimizzazione-iperparametri-diabetes</a><br>Synced 5 W&B file(s), 0 media file(s), 0 artifact file(s) and 0 other file(s)"
      ],
      "text/plain": [
       "<IPython.core.display.HTML object>"
      ]
     },
     "metadata": {},
     "output_type": "display_data"
    },
    {
     "data": {
      "text/html": [
       "Find logs at: <code>.\\wandb\\run-20250520_104245-vn29w0o5\\logs</code>"
      ],
      "text/plain": [
       "<IPython.core.display.HTML object>"
      ]
     },
     "metadata": {},
     "output_type": "display_data"
    }
   ],
   "source": [
    "# Per eseguire lo sweep, decommentare le righe seguenti:\n",
    "sweep_id = wandb.sweep(sweep_config_wandb, project=\"ottimizzazione-iperparametri-diabetes\")\n",
    "wandb.agent(sweep_id, train_wandb, count=5) # 5 trial"
   ]
  },
  {
   "cell_type": "markdown",
   "id": "f83b54cf",
   "metadata": {
    "slideshow": {
     "slide_type": "subslide"
    }
   },
   "source": [
    "## Confronto dei Framework di Ottimizzazione\n",
    "\n",
    "| Framework | Vantaggi | Limitazioni | Applicazioni ideali |\n",
    "|-----------|----------|-------------|---------------------|\n",
    "| Grid Search | Semplice, esaustivo, facile da interpretare | Inefficiente per spazi ampi, cresce esponenzialmente | Spazi di ricerca piccoli, pochi iperparametri |\n",
    "| Random Search | Più efficiente di Grid Search, facile da parallelizzare | Non sfrutta informazioni dai trial precedenti | Budget computazionale limitato |\n",
    "| Optuna | API flessibile, pruning automatico, visualizzazioni | Richiede più configurazione | Ottimizzazione fine, spazi complessi |\n",
    "| Ray Tune | Altamente distribuito, scalabile | Più complesso da impostare | Cluster HPC, hyperparameter tuning distribuito |\n",
    "| W&B Sweeps | Tracciamento completo, collaborativo | Richiede un account | Team ML, tracciamento esperimenti |"
   ]
  },
  {
   "cell_type": "markdown",
   "id": "c8a442df",
   "metadata": {
    "slideshow": {
     "slide_type": "subslide"
    }
   },
   "source": [
    "### Migliori Pratiche per l'Ottimizzazione degli Iperparametri\n",
    "\n",
    "1. **Iniziare con uno spazio di ricerca ragionevole**: Non renderlo inizialmente troppo ampio.\n",
    "2. **Utilizzare un set di validazione dedicato**: Ottimizzare su dati diversi dal test finale.\n",
    "3. **Sfruttare l'early stopping**: Interrompere i trial non promettenti.\n",
    "4. **Tenere traccia di tutti gli esperimenti**: La riproducibilità è fondamentale.\n",
    "5. **Analizzare l'importanza degli iperparametri**: Capire quali parametri contano di più.\n",
    "6. **Considerare i compromessi computazionali**: Bilanciare numero di trial e costo per trial."
   ]
  },
  {
   "cell_type": "markdown",
   "id": "56903825",
   "metadata": {
    "slideshow": {
     "slide_type": "fragment"
    }
   },
   "source": [
    "Combinando questi framework con buone pratiche, è possibile migliorare significativamente le prestazioni dei modelli ottimizzando gli iperparametri in modo efficiente."
   ]
  }
 ],
 "metadata": {
  "kernelspec": {
   "display_name": "Python 3 (ipykernel)",
   "language": "python",
   "name": "python3"
  },
  "language_info": {
   "codemirror_mode": {
    "name": "ipython",
    "version": 3
   },
   "file_extension": ".py",
   "mimetype": "text/x-python",
   "name": "python",
   "nbconvert_exporter": "python",
   "pygments_lexer": "ipython3",
   "version": "3.8.10"
  }
 },
 "nbformat": 4,
 "nbformat_minor": 5
}
