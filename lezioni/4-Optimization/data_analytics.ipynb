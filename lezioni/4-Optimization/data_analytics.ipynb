{
 "cells": [
  {
   "cell_type": "markdown",
   "id": "c6f6ce2e",
   "metadata": {
    "slideshow": {
     "slide_type": "slide"
    }
   },
   "source": [
    "# Ottimizzazione Data Analytics\n",
    "\n",
    "Una panoramica delle librerie per la manipolazione dati in Python"
   ]
  },
  {
   "cell_type": "code",
   "execution_count": null,
   "id": "df02d90f",
   "metadata": {
    "slideshow": {
     "slide_type": "subslide"
    }
   },
   "outputs": [],
   "source": [
    "# Setup delle dipendenze (eseguire solo se necessario)\n",
    "# !pip install pyarrow pandas polars"
   ]
  },
  {
   "cell_type": "markdown",
   "id": "b8e7b1d2-45fd-4604-9a02-123b50e46a48",
   "metadata": {
    "ExecuteTime": {
     "end_time": "2024-04-24T15:20:46.994903400Z",
     "start_time": "2024-04-24T15:20:46.986614200Z"
    },
    "slideshow": {
     "slide_type": "subslide"
    },
    "tags": []
   },
   "source": [
    "## Pandas: Il Data Frame Standard\n",
    "\n",
    "**Pandas** è diventato lo standard de facto per la manipolazione dei dati in Python, offrendo:\n",
    "\n",
    "- Una sintassi intuitiva per la manipolazione di tabelle\n",
    "- Funzioni per caricamento e salvataggio dati da vari formati\n",
    "- Strumenti per pulizia, trasformazione e analisi dei dati\n",
    "- Integrazione profonda con l'ecosistema scientifico Python"
   ]
  },
  {
   "cell_type": "markdown",
   "id": "c329e4ad-7924-4bc8-8317-0c17f005fd26",
   "metadata": {
    "ExecuteTime": {
     "end_time": "2024-04-24T15:20:46.994903400Z",
     "start_time": "2024-04-24T15:20:46.986614200Z"
    },
    "cell_style": "center",
    "slideshow": {
     "slide_type": "subslide"
    },
    "tags": []
   },
   "source": [
    "## I Limiti di Pandas\n",
    "\n",
    "Con l'aumento delle dimensioni dei dati, Pandas presenta diverse limitazioni:\n",
    "\n",
    "1. **Prestazioni**: implementato in Python/C, con overhead legato al GIL\n",
    "2. **Memoria**: carica l'intero dataset in RAM\n",
    "3. **Parallelismo**: limitato supporto per elaborazione parallela\n",
    "4. **Tipo Dati**: gestione inefficiente di alcuni tipi (es. stringhe, liste)\n",
    "5. **Scalabilità**: difficoltà con dataset che superano la RAM disponibile"
   ]
  },
  {
   "cell_type": "markdown",
   "id": "362a5ff5-0f07-4aa1-a805-164a205ff74f",
   "metadata": {
    "ExecuteTime": {
     "end_time": "2024-04-24T15:20:46.994903400Z",
     "start_time": "2024-04-24T15:20:46.986614200Z"
    },
    "cell_style": "center",
    "slideshow": {
     "slide_type": "subslide"
    },
    "tags": []
   },
   "source": [
    "## Alternative a Pandas\n",
    "\n",
    "Diverse librerie sono state sviluppate per superare i limiti di Pandas:"
   ]
  },
  {
   "cell_type": "markdown",
   "id": "99de6504",
   "metadata": {
    "slideshow": {
     "slide_type": "subslide"
    }
   },
   "source": [
    "**Polars**: libreria per DataFrame scritta in Rust, basata su Apache Arrow\n",
    "- Performance nettamente superiori\n",
    "- Elaborazione in parallelo di default\n",
    "- Valutazione pigra (lazy evaluation) per ottimizzazione automatica\n",
    "- API simile a Pandas ma più moderna"
   ]
  },
  {
   "cell_type": "markdown",
   "id": "47e38ab7",
   "metadata": {
    "slideshow": {
     "slide_type": "slide"
    }
   },
   "source": [
    "**Dask**: estende Pandas e NumPy parallelizzando operazioni su cluster\n",
    "- API quasi identica a Pandas (facile transizione)\n",
    "- Elaborazione distribuita\n",
    "- Gestione di dataset più grandi della memoria disponibile\n",
    "- Integrazione con l'ecosistema scientifico"
   ]
  },
  {
   "cell_type": "markdown",
   "id": "5e1846e8",
   "metadata": {
    "slideshow": {
     "slide_type": "slide"
    }
   },
   "source": [
    "**cuDF (RAPIDS)**: implementazione GPU-accelerated di Pandas\n",
    "- Accelerazione tramite GPU NVIDIA\n",
    "- API simile a Pandas\n",
    "- Integrabile con ecosistema RAPIDS per machine learning su GPU"
   ]
  },
  {
   "cell_type": "markdown",
   "id": "176efc01",
   "metadata": {
    "slideshow": {
     "slide_type": "slide"
    }
   },
   "source": [
    "**DuckDB**: motore di database analitico per DataFrame in-process\n",
    "- Esecuzione di query SQL su DataFrame\n",
    "- Performance fino a 10-100x più veloci di SQLite\n",
    "- Ottimizzato per analisi OLAP\n",
    "- Perfetta integrazione con Pandas e Apache Arrow"
   ]
  },
  {
   "cell_type": "markdown",
   "id": "56f7aced",
   "metadata": {
    "slideshow": {
     "slide_type": "subslide"
    }
   },
   "source": [
    "## Ottimizzare Pandas\n",
    "\n",
    "Prima di passare ad alternative, si può migliorare Pandas con alcune tecniche:"
   ]
  },
  {
   "cell_type": "markdown",
   "id": "ce8ca705",
   "metadata": {
    "slideshow": {
     "slide_type": "fragment"
    }
   },
   "source": [
    "1. **Caricamento selettivo**: usare `usecols` per leggere solo le colonne necessarie\n",
    "2. **Tipi di dato ottimali**: specificare `dtype` o usare `pd.Categorical` per dati categorici\n",
    "3. **Chunking**: processare dati in blocchi con `chunksize`\n",
    "4. **PyArrow**: utilizzare `engine='pyarrow'` per lettura/scrittura più veloce\n",
    "5. **Vettorializzare**: preferire operazioni vettoriali invece di loop Python\n",
    "6. **Query**: usare `df.query()` per espressioni complesse"
   ]
  },
  {
   "cell_type": "code",
   "execution_count": null,
   "id": "b627917b",
   "metadata": {
    "slideshow": {
     "slide_type": "subslide"
    }
   },
   "outputs": [],
   "source": [
    "import pandas as pd\n",
    "\n",
    "# Configurazione per la visualizzazione\n",
    "pd.set_option('display.max_rows', 6)\n",
    "pd.set_option(\"max_colwidth\", 15)"
   ]
  },
  {
   "cell_type": "code",
   "execution_count": null,
   "id": "03c1b73c",
   "metadata": {
    "slideshow": {
     "slide_type": "fragment"
    }
   },
   "outputs": [],
   "source": [
    "# Esempio di caricamento ottimizzato\n",
    "# 1. Uso di usecols per selezionare solo colonne specifiche\n",
    "# 2. Uso di dtype per specificare tipi esatti\n",
    "# 3. Uso di engine='pyarrow' per prestazioni migliori\n",
    "\n",
    "colonne = ['B', 'C']\n",
    "tipi = {'B': 'int32', 'C': 'string'}\n",
    "\n",
    "# Commentato per evitare l'esecuzione che consuma tempo\n",
    "pd.read_csv('data.csv', \n",
    "            usecols=colonne, \n",
    "            dtype=tipi, \n",
    "            engine='pyarrow')"
   ]
  },
  {
   "cell_type": "code",
   "execution_count": null,
   "id": "b68bd47a",
   "metadata": {
    "slideshow": {
     "slide_type": "subslide"
    }
   },
   "outputs": [],
   "source": [
    "# Esempio di caricamento con chunk per gestire dataset grandi\n",
    "\n",
    "result_df = []\n",
    "for i, chunk in enumerate(pd.read_csv(\"data.csv\", chunksize=2)):\n",
    "    print(f\"Lunghezza del chunk # {i}: {len(chunk)}\")\n",
    "    chunk['A'] = chunk['A'].mean()\n",
    "    \n",
    "    result_df.append(chunk)\n",
    "pd.concat(result_df, ignore_index=True)  # Unione dei chunk filtrati"
   ]
  },
  {
   "cell_type": "markdown",
   "id": "578af220",
   "metadata": {
    "slideshow": {
     "slide_type": "slide"
    }
   },
   "source": [
    "# Focus su Polars\n",
    "\n",
    "Approfondiamo ora **Polars**, una delle alternative più promettenti a Pandas:"
   ]
  },
  {
   "cell_type": "code",
   "execution_count": null,
   "id": "1c48d18e",
   "metadata": {
    "slideshow": {
     "slide_type": "fragment"
    }
   },
   "outputs": [],
   "source": [
    "import polars as pl\n",
    "\n",
    "# Configurazione per la visualizzazione\n",
    "pl.Config().set_tbl_rows(6)"
   ]
  },
  {
   "cell_type": "markdown",
   "id": "c7f10980",
   "metadata": {
    "slideshow": {
     "slide_type": "subslide"
    }
   },
   "source": [
    "## Pandas vs Polars\n",
    "\n",
    "| **Pandas** | **Polars** |\n",
    "|------------|------------|\n",
    "| Indice Row-oriented | Column-oriented (Apache Arrow) |\n",
    "| Operazioni in-place | Operazioni immutabili (funzionale) |\n",
    "| GIL Python limita parallelismo | Computazioni parallele in Rust |\n",
    "| NA, None, NaN, ecc. | Concetto unificato di null |"
   ]
  },
  {
   "cell_type": "markdown",
   "id": "95447ca3",
   "metadata": {
    "slideshow": {
     "slide_type": "subslide"
    }
   },
   "source": [
    "## Creazione e I/O in Polars vs Pandas"
   ]
  },
  {
   "cell_type": "code",
   "execution_count": null,
   "id": "785b8a96",
   "metadata": {
    "slideshow": {
     "slide_type": "fragment"
    }
   },
   "outputs": [],
   "source": [
    "# Creazione DataFrame in Pandas\n",
    "pandas_df = pd.DataFrame({\n",
    "    'A': [1, 2, 3, 4, 5],\n",
    "    'B': [10, 20, 30, 40, 50],\n",
    "    'C': ['a', 'b', 'c', 'd', 'e']\n",
    "})\n",
    "\n",
    "pandas_df"
   ]
  },
  {
   "cell_type": "code",
   "execution_count": null,
   "id": "719e019e",
   "metadata": {
    "slideshow": {
     "slide_type": "fragment"
    }
   },
   "outputs": [],
   "source": [
    "# Creazione DataFrame in Polars\n",
    "polars_df = pl.DataFrame({\n",
    "    'A': [1, 2, 3, 4, 5],\n",
    "    'B': [10, 20, 30, 40, 50],\n",
    "    'C': ['a', 'b', 'c', 'd', 'e']\n",
    "})\n",
    "\n",
    "polars_df"
   ]
  },
  {
   "cell_type": "code",
   "execution_count": null,
   "id": "9026b648",
   "metadata": {
    "slideshow": {
     "slide_type": "subslide"
    }
   },
   "outputs": [],
   "source": [
    "# Tipi dati in Pandas vs Polars\n",
    "print(\"Pandas dtypes:\")\n",
    "print(pandas_df.dtypes)\n",
    "print(\"\\nPolars dtypes:\")\n",
    "print(polars_df.dtypes)"
   ]
  },
  {
   "cell_type": "code",
   "execution_count": null,
   "id": "21a4f703",
   "metadata": {
    "slideshow": {
     "slide_type": "subslide"
    }
   },
   "outputs": [],
   "source": [
    "# I/O confronto: sintassi equivalente ma internamente molto diversa\n",
    "\n",
    "# Pandas\n",
    "pandas_df.to_csv(\"data.csv\")\n",
    "df_pandas = pd.read_csv(\"data.csv\")\n",
    "\n",
    "# Polars\n",
    "polars_df.write_csv(\"data.csv\")\n",
    "df_polars = pl.read_csv(\"data.csv\")"
   ]
  },
  {
   "cell_type": "code",
   "execution_count": null,
   "id": "898c414e",
   "metadata": {
    "slideshow": {
     "slide_type": "fragment"
    }
   },
   "outputs": [],
   "source": [
    "# Con Polars si può usare anche l'API Lazy\n",
    "df_lazy = pl.scan_csv(\"data.csv\")\n",
    "df_lazy"
   ]
  },
  {
   "cell_type": "markdown",
   "id": "4cbb2bd4",
   "metadata": {
    "slideshow": {
     "slide_type": "subslide"
    }
   },
   "source": [
    "## Principali Differenze: Context e Expressions\n",
    "\n",
    "Polars introduce due concetti fondamentali per manipolare i dati:\n",
    "\n",
    "1. **Context**: in quale contesto un'espressione viene valutata\n",
    "2. **Expressions**: operazioni su colonne definite tramite API fluida"
   ]
  },
  {
   "cell_type": "markdown",
   "id": "4901ac47",
   "metadata": {
    "slideshow": {
     "slide_type": "subslide"
    }
   },
   "source": [
    "### I Tre Context di Polars:\n",
    "\n",
    "1. **Selection**: `df.select(...)` e `df.with_columns(...)`\n",
    "2. **Filtering**: `df.filter(...)`\n",
    "3. **Aggregation**: `df.group_by(...).agg(...)`\n",
    "\n",
    "Ogni contesto interpreta le expressions in modo diverso."
   ]
  },
  {
   "cell_type": "markdown",
   "id": "4c392cc8",
   "metadata": {
    "slideshow": {
     "slide_type": "subslide"
    }
   },
   "source": [
    "## Pandas vs Polars: Selezione Colonne"
   ]
  },
  {
   "cell_type": "code",
   "execution_count": null,
   "id": "9dc33938",
   "metadata": {
    "slideshow": {
     "slide_type": "fragment"
    }
   },
   "outputs": [],
   "source": [
    "# Pandas: selezione colonne\n",
    "pandas_df[['A', 'B']]  # Sintassi classica\n",
    "# Alternativa: pandas_df.loc[:, ['A', 'B']]"
   ]
  },
  {
   "cell_type": "code",
   "execution_count": null,
   "id": "a5d858c9",
   "metadata": {
    "slideshow": {
     "slide_type": "fragment"
    }
   },
   "outputs": [],
   "source": [
    "# Polars: selezione colonne\n",
    "polars_df.select(['A', 'B'])  # Sintassi esplicita\n",
    "# Alternativa: polars_df.select(pl.col(['A', 'B']))"
   ]
  },
  {
   "cell_type": "markdown",
   "id": "47d9258f",
   "metadata": {
    "slideshow": {
     "slide_type": "subslide"
    }
   },
   "source": [
    "## Pandas vs Polars: Trasformazione Colonne"
   ]
  },
  {
   "cell_type": "code",
   "execution_count": null,
   "id": "8f945d3b",
   "metadata": {
    "slideshow": {
     "slide_type": "fragment"
    }
   },
   "outputs": [],
   "source": [
    "# Pandas: aggiungere/modificare colonne\n",
    "pandas_df_mod = pandas_df.copy()\n",
    "pandas_df_mod['D'] = pandas_df_mod['A'] * 100  # Nuova colonna\n",
    "pandas_df_mod['B'] = pandas_df_mod['B'] + 5    # Modifica colonna esistente\n",
    "pandas_df_mod"
   ]
  },
  {
   "cell_type": "code",
   "execution_count": null,
   "id": "332cde97",
   "metadata": {
    "slideshow": {
     "slide_type": "fragment"
    }
   },
   "outputs": [],
   "source": [
    "# Polars: aggiungere/modificare colonne\n",
    "polars_df.with_columns([\n",
    "    pl.col(\"A\") * 100,         # Sovrascrive \"A\"\n",
    "    (pl.col(\"B\") + 5).alias(\"B\"),  # Sovrascrive \"B\"\n",
    "    pl.col(\"A\").mul(100).alias(\"D\")  # Nuova colonna\n",
    "])"
   ]
  },
  {
   "cell_type": "markdown",
   "id": "84e20206",
   "metadata": {
    "slideshow": {
     "slide_type": "subslide"
    }
   },
   "source": [
    "## Pandas vs Polars: Filtri"
   ]
  },
  {
   "cell_type": "code",
   "execution_count": null,
   "id": "9b54bf57",
   "metadata": {
    "slideshow": {
     "slide_type": "fragment"
    }
   },
   "outputs": [],
   "source": [
    "# Pandas: filtri con operatori booleani\n",
    "pandas_df[(pandas_df['A'] > 2) & (pandas_df['B'] <= 40)]\n",
    "# Alternativa: pandas_df.query(\"A > 2 & B <= 40\")"
   ]
  },
  {
   "cell_type": "code",
   "execution_count": null,
   "id": "acc11ff6",
   "metadata": {
    "slideshow": {
     "slide_type": "fragment"
    }
   },
   "outputs": [],
   "source": [
    "# Polars: filtri con context dedicato\n",
    "polars_df.filter(\n",
    "    (pl.col(\"A\") > 2) & (pl.col(\"B\") <= 40)\n",
    ")"
   ]
  },
  {
   "cell_type": "markdown",
   "id": "d61a48d2",
   "metadata": {
    "slideshow": {
     "slide_type": "subslide"
    }
   },
   "source": [
    "## Pandas vs Polars: Aggregazioni"
   ]
  },
  {
   "cell_type": "code",
   "execution_count": null,
   "id": "58ac401e",
   "metadata": {
    "slideshow": {
     "slide_type": "subslide"
    }
   },
   "outputs": [],
   "source": [
    "# Dati più adatti per gruppi\n",
    "df_agg = pd.DataFrame({\n",
    "    'gruppo': ['A', 'A', 'A', 'B', 'B', 'C'],\n",
    "    'valore1': [10, 20, 15, 30, 25, 40],\n",
    "    'valore2': [100, 110, 120, 200, 210, 300]\n",
    "})\n",
    "\n",
    "df_agg"
   ]
  },
  {
   "cell_type": "code",
   "execution_count": null,
   "id": "6996b613",
   "metadata": {
    "slideshow": {
     "slide_type": "subslide"
    }
   },
   "outputs": [],
   "source": [
    "# Pandas: aggregazione con groupby\n",
    "df_agg.groupby('gruppo').agg({\n",
    "    'valore1': ['sum', 'mean'],\n",
    "    'valore2': ['min', 'max']\n",
    "})"
   ]
  },
  {
   "cell_type": "code",
   "execution_count": null,
   "id": "f8d660c4",
   "metadata": {
    "slideshow": {
     "slide_type": "fragment"
    }
   },
   "outputs": [],
   "source": [
    "# Polars: stesso dataset\n",
    "pl_agg = pl.from_pandas(df_agg)\n",
    "\n",
    "# Aggregazione con context dedicato\n",
    "pl_agg.group_by('gruppo').agg([\n",
    "    pl.col('valore1').sum().alias('valore1_sum'),\n",
    "    pl.col('valore1').mean().alias('valore1_mean'),\n",
    "    pl.col('valore2').min().alias('valore2_min'),\n",
    "    pl.col('valore2').max().alias('valore2_max')\n",
    "])"
   ]
  },
  {
   "cell_type": "markdown",
   "id": "e3175fe4",
   "metadata": {
    "slideshow": {
     "slide_type": "slide"
    }
   },
   "source": [
    "## Vantaggi Esclusivi di Polars"
   ]
  },
  {
   "cell_type": "markdown",
   "id": "5f6a1384",
   "metadata": {
    "slideshow": {
     "slide_type": "subslide"
    }
   },
   "source": [
    "### 1. Gestione Nativa delle Liste (No Object dtype)\n",
    "\n",
    "Pandas rappresenta liste come Python objects, causando inefficienze. Polars ha supporto nativo."
   ]
  },
  {
   "cell_type": "code",
   "execution_count": null,
   "id": "a7e7f2a6",
   "metadata": {
    "slideshow": {
     "slide_type": "fragment"
    }
   },
   "outputs": [],
   "source": [
    "# Liste in Polars\n",
    "pl.DataFrame({\n",
    "    'ID': [1, 2, 3],\n",
    "    'valori': [[1,2,3], [4,5], [6,7,8,9]]\n",
    "})"
   ]
  },
  {
   "cell_type": "code",
   "execution_count": null,
   "id": "6c5155f9",
   "metadata": {
    "slideshow": {
     "slide_type": "fragment"
    }
   },
   "outputs": [],
   "source": [
    "# Operazioni su liste\n",
    "df_list = pl.DataFrame({\n",
    "    'ID': [1, 2, 3],\n",
    "    'valori': [[1,2,3], [4,5], [6,7,8,9]]\n",
    "})\n",
    "\n",
    "df_list.with_columns([\n",
    "    pl.col('valori').list.len().alias('lunghezza'),\n",
    "    pl.col('valori').list.sum().alias('somma')\n",
    "])"
   ]
  },
  {
   "cell_type": "markdown",
   "id": "e3be3b96",
   "metadata": {
    "slideshow": {
     "slide_type": "subslide"
    }
   },
   "source": [
    "### 2. Lazy Evaluation"
   ]
  },
  {
   "cell_type": "code",
   "execution_count": null,
   "id": "5b5c219c",
   "metadata": {
    "slideshow": {
     "slide_type": "subslide"
    }
   },
   "outputs": [],
   "source": [
    "# Polars: Lazy API con ottimizzazione automatica\n",
    "lazy_query = (\n",
    "    pl_agg.lazy()\n",
    "    .filter(pl.col('valore1') > 15)\n",
    "    .group_by('gruppo')\n",
    "    .agg([\n",
    "        pl.col('valore1').sum().alias('valore1_sum'),\n",
    "        pl.col('valore2').mean().alias('valore2_mean')\n",
    "    ])\n",
    "    .sort('valore1_sum', descending=True)\n",
    ")\n",
    "\n",
    "# Visualizza il piano di query invece di eseguirlo\n",
    "lazy_query"
   ]
  },
  {
   "cell_type": "code",
   "execution_count": null,
   "id": "462b8e45",
   "metadata": {
    "slideshow": {
     "slide_type": "subslide"
    }
   },
   "outputs": [],
   "source": [
    "# Esecuzione della query ottimizzata\n",
    "lazy_query.collect()"
   ]
  },
  {
   "cell_type": "code",
   "execution_count": null,
   "id": "6d477c57",
   "metadata": {
    "slideshow": {
     "slide_type": "fragment"
    }
   },
   "outputs": [],
   "source": [
    "# Visualizzazione grafica del piano di esecuzione\n",
    "lazy_query.show_graph()"
   ]
  },
  {
   "cell_type": "markdown",
   "id": "0404b624",
   "metadata": {
    "slideshow": {
     "slide_type": "subslide"
    }
   },
   "source": [
    "### 3. Operazioni Orizzontali e Folds"
   ]
  },
  {
   "cell_type": "code",
   "execution_count": null,
   "id": "800653fc",
   "metadata": {
    "slideshow": {
     "slide_type": "fragment"
    }
   },
   "outputs": [],
   "source": [
    "import polars.selectors as cs\n",
    "\n",
    "# Aggregazione orizzontale di valori\n",
    "pl_agg.select(\n",
    "    pl.sum_horizontal(cs.numeric()).alias(\"somma_orizzontale\")\n",
    ")"
   ]
  },
  {
   "cell_type": "code",
   "execution_count": null,
   "id": "e83cd805",
   "metadata": {
    "slideshow": {
     "slide_type": "fragment"
    }
   },
   "outputs": [],
   "source": [
    "# Fold (riduzione personalizzata)\n",
    "pl_agg.select(\n",
    "    pl.fold(\n",
    "        acc=pl.lit(1),\n",
    "        function=lambda acc, x: acc * x,\n",
    "        exprs=pl.col(['valore1', 'valore2'])\n",
    "    ).alias('prodotto_valori')\n",
    ")"
   ]
  },
  {
   "cell_type": "markdown",
   "id": "74032da8",
   "metadata": {
    "slideshow": {
     "slide_type": "subslide"
    }
   },
   "source": [
    "## Pandas vs Polars: Join"
   ]
  },
  {
   "cell_type": "code",
   "execution_count": null,
   "id": "f7b63870",
   "metadata": {
    "slideshow": {
     "slide_type": "subslide"
    }
   },
   "outputs": [],
   "source": [
    "customers = pd.DataFrame({\n",
    "    'customer_id': [1, 2, 3, 4, 5],\n",
    "    'name': ['Alice', 'Bob', 'Carol', 'Dave', 'Eve']\n",
    "})\n",
    "\n",
    "orders = pd.DataFrame({\n",
    "    'order_id': [101, 102, 103, 104, 105],\n",
    "    'customer_id': [3, 1, 5, 2, 1],\n",
    "    'amount': [50, 25, 75, 40, 15]\n",
    "})\n",
    "\n",
    "# Pandas join (usando merge)\n",
    "pd_joined = customers.merge(\n",
    "    orders, \n",
    "    on='customer_id', \n",
    "    how='inner'\n",
    ")\n",
    "\n",
    "pd_joined"
   ]
  },
  {
   "cell_type": "code",
   "execution_count": null,
   "id": "4c3a4b51",
   "metadata": {
    "slideshow": {
     "slide_type": "subslide"
    }
   },
   "outputs": [],
   "source": [
    "pl_customers = pl.from_pandas(customers)\n",
    "\n",
    "pl_orders = pl.from_pandas(orders)\n",
    "\n",
    "# Join in Polars (più esplicito)\n",
    "pl_joined = pl_customers.join(\n",
    "    pl_orders,\n",
    "    on='customer_id',\n",
    "    how='inner'\n",
    ")\n",
    "\n",
    "pl_joined"
   ]
  },
  {
   "cell_type": "markdown",
   "id": "71f698e2",
   "metadata": {
    "slideshow": {
     "slide_type": "subslide"
    }
   },
   "source": [
    "## Pandas vs Polars: Gestione Stringhe"
   ]
  },
  {
   "cell_type": "code",
   "execution_count": null,
   "id": "eaf3bf74",
   "metadata": {
    "slideshow": {
     "slide_type": "subslide"
    }
   },
   "outputs": [],
   "source": [
    "# DataFrame con stringhe\n",
    "text_df = pd.DataFrame({\n",
    "    'id': [1, 2, 3, 4],\n",
    "    'text': ['hello world', 'data science', 'pandas vs polars', 'python is great']\n",
    "})\n",
    "\n",
    "# Manipolazione stringhe in Pandas\n",
    "text_df['uppercase'] = text_df['text'].str.upper()\n",
    "text_df['words'] = text_df['text'].str.split()\n",
    "text_df['word_count'] = text_df['text'].str.count(' ') + 1\n",
    "\n",
    "text_df"
   ]
  },
  {
   "cell_type": "code",
   "execution_count": null,
   "id": "1ee2903f",
   "metadata": {
    "slideshow": {
     "slide_type": "fragment"
    }
   },
   "outputs": [],
   "source": [
    "# DataFrame equivalente in Polars\n",
    "pl_text = pl.DataFrame({\n",
    "    'id': [1, 2, 3, 4],\n",
    "    'text': ['hello world', 'data science', 'pandas vs polars', 'python is great']\n",
    "})\n",
    "\n",
    "# Manipolazione stringhe in Polars\n",
    "pl_text.with_columns([\n",
    "    pl.col('text').str.to_uppercase().alias('uppercase'),\n",
    "    pl.col('text').str.split(' ').alias('words'),\n",
    "    (pl.col('text').str.count_matches(' ') + 1).alias('word_count')\n",
    "])"
   ]
  },
  {
   "cell_type": "markdown",
   "id": "eee72e3e",
   "metadata": {
    "slideshow": {
     "slide_type": "subslide"
    }
   },
   "source": [
    "## Pipeline di Trasformazioni"
   ]
  },
  {
   "cell_type": "code",
   "execution_count": null,
   "id": "6570d667",
   "metadata": {
    "slideshow": {
     "slide_type": "fragment"
    }
   },
   "outputs": [],
   "source": [
    "# Esempio di pipeline in Pandas\n",
    "pd_result = (\n",
    "    df_agg\n",
    "    .query('valore1 > 15')\n",
    "    .groupby('gruppo')\n",
    "    .agg(\n",
    "        valore1_sum=('valore1', 'sum'),\n",
    "        valore2_mean=('valore2', 'mean')\n",
    "    )\n",
    "    .sort_values('valore1_sum', ascending=False)\n",
    "    .reset_index()\n",
    ")\n",
    "\n",
    "pd_result"
   ]
  },
  {
   "cell_type": "code",
   "execution_count": null,
   "id": "0037b729",
   "metadata": {
    "slideshow": {
     "slide_type": "subslide"
    }
   },
   "outputs": [],
   "source": [
    "# Esempio di pipeline in Polars (API Eager)\n",
    "pl_result = (\n",
    "    pl_agg\n",
    "    .filter(pl.col('valore1') > 15)\n",
    "    .group_by('gruppo')\n",
    "    .agg([\n",
    "        pl.col('valore1').sum().alias('valore1_sum'),\n",
    "        pl.col('valore2').mean().alias('valore2_mean')\n",
    "    ])\n",
    "    .sort('valore1_sum', descending=True)\n",
    ")\n",
    "\n",
    "pl_result"
   ]
  }
 ],
 "metadata": {
  "celltoolbar": "Slideshow",
  "kernelspec": {
   "display_name": "Python 3 (ipykernel)",
   "language": "python",
   "name": "python3"
  },
  "language_info": {
   "codemirror_mode": {
    "name": "ipython",
    "version": 3
   },
   "file_extension": ".py",
   "mimetype": "text/x-python",
   "name": "python",
   "nbconvert_exporter": "python",
   "pygments_lexer": "ipython3",
   "version": "3.8.10"
  },
  "rise": {
   "auto_select": "code",
   "autolaunch": true,
   "center": true,
   "enable_chalkboard": true,
   "slideNumber": "c/t"
  }
 },
 "nbformat": 4,
 "nbformat_minor": 5
}
