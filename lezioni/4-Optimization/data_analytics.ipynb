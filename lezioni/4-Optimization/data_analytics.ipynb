{
 "cells": [
  {
   "cell_type": "markdown",
   "id": "c6f6ce2e",
   "metadata": {
    "slideshow": {
     "slide_type": "slide"
    }
   },
   "source": [
    "# Ottimizzazione Data Analytics\n",
    "\n",
    "Una panoramica delle librerie per la manipolazione dati in Python"
   ]
  },
  {
   "cell_type": "code",
   "execution_count": null,
   "id": "df02d90f",
   "metadata": {
    "slideshow": {
     "slide_type": "subslide"
    }
   },
   "outputs": [],
   "source": [
    "# Setup delle dipendenze (eseguire solo se necessario)\n",
    "# !pip install pyarrow pandas polars"
   ]
  },
  {
   "cell_type": "markdown",
   "id": "b8e7b1d2-45fd-4604-9a02-123b50e46a48",
   "metadata": {
    "ExecuteTime": {
     "end_time": "2024-04-24T15:20:46.994903400Z",
     "start_time": "2024-04-24T15:20:46.986614200Z"
    },
    "slideshow": {
     "slide_type": "subslide"
    },
    "tags": []
   },
   "source": [
    "## Pandas: Il Data Frame Standard\n",
    "\n",
    "**Pandas** è diventato lo standard de facto per la manipolazione dei dati in Python, offrendo:\n",
    "\n",
    "- Una sintassi intuitiva per la manipolazione di tabelle\n",
    "- Funzioni per caricamento e salvataggio dati da vari formati\n",
    "- Strumenti per pulizia, trasformazione e analisi dei dati\n",
    "- Integrazione profonda con l'ecosistema scientifico Python"
   ]
  },
  {
   "cell_type": "markdown",
   "id": "c329e4ad-7924-4bc8-8317-0c17f005fd26",
   "metadata": {
    "ExecuteTime": {
     "end_time": "2024-04-24T15:20:46.994903400Z",
     "start_time": "2024-04-24T15:20:46.986614200Z"
    },
    "cell_style": "center",
    "slideshow": {
     "slide_type": "subslide"
    },
    "tags": []
   },
   "source": [
    "## I Limiti di Pandas\n",
    "\n",
    "Con l'aumento delle dimensioni dei dati, Pandas presenta diverse limitazioni:\n",
    "\n",
    "1. **Prestazioni**: implementato in Python/C, con overhead legato al GIL\n",
    "2. **Memoria**: carica l'intero dataset in RAM\n",
    "3. **Parallelismo**: limitato supporto per elaborazione parallela\n",
    "4. **Tipo Dati**: gestione inefficiente di alcuni tipi (es. stringhe, liste)\n",
    "5. **Scalabilità**: difficoltà con dataset che superano la RAM disponibile"
   ]
  },
  {
   "cell_type": "markdown",
   "id": "362a5ff5-0f07-4aa1-a805-164a205ff74f",
   "metadata": {
    "ExecuteTime": {
     "end_time": "2024-04-24T15:20:46.994903400Z",
     "start_time": "2024-04-24T15:20:46.986614200Z"
    },
    "cell_style": "center",
    "slideshow": {
     "slide_type": "subslide"
    },
    "tags": []
   },
   "source": [
    "## Alternative a Pandas\n",
    "\n",
    "Diverse librerie sono state sviluppate per superare i limiti di Pandas:"
   ]
  },
  {
   "cell_type": "markdown",
   "id": "99de6504",
   "metadata": {
    "slideshow": {
     "slide_type": "subslide"
    }
   },
   "source": [
    "**Polars**: libreria per DataFrame scritta in Rust, basata su Apache Arrow\n",
    "- Performance nettamente superiori\n",
    "- Elaborazione in parallelo di default\n",
    "- Valutazione pigra (lazy evaluation) per ottimizzazione automatica\n",
    "- API simile a Pandas ma più moderna"
   ]
  },
  {
   "cell_type": "markdown",
   "id": "47e38ab7",
   "metadata": {
    "slideshow": {
     "slide_type": "slide"
    }
   },
   "source": [
    "**Dask**: estende Pandas e NumPy parallelizzando operazioni su cluster\n",
    "- API quasi identica a Pandas (facile transizione)\n",
    "- Elaborazione distribuita\n",
    "- Gestione di dataset più grandi della memoria disponibile\n",
    "- Integrazione con l'ecosistema scientifico"
   ]
  },
  {
   "cell_type": "markdown",
   "id": "5e1846e8",
   "metadata": {
    "slideshow": {
     "slide_type": "slide"
    }
   },
   "source": [
    "**cuDF (RAPIDS)**: implementazione GPU-accelerated di Pandas\n",
    "- Accelerazione tramite GPU NVIDIA\n",
    "- API simile a Pandas\n",
    "- Integrabile con ecosistema RAPIDS per machine learning su GPU"
   ]
  },
  {
   "cell_type": "markdown",
   "id": "176efc01",
   "metadata": {
    "slideshow": {
     "slide_type": "slide"
    }
   },
   "source": [
    "**DuckDB**: motore di database analitico per DataFrame in-process\n",
    "- Esecuzione di query SQL su DataFrame\n",
    "- Performance fino a 10-100x più veloci di SQLite\n",
    "- Ottimizzato per analisi OLAP\n",
    "- Perfetta integrazione con Pandas e Apache Arrow"
   ]
  },
  {
   "cell_type": "markdown",
   "id": "56f7aced",
   "metadata": {
    "slideshow": {
     "slide_type": "subslide"
    }
   },
   "source": [
    "## Ottimizzare Pandas\n",
    "\n",
    "Prima di passare ad alternative, si può migliorare Pandas con alcune tecniche:"
   ]
  },
  {
   "cell_type": "markdown",
   "id": "ce8ca705",
   "metadata": {
    "slideshow": {
     "slide_type": "fragment"
    }
   },
   "source": [
    "1. **Caricamento selettivo**: usare `usecols` per leggere solo le colonne necessarie\n",
    "2. **Tipi di dato ottimali**: specificare `dtype` o usare `pd.Categorical` per dati categorici\n",
    "3. **Chunking**: processare dati in blocchi con `chunksize`\n",
    "4. **PyArrow**: utilizzare `engine='pyarrow'` per lettura/scrittura più veloce\n",
    "5. **Vettorializzare**: preferire operazioni vettoriali invece di loop Python\n",
    "6. **Query**: usare `df.query()` per espressioni complesse"
   ]
  },
  {
   "cell_type": "code",
   "execution_count": 1,
   "id": "b627917b",
   "metadata": {
    "slideshow": {
     "slide_type": "subslide"
    }
   },
   "outputs": [],
   "source": [
    "import pandas as pd\n",
    "\n",
    "# Configurazione per la visualizzazione\n",
    "pd.set_option('display.max_rows', 6)\n",
    "pd.set_option(\"max_colwidth\", 15)"
   ]
  },
  {
   "cell_type": "code",
   "execution_count": 3,
   "id": "03c1b73c",
   "metadata": {
    "slideshow": {
     "slide_type": "fragment"
    }
   },
   "outputs": [
    {
     "data": {
      "text/html": [
       "<div>\n",
       "<style scoped>\n",
       "    .dataframe tbody tr th:only-of-type {\n",
       "        vertical-align: middle;\n",
       "    }\n",
       "\n",
       "    .dataframe tbody tr th {\n",
       "        vertical-align: top;\n",
       "    }\n",
       "\n",
       "    .dataframe thead th {\n",
       "        text-align: right;\n",
       "    }\n",
       "</style>\n",
       "<table border=\"1\" class=\"dataframe\">\n",
       "  <thead>\n",
       "    <tr style=\"text-align: right;\">\n",
       "      <th></th>\n",
       "      <th>B</th>\n",
       "      <th>C</th>\n",
       "    </tr>\n",
       "  </thead>\n",
       "  <tbody>\n",
       "    <tr>\n",
       "      <th>0</th>\n",
       "      <td>2</td>\n",
       "      <td>a</td>\n",
       "    </tr>\n",
       "    <tr>\n",
       "      <th>1</th>\n",
       "      <td>3</td>\n",
       "      <td>b</td>\n",
       "    </tr>\n",
       "    <tr>\n",
       "      <th>2</th>\n",
       "      <td>4</td>\n",
       "      <td>c</td>\n",
       "    </tr>\n",
       "    <tr>\n",
       "      <th>...</th>\n",
       "      <td>...</td>\n",
       "      <td>...</td>\n",
       "    </tr>\n",
       "    <tr>\n",
       "      <th>5</th>\n",
       "      <td>7</td>\n",
       "      <td>f</td>\n",
       "    </tr>\n",
       "    <tr>\n",
       "      <th>6</th>\n",
       "      <td>8</td>\n",
       "      <td>g</td>\n",
       "    </tr>\n",
       "    <tr>\n",
       "      <th>7</th>\n",
       "      <td>9</td>\n",
       "      <td>h</td>\n",
       "    </tr>\n",
       "  </tbody>\n",
       "</table>\n",
       "<p>8 rows × 2 columns</p>\n",
       "</div>"
      ],
      "text/plain": [
       "    B  C\n",
       "0   2  a\n",
       "1   3  b\n",
       "2   4  c\n",
       ".. .. ..\n",
       "5   7  f\n",
       "6   8  g\n",
       "7   9  h\n",
       "\n",
       "[8 rows x 2 columns]"
      ]
     },
     "execution_count": 3,
     "metadata": {},
     "output_type": "execute_result"
    }
   ],
   "source": [
    "# Esempio di caricamento ottimizzato\n",
    "# 1. Uso di usecols per selezionare solo colonne specifiche\n",
    "# 2. Uso di dtype per specificare tipi esatti\n",
    "# 3. Uso di engine='pyarrow' per prestazioni migliori\n",
    "\n",
    "colonne = ['B', 'C']\n",
    "tipi = {'B': 'int32', 'C': 'string'}\n",
    "\n",
    "# Commentato per evitare l'esecuzione che consuma tempo\n",
    "pd.read_csv('data.csv', \n",
    "            usecols=colonne, \n",
    "            dtype=tipi, \n",
    "            engine='pyarrow')"
   ]
  },
  {
   "cell_type": "code",
   "execution_count": null,
   "id": "b68bd47a",
   "metadata": {
    "slideshow": {
     "slide_type": "subslide"
    }
   },
   "outputs": [],
   "source": [
    "# Esempio di caricamento con chunk per gestire dataset grandi\n",
    "\n",
    "result_df = []\n",
    "for i, chunk in enumerate(pd.read_csv(\"data.csv\", chunksize=2)):\n",
    "    print(f\"Lunghezza del chunk # {i}: {len(chunk)}\")\n",
    "    chunk['A'] = chunk['A'].mean()\n",
    "    \n",
    "    result_df.append(chunk)\n",
    "pd.concat(result_df, ignore_index=True)  # Unione dei chunk filtrati"
   ]
  },
  {
   "cell_type": "markdown",
   "id": "578af220",
   "metadata": {
    "slideshow": {
     "slide_type": "slide"
    }
   },
   "source": [
    "# Focus su Polars\n",
    "\n",
    "Approfondiamo ora **Polars**, una delle alternative più promettenti a Pandas:"
   ]
  },
  {
   "cell_type": "code",
   "execution_count": 4,
   "id": "1c48d18e",
   "metadata": {
    "slideshow": {
     "slide_type": "fragment"
    }
   },
   "outputs": [
    {
     "data": {
      "text/plain": [
       "polars.config.Config"
      ]
     },
     "execution_count": 4,
     "metadata": {},
     "output_type": "execute_result"
    }
   ],
   "source": [
    "import polars as pl\n",
    "\n",
    "# Configurazione per la visualizzazione\n",
    "pl.Config().set_tbl_rows(6)"
   ]
  },
  {
   "cell_type": "markdown",
   "id": "c7f10980",
   "metadata": {
    "slideshow": {
     "slide_type": "subslide"
    }
   },
   "source": [
    "## Pandas vs Polars\n",
    "\n",
    "| **Pandas** | **Polars** |\n",
    "|------------|------------|\n",
    "| Indice Row-oriented | Column-oriented (Apache Arrow) |\n",
    "| Operazioni in-place | Operazioni immutabili (funzionale) |\n",
    "| GIL Python limita parallelismo | Computazioni parallele in Rust |\n",
    "| NA, None, NaN, ecc. | Concetto unificato di null |"
   ]
  },
  {
   "cell_type": "markdown",
   "id": "95447ca3",
   "metadata": {
    "slideshow": {
     "slide_type": "subslide"
    }
   },
   "source": [
    "## Creazione e I/O in Polars vs Pandas"
   ]
  },
  {
   "cell_type": "code",
   "execution_count": 5,
   "id": "785b8a96",
   "metadata": {
    "slideshow": {
     "slide_type": "fragment"
    }
   },
   "outputs": [
    {
     "data": {
      "text/html": [
       "<div>\n",
       "<style scoped>\n",
       "    .dataframe tbody tr th:only-of-type {\n",
       "        vertical-align: middle;\n",
       "    }\n",
       "\n",
       "    .dataframe tbody tr th {\n",
       "        vertical-align: top;\n",
       "    }\n",
       "\n",
       "    .dataframe thead th {\n",
       "        text-align: right;\n",
       "    }\n",
       "</style>\n",
       "<table border=\"1\" class=\"dataframe\">\n",
       "  <thead>\n",
       "    <tr style=\"text-align: right;\">\n",
       "      <th></th>\n",
       "      <th>A</th>\n",
       "      <th>B</th>\n",
       "      <th>C</th>\n",
       "    </tr>\n",
       "  </thead>\n",
       "  <tbody>\n",
       "    <tr>\n",
       "      <th>0</th>\n",
       "      <td>1</td>\n",
       "      <td>10</td>\n",
       "      <td>a</td>\n",
       "    </tr>\n",
       "    <tr>\n",
       "      <th>1</th>\n",
       "      <td>2</td>\n",
       "      <td>20</td>\n",
       "      <td>b</td>\n",
       "    </tr>\n",
       "    <tr>\n",
       "      <th>2</th>\n",
       "      <td>3</td>\n",
       "      <td>30</td>\n",
       "      <td>c</td>\n",
       "    </tr>\n",
       "    <tr>\n",
       "      <th>3</th>\n",
       "      <td>4</td>\n",
       "      <td>40</td>\n",
       "      <td>d</td>\n",
       "    </tr>\n",
       "    <tr>\n",
       "      <th>4</th>\n",
       "      <td>5</td>\n",
       "      <td>50</td>\n",
       "      <td>e</td>\n",
       "    </tr>\n",
       "  </tbody>\n",
       "</table>\n",
       "</div>"
      ],
      "text/plain": [
       "   A   B  C\n",
       "0  1  10  a\n",
       "1  2  20  b\n",
       "2  3  30  c\n",
       "3  4  40  d\n",
       "4  5  50  e"
      ]
     },
     "execution_count": 5,
     "metadata": {},
     "output_type": "execute_result"
    }
   ],
   "source": [
    "# Creazione DataFrame in Pandas\n",
    "pandas_df = pd.DataFrame({\n",
    "    'A': [1, 2, 3, 4, 5],\n",
    "    'B': [10, 20, 30, 40, 50],\n",
    "    'C': ['a', 'b', 'c', 'd', 'e']\n",
    "})\n",
    "\n",
    "pandas_df"
   ]
  },
  {
   "cell_type": "code",
   "execution_count": 6,
   "id": "719e019e",
   "metadata": {
    "slideshow": {
     "slide_type": "fragment"
    }
   },
   "outputs": [
    {
     "data": {
      "text/html": [
       "<div><style>\n",
       ".dataframe > thead > tr,\n",
       ".dataframe > tbody > tr {\n",
       "  text-align: right;\n",
       "  white-space: pre-wrap;\n",
       "}\n",
       "</style>\n",
       "<small>shape: (5, 3)</small><table border=\"1\" class=\"dataframe\"><thead><tr><th>A</th><th>B</th><th>C</th></tr><tr><td>i64</td><td>i64</td><td>str</td></tr></thead><tbody><tr><td>1</td><td>10</td><td>&quot;a&quot;</td></tr><tr><td>2</td><td>20</td><td>&quot;b&quot;</td></tr><tr><td>3</td><td>30</td><td>&quot;c&quot;</td></tr><tr><td>4</td><td>40</td><td>&quot;d&quot;</td></tr><tr><td>5</td><td>50</td><td>&quot;e&quot;</td></tr></tbody></table></div>"
      ],
      "text/plain": [
       "shape: (5, 3)\n",
       "┌─────┬─────┬─────┐\n",
       "│ A   ┆ B   ┆ C   │\n",
       "│ --- ┆ --- ┆ --- │\n",
       "│ i64 ┆ i64 ┆ str │\n",
       "╞═════╪═════╪═════╡\n",
       "│ 1   ┆ 10  ┆ a   │\n",
       "│ 2   ┆ 20  ┆ b   │\n",
       "│ 3   ┆ 30  ┆ c   │\n",
       "│ 4   ┆ 40  ┆ d   │\n",
       "│ 5   ┆ 50  ┆ e   │\n",
       "└─────┴─────┴─────┘"
      ]
     },
     "execution_count": 6,
     "metadata": {},
     "output_type": "execute_result"
    }
   ],
   "source": [
    "# Creazione DataFrame in Polars\n",
    "polars_df = pl.DataFrame({\n",
    "    'A': [1, 2, 3, 4, 5],\n",
    "    'B': [10, 20, 30, 40, 50],\n",
    "    'C': ['a', 'b', 'c', 'd', 'e']\n",
    "})\n",
    "\n",
    "polars_df"
   ]
  },
  {
   "cell_type": "code",
   "execution_count": 8,
   "id": "9026b648",
   "metadata": {
    "slideshow": {
     "slide_type": "subslide"
    }
   },
   "outputs": [
    {
     "name": "stdout",
     "output_type": "stream",
     "text": [
      "Pandas dtypes:\n",
      "A     int64\n",
      "B     int64\n",
      "C    object\n",
      "dtype: object\n",
      "\n",
      "Polars dtypes:\n",
      "[Int64, Int64, String]\n"
     ]
    }
   ],
   "source": [
    "# Tipi dati in Pandas vs Polars\n",
    "print(\"Pandas dtypes:\")\n",
    "print(pandas_df.dtypes)\n",
    "print(\"\\nPolars dtypes:\")\n",
    "print(polars_df.dtypes)"
   ]
  },
  {
   "cell_type": "code",
   "execution_count": 9,
   "id": "21a4f703",
   "metadata": {
    "slideshow": {
     "slide_type": "subslide"
    }
   },
   "outputs": [],
   "source": [
    "# I/O confronto: sintassi equivalente ma internamente molto diversa\n",
    "\n",
    "# Pandas\n",
    "pandas_df.to_csv(\"data.csv\")\n",
    "df_pandas = pd.read_csv(\"data.csv\")\n",
    "\n",
    "# Polars\n",
    "polars_df.write_csv(\"data.csv\")\n",
    "df_polars = pl.read_csv(\"data.csv\")"
   ]
  },
  {
   "cell_type": "code",
   "execution_count": 10,
   "id": "898c414e",
   "metadata": {
    "slideshow": {
     "slide_type": "fragment"
    }
   },
   "outputs": [
    {
     "data": {
      "text/html": [
       "<h4>NAIVE QUERY PLAN</h4><p>run <b>LazyFrame.show_graph()</b> to see the optimized version</p><?xml version=\"1.0\" encoding=\"UTF-8\" standalone=\"no\"?>\r\n",
       "<!DOCTYPE svg PUBLIC \"-//W3C//DTD SVG 1.1//EN\"\r\n",
       " \"http://www.w3.org/Graphics/SVG/1.1/DTD/svg11.dtd\">\r\n",
       "<!-- Generated by graphviz version 11.0.0 (20240428.1522)\r\n",
       " -->\r\n",
       "<!-- Title: polars_query Pages: 1 -->\r\n",
       "<svg width=\"147pt\" height=\"48pt\"\r\n",
       " viewBox=\"0.00 0.00 147.00 47.50\" xmlns=\"http://www.w3.org/2000/svg\" xmlns:xlink=\"http://www.w3.org/1999/xlink\">\r\n",
       "<g id=\"graph0\" class=\"graph\" transform=\"scale(1 1) rotate(0) translate(4 43.5)\">\r\n",
       "<title>polars_query</title>\r\n",
       "<polygon fill=\"white\" stroke=\"none\" points=\"-4,4 -4,-43.5 143,-43.5 143,4 -4,4\"/>\r\n",
       "<!-- p1 -->\r\n",
       "<g id=\"node1\" class=\"node\">\r\n",
       "<title>p1</title>\r\n",
       "<polygon fill=\"none\" stroke=\"black\" points=\"139,-39.5 0,-39.5 0,0 139,0 139,-39.5\"/>\r\n",
       "<text text-anchor=\"middle\" x=\"69.5\" y=\"-22.2\" font-family=\"Times New Roman,serif\" font-size=\"14.00\">Csv SCAN [data.csv]</text>\r\n",
       "<text text-anchor=\"middle\" x=\"69.5\" y=\"-6.45\" font-family=\"Times New Roman,serif\" font-size=\"14.00\">π */3;</text>\r\n",
       "</g>\r\n",
       "</g>\r\n",
       "</svg>\r\n"
      ],
      "text/plain": [
       "<LazyFrame at 0x1F504C2D880>"
      ]
     },
     "execution_count": 10,
     "metadata": {},
     "output_type": "execute_result"
    }
   ],
   "source": [
    "# Con Polars si può usare anche l'API Lazy\n",
    "df_lazy = pl.scan_csv(\"data.csv\")\n",
    "df_lazy"
   ]
  },
  {
   "cell_type": "markdown",
   "id": "4cbb2bd4",
   "metadata": {
    "slideshow": {
     "slide_type": "subslide"
    }
   },
   "source": [
    "## Principali Differenze: Context e Expressions\n",
    "\n",
    "Polars introduce due concetti fondamentali per manipolare i dati:\n",
    "\n",
    "1. **Context**: in quale contesto un'espressione viene valutata\n",
    "2. **Expressions**: operazioni su colonne definite tramite API fluida"
   ]
  },
  {
   "cell_type": "markdown",
   "id": "4901ac47",
   "metadata": {
    "slideshow": {
     "slide_type": "subslide"
    }
   },
   "source": [
    "### I Tre Context di Polars:\n",
    "\n",
    "1. **Selection**: `df.select(...)` e `df.with_columns(...)`\n",
    "2. **Filtering**: `df.filter(...)`\n",
    "3. **Aggregation**: `df.group_by(...).agg(...)`\n",
    "\n",
    "Ogni contesto interpreta le expressions in modo diverso."
   ]
  },
  {
   "cell_type": "markdown",
   "id": "4c392cc8",
   "metadata": {
    "slideshow": {
     "slide_type": "subslide"
    }
   },
   "source": [
    "## Pandas vs Polars: Selezione Colonne"
   ]
  },
  {
   "cell_type": "code",
   "execution_count": 11,
   "id": "9dc33938",
   "metadata": {
    "slideshow": {
     "slide_type": "fragment"
    }
   },
   "outputs": [
    {
     "data": {
      "text/html": [
       "<div>\n",
       "<style scoped>\n",
       "    .dataframe tbody tr th:only-of-type {\n",
       "        vertical-align: middle;\n",
       "    }\n",
       "\n",
       "    .dataframe tbody tr th {\n",
       "        vertical-align: top;\n",
       "    }\n",
       "\n",
       "    .dataframe thead th {\n",
       "        text-align: right;\n",
       "    }\n",
       "</style>\n",
       "<table border=\"1\" class=\"dataframe\">\n",
       "  <thead>\n",
       "    <tr style=\"text-align: right;\">\n",
       "      <th></th>\n",
       "      <th>A</th>\n",
       "      <th>B</th>\n",
       "    </tr>\n",
       "  </thead>\n",
       "  <tbody>\n",
       "    <tr>\n",
       "      <th>0</th>\n",
       "      <td>1</td>\n",
       "      <td>10</td>\n",
       "    </tr>\n",
       "    <tr>\n",
       "      <th>1</th>\n",
       "      <td>2</td>\n",
       "      <td>20</td>\n",
       "    </tr>\n",
       "    <tr>\n",
       "      <th>2</th>\n",
       "      <td>3</td>\n",
       "      <td>30</td>\n",
       "    </tr>\n",
       "    <tr>\n",
       "      <th>3</th>\n",
       "      <td>4</td>\n",
       "      <td>40</td>\n",
       "    </tr>\n",
       "    <tr>\n",
       "      <th>4</th>\n",
       "      <td>5</td>\n",
       "      <td>50</td>\n",
       "    </tr>\n",
       "  </tbody>\n",
       "</table>\n",
       "</div>"
      ],
      "text/plain": [
       "   A   B\n",
       "0  1  10\n",
       "1  2  20\n",
       "2  3  30\n",
       "3  4  40\n",
       "4  5  50"
      ]
     },
     "execution_count": 11,
     "metadata": {},
     "output_type": "execute_result"
    }
   ],
   "source": [
    "# Pandas: selezione colonne\n",
    "pandas_df[['A', 'B']]  # Sintassi classica\n",
    "# Alternativa: pandas_df.loc[:, ['A', 'B']]"
   ]
  },
  {
   "cell_type": "code",
   "execution_count": 13,
   "id": "a5d858c9",
   "metadata": {
    "slideshow": {
     "slide_type": "fragment"
    }
   },
   "outputs": [
    {
     "data": {
      "text/html": [
       "<div><style>\n",
       ".dataframe > thead > tr,\n",
       ".dataframe > tbody > tr {\n",
       "  text-align: right;\n",
       "  white-space: pre-wrap;\n",
       "}\n",
       "</style>\n",
       "<small>shape: (5, 2)</small><table border=\"1\" class=\"dataframe\"><thead><tr><th>A</th><th>B</th></tr><tr><td>i64</td><td>i64</td></tr></thead><tbody><tr><td>1</td><td>10</td></tr><tr><td>2</td><td>20</td></tr><tr><td>3</td><td>30</td></tr><tr><td>4</td><td>40</td></tr><tr><td>5</td><td>50</td></tr></tbody></table></div>"
      ],
      "text/plain": [
       "shape: (5, 2)\n",
       "┌─────┬─────┐\n",
       "│ A   ┆ B   │\n",
       "│ --- ┆ --- │\n",
       "│ i64 ┆ i64 │\n",
       "╞═════╪═════╡\n",
       "│ 1   ┆ 10  │\n",
       "│ 2   ┆ 20  │\n",
       "│ 3   ┆ 30  │\n",
       "│ 4   ┆ 40  │\n",
       "│ 5   ┆ 50  │\n",
       "└─────┴─────┘"
      ]
     },
     "execution_count": 13,
     "metadata": {},
     "output_type": "execute_result"
    }
   ],
   "source": [
    "# Polars: selezione colonne\n",
    "polars_df.select(['A', 'B'])  # Sintassi esplicita\n",
    "# polars_df.select(pl.col(['A', 'B']))"
   ]
  },
  {
   "cell_type": "markdown",
   "id": "47d9258f",
   "metadata": {
    "slideshow": {
     "slide_type": "subslide"
    }
   },
   "source": [
    "## Pandas vs Polars: Trasformazione Colonne"
   ]
  },
  {
   "cell_type": "code",
   "execution_count": 14,
   "id": "8f945d3b",
   "metadata": {
    "slideshow": {
     "slide_type": "fragment"
    }
   },
   "outputs": [
    {
     "data": {
      "text/html": [
       "<div>\n",
       "<style scoped>\n",
       "    .dataframe tbody tr th:only-of-type {\n",
       "        vertical-align: middle;\n",
       "    }\n",
       "\n",
       "    .dataframe tbody tr th {\n",
       "        vertical-align: top;\n",
       "    }\n",
       "\n",
       "    .dataframe thead th {\n",
       "        text-align: right;\n",
       "    }\n",
       "</style>\n",
       "<table border=\"1\" class=\"dataframe\">\n",
       "  <thead>\n",
       "    <tr style=\"text-align: right;\">\n",
       "      <th></th>\n",
       "      <th>A</th>\n",
       "      <th>B</th>\n",
       "      <th>C</th>\n",
       "      <th>D</th>\n",
       "    </tr>\n",
       "  </thead>\n",
       "  <tbody>\n",
       "    <tr>\n",
       "      <th>0</th>\n",
       "      <td>1</td>\n",
       "      <td>15</td>\n",
       "      <td>a</td>\n",
       "      <td>100</td>\n",
       "    </tr>\n",
       "    <tr>\n",
       "      <th>1</th>\n",
       "      <td>2</td>\n",
       "      <td>25</td>\n",
       "      <td>b</td>\n",
       "      <td>200</td>\n",
       "    </tr>\n",
       "    <tr>\n",
       "      <th>2</th>\n",
       "      <td>3</td>\n",
       "      <td>35</td>\n",
       "      <td>c</td>\n",
       "      <td>300</td>\n",
       "    </tr>\n",
       "    <tr>\n",
       "      <th>3</th>\n",
       "      <td>4</td>\n",
       "      <td>45</td>\n",
       "      <td>d</td>\n",
       "      <td>400</td>\n",
       "    </tr>\n",
       "    <tr>\n",
       "      <th>4</th>\n",
       "      <td>5</td>\n",
       "      <td>55</td>\n",
       "      <td>e</td>\n",
       "      <td>500</td>\n",
       "    </tr>\n",
       "  </tbody>\n",
       "</table>\n",
       "</div>"
      ],
      "text/plain": [
       "   A   B  C    D\n",
       "0  1  15  a  100\n",
       "1  2  25  b  200\n",
       "2  3  35  c  300\n",
       "3  4  45  d  400\n",
       "4  5  55  e  500"
      ]
     },
     "execution_count": 14,
     "metadata": {},
     "output_type": "execute_result"
    }
   ],
   "source": [
    "# Pandas: aggiungere/modificare colonne\n",
    "pandas_df_mod = pandas_df.copy()\n",
    "pandas_df_mod['D'] = pandas_df_mod['A'] * 100  # Nuova colonna\n",
    "pandas_df_mod['B'] = pandas_df_mod['B'] + 5    # Modifica colonna esistente\n",
    "pandas_df_mod"
   ]
  },
  {
   "cell_type": "code",
   "execution_count": 15,
   "id": "332cde97",
   "metadata": {
    "slideshow": {
     "slide_type": "fragment"
    }
   },
   "outputs": [
    {
     "data": {
      "text/html": [
       "<div><style>\n",
       ".dataframe > thead > tr,\n",
       ".dataframe > tbody > tr {\n",
       "  text-align: right;\n",
       "  white-space: pre-wrap;\n",
       "}\n",
       "</style>\n",
       "<small>shape: (5, 4)</small><table border=\"1\" class=\"dataframe\"><thead><tr><th>A</th><th>B</th><th>C</th><th>D</th></tr><tr><td>i64</td><td>i64</td><td>str</td><td>i64</td></tr></thead><tbody><tr><td>100</td><td>15</td><td>&quot;a&quot;</td><td>100</td></tr><tr><td>200</td><td>25</td><td>&quot;b&quot;</td><td>200</td></tr><tr><td>300</td><td>35</td><td>&quot;c&quot;</td><td>300</td></tr><tr><td>400</td><td>45</td><td>&quot;d&quot;</td><td>400</td></tr><tr><td>500</td><td>55</td><td>&quot;e&quot;</td><td>500</td></tr></tbody></table></div>"
      ],
      "text/plain": [
       "shape: (5, 4)\n",
       "┌─────┬─────┬─────┬─────┐\n",
       "│ A   ┆ B   ┆ C   ┆ D   │\n",
       "│ --- ┆ --- ┆ --- ┆ --- │\n",
       "│ i64 ┆ i64 ┆ str ┆ i64 │\n",
       "╞═════╪═════╪═════╪═════╡\n",
       "│ 100 ┆ 15  ┆ a   ┆ 100 │\n",
       "│ 200 ┆ 25  ┆ b   ┆ 200 │\n",
       "│ 300 ┆ 35  ┆ c   ┆ 300 │\n",
       "│ 400 ┆ 45  ┆ d   ┆ 400 │\n",
       "│ 500 ┆ 55  ┆ e   ┆ 500 │\n",
       "└─────┴─────┴─────┴─────┘"
      ]
     },
     "execution_count": 15,
     "metadata": {},
     "output_type": "execute_result"
    }
   ],
   "source": [
    "# Polars: aggiungere/modificare colonne\n",
    "polars_df.with_columns([\n",
    "    pl.col(\"A\") * 100,         # Sovrascrive \"A\"\n",
    "    (pl.col(\"B\") + 5).alias(\"B\"),  # Sovrascrive \"B\"\n",
    "    pl.col(\"A\").mul(100).alias(\"D\")  # Nuova colonna\n",
    "])"
   ]
  },
  {
   "cell_type": "markdown",
   "id": "84e20206",
   "metadata": {
    "slideshow": {
     "slide_type": "subslide"
    }
   },
   "source": [
    "## Pandas vs Polars: Filtri"
   ]
  },
  {
   "cell_type": "code",
   "execution_count": 16,
   "id": "9b54bf57",
   "metadata": {
    "slideshow": {
     "slide_type": "fragment"
    }
   },
   "outputs": [
    {
     "data": {
      "text/html": [
       "<div>\n",
       "<style scoped>\n",
       "    .dataframe tbody tr th:only-of-type {\n",
       "        vertical-align: middle;\n",
       "    }\n",
       "\n",
       "    .dataframe tbody tr th {\n",
       "        vertical-align: top;\n",
       "    }\n",
       "\n",
       "    .dataframe thead th {\n",
       "        text-align: right;\n",
       "    }\n",
       "</style>\n",
       "<table border=\"1\" class=\"dataframe\">\n",
       "  <thead>\n",
       "    <tr style=\"text-align: right;\">\n",
       "      <th></th>\n",
       "      <th>A</th>\n",
       "      <th>B</th>\n",
       "      <th>C</th>\n",
       "    </tr>\n",
       "  </thead>\n",
       "  <tbody>\n",
       "    <tr>\n",
       "      <th>2</th>\n",
       "      <td>3</td>\n",
       "      <td>30</td>\n",
       "      <td>c</td>\n",
       "    </tr>\n",
       "    <tr>\n",
       "      <th>3</th>\n",
       "      <td>4</td>\n",
       "      <td>40</td>\n",
       "      <td>d</td>\n",
       "    </tr>\n",
       "  </tbody>\n",
       "</table>\n",
       "</div>"
      ],
      "text/plain": [
       "   A   B  C\n",
       "2  3  30  c\n",
       "3  4  40  d"
      ]
     },
     "execution_count": 16,
     "metadata": {},
     "output_type": "execute_result"
    }
   ],
   "source": [
    "# Pandas: filtri con operatori booleani\n",
    "pandas_df[(pandas_df['A'] > 2) & (pandas_df['B'] <= 40)]\n",
    "# Alternativa: pandas_df.query(\"A > 2 & B <= 40\")"
   ]
  },
  {
   "cell_type": "code",
   "execution_count": 17,
   "id": "acc11ff6",
   "metadata": {
    "slideshow": {
     "slide_type": "fragment"
    }
   },
   "outputs": [
    {
     "data": {
      "text/html": [
       "<div><style>\n",
       ".dataframe > thead > tr,\n",
       ".dataframe > tbody > tr {\n",
       "  text-align: right;\n",
       "  white-space: pre-wrap;\n",
       "}\n",
       "</style>\n",
       "<small>shape: (2, 3)</small><table border=\"1\" class=\"dataframe\"><thead><tr><th>A</th><th>B</th><th>C</th></tr><tr><td>i64</td><td>i64</td><td>str</td></tr></thead><tbody><tr><td>3</td><td>30</td><td>&quot;c&quot;</td></tr><tr><td>4</td><td>40</td><td>&quot;d&quot;</td></tr></tbody></table></div>"
      ],
      "text/plain": [
       "shape: (2, 3)\n",
       "┌─────┬─────┬─────┐\n",
       "│ A   ┆ B   ┆ C   │\n",
       "│ --- ┆ --- ┆ --- │\n",
       "│ i64 ┆ i64 ┆ str │\n",
       "╞═════╪═════╪═════╡\n",
       "│ 3   ┆ 30  ┆ c   │\n",
       "│ 4   ┆ 40  ┆ d   │\n",
       "└─────┴─────┴─────┘"
      ]
     },
     "execution_count": 17,
     "metadata": {},
     "output_type": "execute_result"
    }
   ],
   "source": [
    "# Polars: filtri con context dedicato\n",
    "polars_df.filter(\n",
    "    (pl.col(\"A\") > 2) & (pl.col(\"B\") <= 40)\n",
    ")"
   ]
  },
  {
   "cell_type": "markdown",
   "id": "d61a48d2",
   "metadata": {
    "slideshow": {
     "slide_type": "subslide"
    }
   },
   "source": [
    "## Pandas vs Polars: Aggregazioni"
   ]
  },
  {
   "cell_type": "code",
   "execution_count": 18,
   "id": "58ac401e",
   "metadata": {
    "slideshow": {
     "slide_type": "subslide"
    }
   },
   "outputs": [
    {
     "data": {
      "text/html": [
       "<div>\n",
       "<style scoped>\n",
       "    .dataframe tbody tr th:only-of-type {\n",
       "        vertical-align: middle;\n",
       "    }\n",
       "\n",
       "    .dataframe tbody tr th {\n",
       "        vertical-align: top;\n",
       "    }\n",
       "\n",
       "    .dataframe thead th {\n",
       "        text-align: right;\n",
       "    }\n",
       "</style>\n",
       "<table border=\"1\" class=\"dataframe\">\n",
       "  <thead>\n",
       "    <tr style=\"text-align: right;\">\n",
       "      <th></th>\n",
       "      <th>gruppo</th>\n",
       "      <th>valore1</th>\n",
       "      <th>valore2</th>\n",
       "    </tr>\n",
       "  </thead>\n",
       "  <tbody>\n",
       "    <tr>\n",
       "      <th>0</th>\n",
       "      <td>A</td>\n",
       "      <td>10</td>\n",
       "      <td>100</td>\n",
       "    </tr>\n",
       "    <tr>\n",
       "      <th>1</th>\n",
       "      <td>A</td>\n",
       "      <td>20</td>\n",
       "      <td>110</td>\n",
       "    </tr>\n",
       "    <tr>\n",
       "      <th>2</th>\n",
       "      <td>A</td>\n",
       "      <td>15</td>\n",
       "      <td>120</td>\n",
       "    </tr>\n",
       "    <tr>\n",
       "      <th>3</th>\n",
       "      <td>B</td>\n",
       "      <td>30</td>\n",
       "      <td>200</td>\n",
       "    </tr>\n",
       "    <tr>\n",
       "      <th>4</th>\n",
       "      <td>B</td>\n",
       "      <td>25</td>\n",
       "      <td>210</td>\n",
       "    </tr>\n",
       "    <tr>\n",
       "      <th>5</th>\n",
       "      <td>C</td>\n",
       "      <td>40</td>\n",
       "      <td>300</td>\n",
       "    </tr>\n",
       "  </tbody>\n",
       "</table>\n",
       "</div>"
      ],
      "text/plain": [
       "  gruppo  valore1  valore2\n",
       "0      A       10      100\n",
       "1      A       20      110\n",
       "2      A       15      120\n",
       "3      B       30      200\n",
       "4      B       25      210\n",
       "5      C       40      300"
      ]
     },
     "execution_count": 18,
     "metadata": {},
     "output_type": "execute_result"
    }
   ],
   "source": [
    "# Dati più adatti per gruppi\n",
    "df_agg = pd.DataFrame({\n",
    "    'gruppo': ['A', 'A', 'A', 'B', 'B', 'C'],\n",
    "    'valore1': [10, 20, 15, 30, 25, 40],\n",
    "    'valore2': [100, 110, 120, 200, 210, 300]\n",
    "})\n",
    "\n",
    "df_agg"
   ]
  },
  {
   "cell_type": "code",
   "execution_count": 19,
   "id": "6996b613",
   "metadata": {
    "slideshow": {
     "slide_type": "subslide"
    }
   },
   "outputs": [
    {
     "data": {
      "text/html": [
       "<div>\n",
       "<style scoped>\n",
       "    .dataframe tbody tr th:only-of-type {\n",
       "        vertical-align: middle;\n",
       "    }\n",
       "\n",
       "    .dataframe tbody tr th {\n",
       "        vertical-align: top;\n",
       "    }\n",
       "\n",
       "    .dataframe thead tr th {\n",
       "        text-align: left;\n",
       "    }\n",
       "\n",
       "    .dataframe thead tr:last-of-type th {\n",
       "        text-align: right;\n",
       "    }\n",
       "</style>\n",
       "<table border=\"1\" class=\"dataframe\">\n",
       "  <thead>\n",
       "    <tr>\n",
       "      <th></th>\n",
       "      <th colspan=\"2\" halign=\"left\">valore1</th>\n",
       "      <th colspan=\"2\" halign=\"left\">valore2</th>\n",
       "    </tr>\n",
       "    <tr>\n",
       "      <th></th>\n",
       "      <th>sum</th>\n",
       "      <th>mean</th>\n",
       "      <th>min</th>\n",
       "      <th>max</th>\n",
       "    </tr>\n",
       "    <tr>\n",
       "      <th>gruppo</th>\n",
       "      <th></th>\n",
       "      <th></th>\n",
       "      <th></th>\n",
       "      <th></th>\n",
       "    </tr>\n",
       "  </thead>\n",
       "  <tbody>\n",
       "    <tr>\n",
       "      <th>A</th>\n",
       "      <td>45</td>\n",
       "      <td>15.0</td>\n",
       "      <td>100</td>\n",
       "      <td>120</td>\n",
       "    </tr>\n",
       "    <tr>\n",
       "      <th>B</th>\n",
       "      <td>55</td>\n",
       "      <td>27.5</td>\n",
       "      <td>200</td>\n",
       "      <td>210</td>\n",
       "    </tr>\n",
       "    <tr>\n",
       "      <th>C</th>\n",
       "      <td>40</td>\n",
       "      <td>40.0</td>\n",
       "      <td>300</td>\n",
       "      <td>300</td>\n",
       "    </tr>\n",
       "  </tbody>\n",
       "</table>\n",
       "</div>"
      ],
      "text/plain": [
       "       valore1       valore2     \n",
       "           sum  mean     min  max\n",
       "gruppo                           \n",
       "A           45  15.0     100  120\n",
       "B           55  27.5     200  210\n",
       "C           40  40.0     300  300"
      ]
     },
     "execution_count": 19,
     "metadata": {},
     "output_type": "execute_result"
    }
   ],
   "source": [
    "# Pandas: aggregazione con groupby\n",
    "df_agg.groupby('gruppo').agg({\n",
    "    'valore1': ['sum', 'mean'],\n",
    "    'valore2': ['min', 'max']\n",
    "})"
   ]
  },
  {
   "cell_type": "code",
   "execution_count": 20,
   "id": "f8d660c4",
   "metadata": {
    "slideshow": {
     "slide_type": "fragment"
    }
   },
   "outputs": [
    {
     "data": {
      "text/html": [
       "<div><style>\n",
       ".dataframe > thead > tr,\n",
       ".dataframe > tbody > tr {\n",
       "  text-align: right;\n",
       "  white-space: pre-wrap;\n",
       "}\n",
       "</style>\n",
       "<small>shape: (3, 5)</small><table border=\"1\" class=\"dataframe\"><thead><tr><th>gruppo</th><th>valore1_sum</th><th>valore1_mean</th><th>valore2_min</th><th>valore2_max</th></tr><tr><td>str</td><td>i64</td><td>f64</td><td>i64</td><td>i64</td></tr></thead><tbody><tr><td>&quot;B&quot;</td><td>55</td><td>27.5</td><td>200</td><td>210</td></tr><tr><td>&quot;C&quot;</td><td>40</td><td>40.0</td><td>300</td><td>300</td></tr><tr><td>&quot;A&quot;</td><td>45</td><td>15.0</td><td>100</td><td>120</td></tr></tbody></table></div>"
      ],
      "text/plain": [
       "shape: (3, 5)\n",
       "┌────────┬─────────────┬──────────────┬─────────────┬─────────────┐\n",
       "│ gruppo ┆ valore1_sum ┆ valore1_mean ┆ valore2_min ┆ valore2_max │\n",
       "│ ---    ┆ ---         ┆ ---          ┆ ---         ┆ ---         │\n",
       "│ str    ┆ i64         ┆ f64          ┆ i64         ┆ i64         │\n",
       "╞════════╪═════════════╪══════════════╪═════════════╪═════════════╡\n",
       "│ B      ┆ 55          ┆ 27.5         ┆ 200         ┆ 210         │\n",
       "│ C      ┆ 40          ┆ 40.0         ┆ 300         ┆ 300         │\n",
       "│ A      ┆ 45          ┆ 15.0         ┆ 100         ┆ 120         │\n",
       "└────────┴─────────────┴──────────────┴─────────────┴─────────────┘"
      ]
     },
     "execution_count": 20,
     "metadata": {},
     "output_type": "execute_result"
    }
   ],
   "source": [
    "# Polars: stesso dataset\n",
    "pl_agg = pl.from_pandas(df_agg)\n",
    "\n",
    "# Aggregazione con context dedicato\n",
    "pl_agg.group_by('gruppo').agg([\n",
    "    pl.col('valore1').sum().alias('valore1_sum'),\n",
    "    pl.col('valore1').mean().alias('valore1_mean'),\n",
    "    pl.col('valore2').min().alias('valore2_min'),\n",
    "    pl.col('valore2').max().alias('valore2_max')\n",
    "])"
   ]
  },
  {
   "cell_type": "markdown",
   "id": "e3175fe4",
   "metadata": {
    "slideshow": {
     "slide_type": "slide"
    }
   },
   "source": [
    "## Vantaggi Esclusivi di Polars"
   ]
  },
  {
   "cell_type": "markdown",
   "id": "5f6a1384",
   "metadata": {
    "slideshow": {
     "slide_type": "subslide"
    }
   },
   "source": [
    "### 1. Gestione Nativa delle Liste (No Object dtype)\n",
    "\n",
    "Pandas rappresenta liste come Python objects, causando inefficienze. Polars ha supporto nativo."
   ]
  },
  {
   "cell_type": "code",
   "execution_count": 21,
   "id": "a7e7f2a6",
   "metadata": {
    "slideshow": {
     "slide_type": "fragment"
    }
   },
   "outputs": [
    {
     "data": {
      "text/html": [
       "<div><style>\n",
       ".dataframe > thead > tr,\n",
       ".dataframe > tbody > tr {\n",
       "  text-align: right;\n",
       "  white-space: pre-wrap;\n",
       "}\n",
       "</style>\n",
       "<small>shape: (3, 2)</small><table border=\"1\" class=\"dataframe\"><thead><tr><th>ID</th><th>valori</th></tr><tr><td>i64</td><td>list[i64]</td></tr></thead><tbody><tr><td>1</td><td>[1, 2, 3]</td></tr><tr><td>2</td><td>[4, 5]</td></tr><tr><td>3</td><td>[6, 7, … 9]</td></tr></tbody></table></div>"
      ],
      "text/plain": [
       "shape: (3, 2)\n",
       "┌─────┬─────────────┐\n",
       "│ ID  ┆ valori      │\n",
       "│ --- ┆ ---         │\n",
       "│ i64 ┆ list[i64]   │\n",
       "╞═════╪═════════════╡\n",
       "│ 1   ┆ [1, 2, 3]   │\n",
       "│ 2   ┆ [4, 5]      │\n",
       "│ 3   ┆ [6, 7, … 9] │\n",
       "└─────┴─────────────┘"
      ]
     },
     "execution_count": 21,
     "metadata": {},
     "output_type": "execute_result"
    }
   ],
   "source": [
    "# Liste in Polars\n",
    "pl.DataFrame({\n",
    "    'ID': [1, 2, 3],\n",
    "    'valori': [[1,2,3], [4,5], [6,7,8,9]]\n",
    "})"
   ]
  },
  {
   "cell_type": "code",
   "execution_count": 22,
   "id": "6c5155f9",
   "metadata": {
    "slideshow": {
     "slide_type": "fragment"
    }
   },
   "outputs": [
    {
     "data": {
      "text/html": [
       "<div><style>\n",
       ".dataframe > thead > tr,\n",
       ".dataframe > tbody > tr {\n",
       "  text-align: right;\n",
       "  white-space: pre-wrap;\n",
       "}\n",
       "</style>\n",
       "<small>shape: (3, 4)</small><table border=\"1\" class=\"dataframe\"><thead><tr><th>ID</th><th>valori</th><th>lunghezza</th><th>somma</th></tr><tr><td>i64</td><td>list[i64]</td><td>u32</td><td>i64</td></tr></thead><tbody><tr><td>1</td><td>[1, 2, 3]</td><td>3</td><td>6</td></tr><tr><td>2</td><td>[4, 5]</td><td>2</td><td>9</td></tr><tr><td>3</td><td>[6, 7, … 9]</td><td>4</td><td>30</td></tr></tbody></table></div>"
      ],
      "text/plain": [
       "shape: (3, 4)\n",
       "┌─────┬─────────────┬───────────┬───────┐\n",
       "│ ID  ┆ valori      ┆ lunghezza ┆ somma │\n",
       "│ --- ┆ ---         ┆ ---       ┆ ---   │\n",
       "│ i64 ┆ list[i64]   ┆ u32       ┆ i64   │\n",
       "╞═════╪═════════════╪═══════════╪═══════╡\n",
       "│ 1   ┆ [1, 2, 3]   ┆ 3         ┆ 6     │\n",
       "│ 2   ┆ [4, 5]      ┆ 2         ┆ 9     │\n",
       "│ 3   ┆ [6, 7, … 9] ┆ 4         ┆ 30    │\n",
       "└─────┴─────────────┴───────────┴───────┘"
      ]
     },
     "execution_count": 22,
     "metadata": {},
     "output_type": "execute_result"
    }
   ],
   "source": [
    "# Operazioni su liste\n",
    "df_list = pl.DataFrame({\n",
    "    'ID': [1, 2, 3],\n",
    "    'valori': [[1,2,3], [4,5], [6,7,8,9]]\n",
    "})\n",
    "\n",
    "df_list.with_columns([\n",
    "    pl.col('valori').list.len().alias('lunghezza'),\n",
    "    pl.col('valori').list.sum().alias('somma')\n",
    "])"
   ]
  },
  {
   "cell_type": "markdown",
   "id": "e3be3b96",
   "metadata": {
    "slideshow": {
     "slide_type": "subslide"
    }
   },
   "source": [
    "### 2. Lazy Evaluation"
   ]
  },
  {
   "cell_type": "code",
   "execution_count": 23,
   "id": "5b5c219c",
   "metadata": {
    "slideshow": {
     "slide_type": "subslide"
    }
   },
   "outputs": [
    {
     "data": {
      "text/html": [
       "<h4>NAIVE QUERY PLAN</h4><p>run <b>LazyFrame.show_graph()</b> to see the optimized version</p><?xml version=\"1.0\" encoding=\"UTF-8\" standalone=\"no\"?>\r\n",
       "<!DOCTYPE svg PUBLIC \"-//W3C//DTD SVG 1.1//EN\"\r\n",
       " \"http://www.w3.org/Graphics/SVG/1.1/DTD/svg11.dtd\">\r\n",
       "<!-- Generated by graphviz version 11.0.0 (20240428.1522)\r\n",
       " -->\r\n",
       "<!-- Title: polars_query Pages: 1 -->\r\n",
       "<svg width=\"557pt\" height=\"299pt\"\r\n",
       " viewBox=\"0.00 0.00 556.50 298.50\" xmlns=\"http://www.w3.org/2000/svg\" xmlns:xlink=\"http://www.w3.org/1999/xlink\">\r\n",
       "<g id=\"graph0\" class=\"graph\" transform=\"scale(1 1) rotate(0) translate(4 294.5)\">\r\n",
       "<title>polars_query</title>\r\n",
       "<polygon fill=\"white\" stroke=\"none\" points=\"-4,4 -4,-294.5 552.5,-294.5 552.5,4 -4,4\"/>\r\n",
       "<!-- p1 -->\r\n",
       "<g id=\"node1\" class=\"node\">\r\n",
       "<title>p1</title>\r\n",
       "<polygon fill=\"none\" stroke=\"black\" points=\"373.38,-290.5 175.12,-290.5 175.12,-254.5 373.38,-254.5 373.38,-290.5\"/>\r\n",
       "<text text-anchor=\"middle\" x=\"274.25\" y=\"-267.07\" font-family=\"Times New Roman,serif\" font-size=\"14.00\">SORT BY [col(&quot;valore1_sum&quot;)]</text>\r\n",
       "</g>\r\n",
       "<!-- p2 -->\r\n",
       "<g id=\"node2\" class=\"node\">\r\n",
       "<title>p2</title>\r\n",
       "<polygon fill=\"none\" stroke=\"black\" points=\"548.5,-218.5 0,-218.5 0,-163.25 548.5,-163.25 548.5,-218.5\"/>\r\n",
       "<text text-anchor=\"middle\" x=\"274.25\" y=\"-201.2\" font-family=\"Times New Roman,serif\" font-size=\"14.00\">AGG [col(&quot;valore1&quot;).sum().alias(&quot;valore1_sum&quot;), col(&quot;valore2&quot;).mean().alias(&quot;valore2_mean&quot;)]</text>\r\n",
       "<text text-anchor=\"middle\" x=\"274.25\" y=\"-185.45\" font-family=\"Times New Roman,serif\" font-size=\"14.00\">BY</text>\r\n",
       "<text text-anchor=\"middle\" x=\"274.25\" y=\"-169.7\" font-family=\"Times New Roman,serif\" font-size=\"14.00\">[col(&quot;gruppo&quot;)]</text>\r\n",
       "</g>\r\n",
       "<!-- p1&#45;&#45;p2 -->\r\n",
       "<g id=\"edge1\" class=\"edge\">\r\n",
       "<title>p1&#45;&#45;p2</title>\r\n",
       "<path fill=\"none\" stroke=\"black\" d=\"M274.25,-254.22C274.25,-243.89 274.25,-230.53 274.25,-218.83\"/>\r\n",
       "</g>\r\n",
       "<!-- p3 -->\r\n",
       "<g id=\"node3\" class=\"node\">\r\n",
       "<title>p3</title>\r\n",
       "<polygon fill=\"none\" stroke=\"black\" points=\"386.88,-127.25 161.62,-127.25 161.62,-91.25 386.88,-91.25 386.88,-127.25\"/>\r\n",
       "<text text-anchor=\"middle\" x=\"274.25\" y=\"-103.83\" font-family=\"Times New Roman,serif\" font-size=\"14.00\">FILTER BY [(col(&quot;valore1&quot;)) &gt; (15)]</text>\r\n",
       "</g>\r\n",
       "<!-- p2&#45;&#45;p3 -->\r\n",
       "<g id=\"edge2\" class=\"edge\">\r\n",
       "<title>p2&#45;&#45;p3</title>\r\n",
       "<path fill=\"none\" stroke=\"black\" d=\"M274.25,-162.92C274.25,-151.19 274.25,-137.79 274.25,-127.44\"/>\r\n",
       "</g>\r\n",
       "<!-- p4 -->\r\n",
       "<g id=\"node4\" class=\"node\">\r\n",
       "<title>p4</title>\r\n",
       "<polygon fill=\"none\" stroke=\"black\" points=\"304.38,-55.25 244.12,-55.25 244.12,0 304.38,0 304.38,-55.25\"/>\r\n",
       "<text text-anchor=\"middle\" x=\"274.25\" y=\"-37.95\" font-family=\"Times New Roman,serif\" font-size=\"14.00\">TABLE</text>\r\n",
       "<text text-anchor=\"middle\" x=\"274.25\" y=\"-22.2\" font-family=\"Times New Roman,serif\" font-size=\"14.00\">π */3;</text>\r\n",
       "<text text-anchor=\"middle\" x=\"274.25\" y=\"-6.45\" font-family=\"Times New Roman,serif\" font-size=\"14.00\">σ None</text>\r\n",
       "</g>\r\n",
       "<!-- p3&#45;&#45;p4 -->\r\n",
       "<g id=\"edge3\" class=\"edge\">\r\n",
       "<title>p3&#45;&#45;p4</title>\r\n",
       "<path fill=\"none\" stroke=\"black\" d=\"M274.25,-90.97C274.25,-80.64 274.25,-67.28 274.25,-55.58\"/>\r\n",
       "</g>\r\n",
       "</g>\r\n",
       "</svg>\r\n"
      ],
      "text/plain": [
       "<LazyFrame at 0x1F504C2D070>"
      ]
     },
     "execution_count": 23,
     "metadata": {},
     "output_type": "execute_result"
    }
   ],
   "source": [
    "# Polars: Lazy API con ottimizzazione automatica\n",
    "lazy_query = (\n",
    "    pl_agg.lazy()\n",
    "    .filter(pl.col('valore1') > 15)\n",
    "    .group_by('gruppo')\n",
    "    .agg([\n",
    "        pl.col('valore1').sum().alias('valore1_sum'),\n",
    "        pl.col('valore2').mean().alias('valore2_mean')\n",
    "    ])\n",
    "    .sort('valore1_sum', descending=True)\n",
    ")\n",
    "\n",
    "# Visualizza il piano di query invece di eseguirlo\n",
    "lazy_query"
   ]
  },
  {
   "cell_type": "code",
   "execution_count": 24,
   "id": "462b8e45",
   "metadata": {
    "slideshow": {
     "slide_type": "subslide"
    }
   },
   "outputs": [
    {
     "data": {
      "text/html": [
       "<div><style>\n",
       ".dataframe > thead > tr,\n",
       ".dataframe > tbody > tr {\n",
       "  text-align: right;\n",
       "  white-space: pre-wrap;\n",
       "}\n",
       "</style>\n",
       "<small>shape: (3, 3)</small><table border=\"1\" class=\"dataframe\"><thead><tr><th>gruppo</th><th>valore1_sum</th><th>valore2_mean</th></tr><tr><td>str</td><td>i64</td><td>f64</td></tr></thead><tbody><tr><td>&quot;B&quot;</td><td>55</td><td>205.0</td></tr><tr><td>&quot;C&quot;</td><td>40</td><td>300.0</td></tr><tr><td>&quot;A&quot;</td><td>20</td><td>110.0</td></tr></tbody></table></div>"
      ],
      "text/plain": [
       "shape: (3, 3)\n",
       "┌────────┬─────────────┬──────────────┐\n",
       "│ gruppo ┆ valore1_sum ┆ valore2_mean │\n",
       "│ ---    ┆ ---         ┆ ---          │\n",
       "│ str    ┆ i64         ┆ f64          │\n",
       "╞════════╪═════════════╪══════════════╡\n",
       "│ B      ┆ 55          ┆ 205.0        │\n",
       "│ C      ┆ 40          ┆ 300.0        │\n",
       "│ A      ┆ 20          ┆ 110.0        │\n",
       "└────────┴─────────────┴──────────────┘"
      ]
     },
     "execution_count": 24,
     "metadata": {},
     "output_type": "execute_result"
    }
   ],
   "source": [
    "# Esecuzione della query ottimizzata\n",
    "lazy_query.collect()"
   ]
  },
  {
   "cell_type": "code",
   "execution_count": 25,
   "id": "6d477c57",
   "metadata": {
    "slideshow": {
     "slide_type": "fragment"
    }
   },
   "outputs": [
    {
     "data": {
      "image/svg+xml": [
       "<svg xmlns=\"http://www.w3.org/2000/svg\" xmlns:xlink=\"http://www.w3.org/1999/xlink\" width=\"557pt\" height=\"227pt\" viewBox=\"0.00 0.00 556.50 226.50\">\n",
       "<g id=\"graph0\" class=\"graph\" transform=\"scale(1 1) rotate(0) translate(4 222.5)\">\n",
       "<title>polars_query</title>\n",
       "<polygon fill=\"white\" stroke=\"none\" points=\"-4,4 -4,-222.5 552.5,-222.5 552.5,4 -4,4\"/>\n",
       "<!-- p1 -->\n",
       "<g id=\"node1\" class=\"node\">\n",
       "<title>p1</title>\n",
       "<polygon fill=\"none\" stroke=\"black\" points=\"373.38,-218.5 175.12,-218.5 175.12,-182.5 373.38,-182.5 373.38,-218.5\"/>\n",
       "<text text-anchor=\"middle\" x=\"274.25\" y=\"-195.07\" font-family=\"Times New Roman,serif\" font-size=\"14.00\">SORT BY [col(&quot;valore1_sum&quot;)]</text>\n",
       "</g>\n",
       "<!-- p2 -->\n",
       "<g id=\"node2\" class=\"node\">\n",
       "<title>p2</title>\n",
       "<polygon fill=\"none\" stroke=\"black\" points=\"548.5,-146.5 0,-146.5 0,-91.25 548.5,-91.25 548.5,-146.5\"/>\n",
       "<text text-anchor=\"middle\" x=\"274.25\" y=\"-129.2\" font-family=\"Times New Roman,serif\" font-size=\"14.00\">AGG [col(&quot;valore1&quot;).sum().alias(&quot;valore1_sum&quot;), col(&quot;valore2&quot;).mean().alias(&quot;valore2_mean&quot;)]</text>\n",
       "<text text-anchor=\"middle\" x=\"274.25\" y=\"-113.45\" font-family=\"Times New Roman,serif\" font-size=\"14.00\">BY</text>\n",
       "<text text-anchor=\"middle\" x=\"274.25\" y=\"-97.7\" font-family=\"Times New Roman,serif\" font-size=\"14.00\">[col(&quot;gruppo&quot;)]</text>\n",
       "</g>\n",
       "<!-- p1&#45;&#45;p2 -->\n",
       "<g id=\"edge1\" class=\"edge\">\n",
       "<title>p1--p2</title>\n",
       "<path fill=\"none\" stroke=\"black\" d=\"M274.25,-182.22C274.25,-171.89 274.25,-158.53 274.25,-146.83\"/>\n",
       "</g>\n",
       "<!-- p3 -->\n",
       "<g id=\"node3\" class=\"node\">\n",
       "<title>p3</title>\n",
       "<polygon fill=\"none\" stroke=\"black\" points=\"355.38,-55.25 193.12,-55.25 193.12,0 355.38,0 355.38,-55.25\"/>\n",
       "<text text-anchor=\"middle\" x=\"274.25\" y=\"-37.95\" font-family=\"Times New Roman,serif\" font-size=\"14.00\">TABLE</text>\n",
       "<text text-anchor=\"middle\" x=\"274.25\" y=\"-22.2\" font-family=\"Times New Roman,serif\" font-size=\"14.00\">π 3/3;</text>\n",
       "<text text-anchor=\"middle\" x=\"274.25\" y=\"-6.45\" font-family=\"Times New Roman,serif\" font-size=\"14.00\">σ [(col(&quot;valore1&quot;)) &gt; (15)]</text>\n",
       "</g>\n",
       "<!-- p2&#45;&#45;p3 -->\n",
       "<g id=\"edge2\" class=\"edge\">\n",
       "<title>p2--p3</title>\n",
       "<path fill=\"none\" stroke=\"black\" d=\"M274.25,-91.1C274.25,-79.9 274.25,-66.92 274.25,-55.69\"/>\n",
       "</g>\n",
       "</g>\n",
       "</svg>"
      ],
      "text/plain": [
       "<IPython.core.display.SVG object>"
      ]
     },
     "metadata": {},
     "output_type": "display_data"
    }
   ],
   "source": [
    "# Visualizzazione grafica del piano di esecuzione\n",
    "lazy_query.show_graph()"
   ]
  },
  {
   "cell_type": "markdown",
   "id": "0404b624",
   "metadata": {
    "slideshow": {
     "slide_type": "subslide"
    }
   },
   "source": [
    "### 3. Operazioni Orizzontali e Folds"
   ]
  },
  {
   "cell_type": "code",
   "execution_count": 26,
   "id": "800653fc",
   "metadata": {
    "slideshow": {
     "slide_type": "fragment"
    }
   },
   "outputs": [
    {
     "data": {
      "text/html": [
       "<div><style>\n",
       ".dataframe > thead > tr,\n",
       ".dataframe > tbody > tr {\n",
       "  text-align: right;\n",
       "  white-space: pre-wrap;\n",
       "}\n",
       "</style>\n",
       "<small>shape: (6, 1)</small><table border=\"1\" class=\"dataframe\"><thead><tr><th>somma_orizzontale</th></tr><tr><td>i64</td></tr></thead><tbody><tr><td>110</td></tr><tr><td>130</td></tr><tr><td>135</td></tr><tr><td>230</td></tr><tr><td>235</td></tr><tr><td>340</td></tr></tbody></table></div>"
      ],
      "text/plain": [
       "shape: (6, 1)\n",
       "┌───────────────────┐\n",
       "│ somma_orizzontale │\n",
       "│ ---               │\n",
       "│ i64               │\n",
       "╞═══════════════════╡\n",
       "│ 110               │\n",
       "│ 130               │\n",
       "│ 135               │\n",
       "│ 230               │\n",
       "│ 235               │\n",
       "│ 340               │\n",
       "└───────────────────┘"
      ]
     },
     "execution_count": 26,
     "metadata": {},
     "output_type": "execute_result"
    }
   ],
   "source": [
    "import polars.selectors as cs\n",
    "\n",
    "# Aggregazione orizzontale di valori\n",
    "pl_agg.select(\n",
    "    pl.sum_horizontal(cs.numeric()).alias(\"somma_orizzontale\")\n",
    ")"
   ]
  },
  {
   "cell_type": "code",
   "execution_count": 27,
   "id": "e83cd805",
   "metadata": {
    "slideshow": {
     "slide_type": "fragment"
    }
   },
   "outputs": [
    {
     "data": {
      "text/html": [
       "<div><style>\n",
       ".dataframe > thead > tr,\n",
       ".dataframe > tbody > tr {\n",
       "  text-align: right;\n",
       "  white-space: pre-wrap;\n",
       "}\n",
       "</style>\n",
       "<small>shape: (6, 1)</small><table border=\"1\" class=\"dataframe\"><thead><tr><th>prodotto_valori</th></tr><tr><td>i64</td></tr></thead><tbody><tr><td>1000</td></tr><tr><td>2200</td></tr><tr><td>1800</td></tr><tr><td>6000</td></tr><tr><td>5250</td></tr><tr><td>12000</td></tr></tbody></table></div>"
      ],
      "text/plain": [
       "shape: (6, 1)\n",
       "┌─────────────────┐\n",
       "│ prodotto_valori │\n",
       "│ ---             │\n",
       "│ i64             │\n",
       "╞═════════════════╡\n",
       "│ 1000            │\n",
       "│ 2200            │\n",
       "│ 1800            │\n",
       "│ 6000            │\n",
       "│ 5250            │\n",
       "│ 12000           │\n",
       "└─────────────────┘"
      ]
     },
     "execution_count": 27,
     "metadata": {},
     "output_type": "execute_result"
    }
   ],
   "source": [
    "# Fold (riduzione personalizzata)\n",
    "pl_agg.select(\n",
    "    pl.fold(\n",
    "        acc=pl.lit(1),\n",
    "        function=lambda acc, x: acc * x,\n",
    "        exprs=pl.col(['valore1', 'valore2'])\n",
    "    ).alias('prodotto_valori')\n",
    ")"
   ]
  },
  {
   "cell_type": "markdown",
   "id": "74032da8",
   "metadata": {
    "slideshow": {
     "slide_type": "subslide"
    }
   },
   "source": [
    "## Pandas vs Polars: Join"
   ]
  },
  {
   "cell_type": "code",
   "execution_count": 28,
   "id": "f7b63870",
   "metadata": {
    "slideshow": {
     "slide_type": "subslide"
    }
   },
   "outputs": [
    {
     "data": {
      "text/html": [
       "<div>\n",
       "<style scoped>\n",
       "    .dataframe tbody tr th:only-of-type {\n",
       "        vertical-align: middle;\n",
       "    }\n",
       "\n",
       "    .dataframe tbody tr th {\n",
       "        vertical-align: top;\n",
       "    }\n",
       "\n",
       "    .dataframe thead th {\n",
       "        text-align: right;\n",
       "    }\n",
       "</style>\n",
       "<table border=\"1\" class=\"dataframe\">\n",
       "  <thead>\n",
       "    <tr style=\"text-align: right;\">\n",
       "      <th></th>\n",
       "      <th>customer_id</th>\n",
       "      <th>name</th>\n",
       "      <th>order_id</th>\n",
       "      <th>amount</th>\n",
       "    </tr>\n",
       "  </thead>\n",
       "  <tbody>\n",
       "    <tr>\n",
       "      <th>0</th>\n",
       "      <td>1</td>\n",
       "      <td>Alice</td>\n",
       "      <td>102</td>\n",
       "      <td>25</td>\n",
       "    </tr>\n",
       "    <tr>\n",
       "      <th>1</th>\n",
       "      <td>1</td>\n",
       "      <td>Alice</td>\n",
       "      <td>105</td>\n",
       "      <td>15</td>\n",
       "    </tr>\n",
       "    <tr>\n",
       "      <th>2</th>\n",
       "      <td>2</td>\n",
       "      <td>Bob</td>\n",
       "      <td>104</td>\n",
       "      <td>40</td>\n",
       "    </tr>\n",
       "    <tr>\n",
       "      <th>3</th>\n",
       "      <td>3</td>\n",
       "      <td>Carol</td>\n",
       "      <td>101</td>\n",
       "      <td>50</td>\n",
       "    </tr>\n",
       "    <tr>\n",
       "      <th>4</th>\n",
       "      <td>5</td>\n",
       "      <td>Eve</td>\n",
       "      <td>103</td>\n",
       "      <td>75</td>\n",
       "    </tr>\n",
       "  </tbody>\n",
       "</table>\n",
       "</div>"
      ],
      "text/plain": [
       "   customer_id   name  order_id  amount\n",
       "0            1  Alice       102      25\n",
       "1            1  Alice       105      15\n",
       "2            2    Bob       104      40\n",
       "3            3  Carol       101      50\n",
       "4            5    Eve       103      75"
      ]
     },
     "execution_count": 28,
     "metadata": {},
     "output_type": "execute_result"
    }
   ],
   "source": [
    "customers = pd.DataFrame({\n",
    "    'customer_id': [1, 2, 3, 4, 5],\n",
    "    'name': ['Alice', 'Bob', 'Carol', 'Dave', 'Eve']\n",
    "})\n",
    "\n",
    "orders = pd.DataFrame({\n",
    "    'order_id': [101, 102, 103, 104, 105],\n",
    "    'customer_id': [3, 1, 5, 2, 1],\n",
    "    'amount': [50, 25, 75, 40, 15]\n",
    "})\n",
    "\n",
    "# Pandas join (usando merge)\n",
    "pd_joined = customers.merge(\n",
    "    orders, \n",
    "    on='customer_id', \n",
    "    how='inner'\n",
    ")\n",
    "\n",
    "pd_joined"
   ]
  },
  {
   "cell_type": "code",
   "execution_count": 30,
   "id": "4c3a4b51",
   "metadata": {
    "slideshow": {
     "slide_type": "subslide"
    }
   },
   "outputs": [
    {
     "data": {
      "text/html": [
       "<div><style>\n",
       ".dataframe > thead > tr,\n",
       ".dataframe > tbody > tr {\n",
       "  text-align: right;\n",
       "  white-space: pre-wrap;\n",
       "}\n",
       "</style>\n",
       "<small>shape: (1, 2)</small><table border=\"1\" class=\"dataframe\"><thead><tr><th>customer_id</th><th>name</th></tr><tr><td>i64</td><td>str</td></tr></thead><tbody><tr><td>4</td><td>&quot;Dave&quot;</td></tr></tbody></table></div>"
      ],
      "text/plain": [
       "shape: (1, 2)\n",
       "┌─────────────┬──────┐\n",
       "│ customer_id ┆ name │\n",
       "│ ---         ┆ ---  │\n",
       "│ i64         ┆ str  │\n",
       "╞═════════════╪══════╡\n",
       "│ 4           ┆ Dave │\n",
       "└─────────────┴──────┘"
      ]
     },
     "execution_count": 30,
     "metadata": {},
     "output_type": "execute_result"
    }
   ],
   "source": [
    "pl_customers = pl.from_pandas(customers)\n",
    "\n",
    "pl_orders = pl.from_pandas(orders)\n",
    "\n",
    "# Join in Polars (più esplicito)\n",
    "pl_joined = pl_customers.join(\n",
    "    pl_orders,\n",
    "    on='customer_id',\n",
    "    how='anti'\n",
    ")\n",
    "\n",
    "pl_joined"
   ]
  },
  {
   "cell_type": "markdown",
   "id": "71f698e2",
   "metadata": {
    "slideshow": {
     "slide_type": "subslide"
    }
   },
   "source": [
    "## Pandas vs Polars: Gestione Stringhe"
   ]
  },
  {
   "cell_type": "code",
   "execution_count": 31,
   "id": "eaf3bf74",
   "metadata": {
    "slideshow": {
     "slide_type": "subslide"
    }
   },
   "outputs": [
    {
     "data": {
      "text/html": [
       "<div>\n",
       "<style scoped>\n",
       "    .dataframe tbody tr th:only-of-type {\n",
       "        vertical-align: middle;\n",
       "    }\n",
       "\n",
       "    .dataframe tbody tr th {\n",
       "        vertical-align: top;\n",
       "    }\n",
       "\n",
       "    .dataframe thead th {\n",
       "        text-align: right;\n",
       "    }\n",
       "</style>\n",
       "<table border=\"1\" class=\"dataframe\">\n",
       "  <thead>\n",
       "    <tr style=\"text-align: right;\">\n",
       "      <th></th>\n",
       "      <th>id</th>\n",
       "      <th>text</th>\n",
       "      <th>uppercase</th>\n",
       "      <th>words</th>\n",
       "      <th>word_count</th>\n",
       "    </tr>\n",
       "  </thead>\n",
       "  <tbody>\n",
       "    <tr>\n",
       "      <th>0</th>\n",
       "      <td>1</td>\n",
       "      <td>hello world</td>\n",
       "      <td>HELLO WORLD</td>\n",
       "      <td>[hello, world]</td>\n",
       "      <td>2</td>\n",
       "    </tr>\n",
       "    <tr>\n",
       "      <th>1</th>\n",
       "      <td>2</td>\n",
       "      <td>data science</td>\n",
       "      <td>DATA SCIENCE</td>\n",
       "      <td>[data, scie...</td>\n",
       "      <td>2</td>\n",
       "    </tr>\n",
       "    <tr>\n",
       "      <th>2</th>\n",
       "      <td>3</td>\n",
       "      <td>pandas vs p...</td>\n",
       "      <td>PANDAS VS P...</td>\n",
       "      <td>[pandas, vs...</td>\n",
       "      <td>3</td>\n",
       "    </tr>\n",
       "    <tr>\n",
       "      <th>3</th>\n",
       "      <td>4</td>\n",
       "      <td>python is g...</td>\n",
       "      <td>PYTHON IS G...</td>\n",
       "      <td>[python, is...</td>\n",
       "      <td>3</td>\n",
       "    </tr>\n",
       "  </tbody>\n",
       "</table>\n",
       "</div>"
      ],
      "text/plain": [
       "   id            text       uppercase           words  word_count\n",
       "0   1     hello world     HELLO WORLD  [hello, world]           2\n",
       "1   2    data science    DATA SCIENCE  [data, scie...           2\n",
       "2   3  pandas vs p...  PANDAS VS P...  [pandas, vs...           3\n",
       "3   4  python is g...  PYTHON IS G...  [python, is...           3"
      ]
     },
     "execution_count": 31,
     "metadata": {},
     "output_type": "execute_result"
    }
   ],
   "source": [
    "# DataFrame con stringhe\n",
    "text_df = pd.DataFrame({\n",
    "    'id': [1, 2, 3, 4],\n",
    "    'text': ['hello world', 'data science', 'pandas vs polars', 'python is great']\n",
    "})\n",
    "\n",
    "# Manipolazione stringhe in Pandas\n",
    "text_df['uppercase'] = text_df['text'].str.upper()\n",
    "text_df['words'] = text_df['text'].str.split()\n",
    "text_df['word_count'] = text_df['text'].str.count(' ') + 1\n",
    "\n",
    "text_df"
   ]
  },
  {
   "cell_type": "code",
   "execution_count": 32,
   "id": "1ee2903f",
   "metadata": {
    "slideshow": {
     "slide_type": "fragment"
    }
   },
   "outputs": [
    {
     "data": {
      "text/html": [
       "<div><style>\n",
       ".dataframe > thead > tr,\n",
       ".dataframe > tbody > tr {\n",
       "  text-align: right;\n",
       "  white-space: pre-wrap;\n",
       "}\n",
       "</style>\n",
       "<small>shape: (4, 5)</small><table border=\"1\" class=\"dataframe\"><thead><tr><th>id</th><th>text</th><th>uppercase</th><th>words</th><th>word_count</th></tr><tr><td>i64</td><td>str</td><td>str</td><td>list[str]</td><td>u32</td></tr></thead><tbody><tr><td>1</td><td>&quot;hello world&quot;</td><td>&quot;HELLO WORLD&quot;</td><td>[&quot;hello&quot;, &quot;world&quot;]</td><td>2</td></tr><tr><td>2</td><td>&quot;data science&quot;</td><td>&quot;DATA SCIENCE&quot;</td><td>[&quot;data&quot;, &quot;science&quot;]</td><td>2</td></tr><tr><td>3</td><td>&quot;pandas vs polars&quot;</td><td>&quot;PANDAS VS POLARS&quot;</td><td>[&quot;pandas&quot;, &quot;vs&quot;, &quot;polars&quot;]</td><td>3</td></tr><tr><td>4</td><td>&quot;python is great&quot;</td><td>&quot;PYTHON IS GREAT&quot;</td><td>[&quot;python&quot;, &quot;is&quot;, &quot;great&quot;]</td><td>3</td></tr></tbody></table></div>"
      ],
      "text/plain": [
       "shape: (4, 5)\n",
       "┌─────┬──────────────────┬──────────────────┬────────────────────────────┬────────────┐\n",
       "│ id  ┆ text             ┆ uppercase        ┆ words                      ┆ word_count │\n",
       "│ --- ┆ ---              ┆ ---              ┆ ---                        ┆ ---        │\n",
       "│ i64 ┆ str              ┆ str              ┆ list[str]                  ┆ u32        │\n",
       "╞═════╪══════════════════╪══════════════════╪════════════════════════════╪════════════╡\n",
       "│ 1   ┆ hello world      ┆ HELLO WORLD      ┆ [\"hello\", \"world\"]         ┆ 2          │\n",
       "│ 2   ┆ data science     ┆ DATA SCIENCE     ┆ [\"data\", \"science\"]        ┆ 2          │\n",
       "│ 3   ┆ pandas vs polars ┆ PANDAS VS POLARS ┆ [\"pandas\", \"vs\", \"polars\"] ┆ 3          │\n",
       "│ 4   ┆ python is great  ┆ PYTHON IS GREAT  ┆ [\"python\", \"is\", \"great\"]  ┆ 3          │\n",
       "└─────┴──────────────────┴──────────────────┴────────────────────────────┴────────────┘"
      ]
     },
     "execution_count": 32,
     "metadata": {},
     "output_type": "execute_result"
    }
   ],
   "source": [
    "# DataFrame equivalente in Polars\n",
    "pl_text = pl.DataFrame({\n",
    "    'id': [1, 2, 3, 4],\n",
    "    'text': ['hello world', 'data science', 'pandas vs polars', 'python is great']\n",
    "})\n",
    "\n",
    "# Manipolazione stringhe in Polars\n",
    "pl_text.with_columns([\n",
    "    pl.col('text').str.to_uppercase().alias('uppercase'),\n",
    "    pl.col('text').str.split(' ').alias('words'),\n",
    "    (pl.col('text').str.count_matches(' ') + 1).alias('word_count')\n",
    "])"
   ]
  },
  {
   "cell_type": "markdown",
   "id": "eee72e3e",
   "metadata": {
    "slideshow": {
     "slide_type": "subslide"
    }
   },
   "source": [
    "## Pipeline di Trasformazioni"
   ]
  },
  {
   "cell_type": "code",
   "execution_count": 33,
   "id": "6570d667",
   "metadata": {
    "slideshow": {
     "slide_type": "fragment"
    }
   },
   "outputs": [
    {
     "data": {
      "text/html": [
       "<div>\n",
       "<style scoped>\n",
       "    .dataframe tbody tr th:only-of-type {\n",
       "        vertical-align: middle;\n",
       "    }\n",
       "\n",
       "    .dataframe tbody tr th {\n",
       "        vertical-align: top;\n",
       "    }\n",
       "\n",
       "    .dataframe thead th {\n",
       "        text-align: right;\n",
       "    }\n",
       "</style>\n",
       "<table border=\"1\" class=\"dataframe\">\n",
       "  <thead>\n",
       "    <tr style=\"text-align: right;\">\n",
       "      <th></th>\n",
       "      <th>gruppo</th>\n",
       "      <th>valore1_sum</th>\n",
       "      <th>valore2_mean</th>\n",
       "    </tr>\n",
       "  </thead>\n",
       "  <tbody>\n",
       "    <tr>\n",
       "      <th>0</th>\n",
       "      <td>B</td>\n",
       "      <td>55</td>\n",
       "      <td>205.0</td>\n",
       "    </tr>\n",
       "    <tr>\n",
       "      <th>1</th>\n",
       "      <td>C</td>\n",
       "      <td>40</td>\n",
       "      <td>300.0</td>\n",
       "    </tr>\n",
       "    <tr>\n",
       "      <th>2</th>\n",
       "      <td>A</td>\n",
       "      <td>20</td>\n",
       "      <td>110.0</td>\n",
       "    </tr>\n",
       "  </tbody>\n",
       "</table>\n",
       "</div>"
      ],
      "text/plain": [
       "  gruppo  valore1_sum  valore2_mean\n",
       "0      B           55         205.0\n",
       "1      C           40         300.0\n",
       "2      A           20         110.0"
      ]
     },
     "execution_count": 33,
     "metadata": {},
     "output_type": "execute_result"
    }
   ],
   "source": [
    "# Esempio di pipeline in Pandas\n",
    "pd_result = (\n",
    "    df_agg\n",
    "    .query('valore1 > 15')\n",
    "    .groupby('gruppo')\n",
    "    .agg(\n",
    "        valore1_sum=('valore1', 'sum'),\n",
    "        valore2_mean=('valore2', 'mean')\n",
    "    )\n",
    "    .sort_values('valore1_sum', ascending=False)\n",
    "    .reset_index()\n",
    ")\n",
    "\n",
    "pd_result"
   ]
  },
  {
   "cell_type": "code",
   "execution_count": 34,
   "id": "0037b729",
   "metadata": {
    "slideshow": {
     "slide_type": "subslide"
    }
   },
   "outputs": [
    {
     "data": {
      "text/html": [
       "<div><style>\n",
       ".dataframe > thead > tr,\n",
       ".dataframe > tbody > tr {\n",
       "  text-align: right;\n",
       "  white-space: pre-wrap;\n",
       "}\n",
       "</style>\n",
       "<small>shape: (3, 3)</small><table border=\"1\" class=\"dataframe\"><thead><tr><th>gruppo</th><th>valore1_sum</th><th>valore2_mean</th></tr><tr><td>str</td><td>i64</td><td>f64</td></tr></thead><tbody><tr><td>&quot;B&quot;</td><td>55</td><td>205.0</td></tr><tr><td>&quot;C&quot;</td><td>40</td><td>300.0</td></tr><tr><td>&quot;A&quot;</td><td>20</td><td>110.0</td></tr></tbody></table></div>"
      ],
      "text/plain": [
       "shape: (3, 3)\n",
       "┌────────┬─────────────┬──────────────┐\n",
       "│ gruppo ┆ valore1_sum ┆ valore2_mean │\n",
       "│ ---    ┆ ---         ┆ ---          │\n",
       "│ str    ┆ i64         ┆ f64          │\n",
       "╞════════╪═════════════╪══════════════╡\n",
       "│ B      ┆ 55          ┆ 205.0        │\n",
       "│ C      ┆ 40          ┆ 300.0        │\n",
       "│ A      ┆ 20          ┆ 110.0        │\n",
       "└────────┴─────────────┴──────────────┘"
      ]
     },
     "execution_count": 34,
     "metadata": {},
     "output_type": "execute_result"
    }
   ],
   "source": [
    "# Esempio di pipeline in Polars (API Eager)\n",
    "pl_result = (\n",
    "    pl_agg\n",
    "    .filter(pl.col('valore1') > 15)\n",
    "    .group_by('gruppo')\n",
    "    .agg([\n",
    "        pl.col('valore1').sum().alias('valore1_sum'),\n",
    "        pl.col('valore2').mean().alias('valore2_mean')\n",
    "    ])\n",
    "    .sort('valore1_sum', descending=True)\n",
    ")\n",
    "\n",
    "pl_result"
   ]
  }
 ],
 "metadata": {
  "celltoolbar": "Slideshow",
  "kernelspec": {
   "display_name": "Python 3 (ipykernel)",
   "language": "python",
   "name": "python3"
  },
  "language_info": {
   "codemirror_mode": {
    "name": "ipython",
    "version": 3
   },
   "file_extension": ".py",
   "mimetype": "text/x-python",
   "name": "python",
   "nbconvert_exporter": "python",
   "pygments_lexer": "ipython3",
   "version": "3.8.10"
  },
  "rise": {
   "auto_select": "code",
   "autolaunch": true,
   "center": true,
   "enable_chalkboard": true,
   "slideNumber": "c/t"
  }
 },
 "nbformat": 4,
 "nbformat_minor": 5
}
