{
 "cells": [
  {
   "cell_type": "markdown",
   "id": "5668a74f-3929-44cb-a7dc-26538a537386",
   "metadata": {
    "ExecuteTime": {
     "end_time": "2024-04-24T15:20:46.994903400Z",
     "start_time": "2024-04-24T15:20:46.986614200Z"
    },
    "slideshow": {
     "slide_type": "slide"
    },
    "tags": []
   },
   "source": [
    "# Programmazione Orientata agli Oggetti (OOP => Object Oriented Programming)"
   ]
  },
  {
   "cell_type": "markdown",
   "id": "b8e7b1d2-45fd-4604-9a02-123b50e46a48",
   "metadata": {
    "ExecuteTime": {
     "end_time": "2024-04-24T15:20:46.994903400Z",
     "start_time": "2024-04-24T15:20:46.986614200Z"
    },
    "slideshow": {
     "slide_type": "fragment"
    },
    "tags": []
   },
   "source": [
    "Paradigma di programmazione in cui il software è composto da un insieme di oggetti che comunicano fra loro."
   ]
  },
  {
   "cell_type": "markdown",
   "id": "a62ef5ef-0df0-4f2d-87fd-ac575f871623",
   "metadata": {
    "ExecuteTime": {
     "end_time": "2024-04-24T15:20:46.994903400Z",
     "start_time": "2024-04-24T15:20:46.986614200Z"
    },
    "slideshow": {
     "slide_type": "fragment"
    },
    "tags": []
   },
   "source": [
    "La comunicazione avviene tramite scambio di \"messaggi\", ovvero chiamate a funzioni interne di ciascun oggetto."
   ]
  },
  {
   "cell_type": "markdown",
   "id": "41866bb1-753f-4562-95d1-37ab83d59b7f",
   "metadata": {
    "ExecuteTime": {
     "end_time": "2024-04-24T15:20:46.994903400Z",
     "start_time": "2024-04-24T15:20:46.986614200Z"
    },
    "slideshow": {
     "slide_type": "subslide"
    },
    "tags": []
   },
   "source": [
    "L'OOP è direttamente legata all'Object Oriented Analysis and Design (OOAD)."
   ]
  },
  {
   "cell_type": "markdown",
   "id": "c329e4ad-7924-4bc8-8317-0c17f005fd26",
   "metadata": {
    "ExecuteTime": {
     "end_time": "2024-04-24T15:20:46.994903400Z",
     "start_time": "2024-04-24T15:20:46.986614200Z"
    },
    "cell_style": "center",
    "slideshow": {
     "slide_type": "fragment"
    },
    "tags": []
   },
   "source": [
    "Tecnica di ingegneria del software che modella sistemi complessi tramite oggetti e le loro interazioni."
   ]
  },
  {
   "cell_type": "markdown",
   "id": "362a5ff5-0f07-4aa1-a805-164a205ff74f",
   "metadata": {
    "ExecuteTime": {
     "end_time": "2024-04-24T15:20:46.994903400Z",
     "start_time": "2024-04-24T15:20:46.986614200Z"
    },
    "cell_style": "center",
    "slideshow": {
     "slide_type": "fragment"
    },
    "tags": []
   },
   "source": [
    "Aspetti importanti dell'OOAD sono i pattern di progettazione, i diagrammi UML e i casi d'uso."
   ]
  },
  {
   "cell_type": "markdown",
   "id": "8acca18c-38c7-4d52-90f2-505c2802e508",
   "metadata": {
    "slideshow": {
     "slide_type": "slide"
    },
    "tags": []
   },
   "source": [
    "# OOP in Python"
   ]
  },
  {
   "cell_type": "markdown",
   "id": "216d4a04",
   "metadata": {
    "slideshow": {
     "slide_type": "-"
    }
   },
   "source": [
    "Python non è un linguaggio ad oggetti puro"
   ]
  },
  {
   "cell_type": "markdown",
   "id": "b1a9060b",
   "metadata": {
    "slideshow": {
     "slide_type": "fragment"
    }
   },
   "source": [
    "Non gode di diverse proprietà, come l'incapsulazione (attributi e metodi pubblici, protetti, privati)"
   ]
  },
  {
   "cell_type": "markdown",
   "id": "fd1ce900",
   "metadata": {
    "slideshow": {
     "slide_type": "fragment"
    }
   },
   "source": [
    "Gli oggetti su Python sono definiti tramite le _classi_"
   ]
  },
  {
   "cell_type": "markdown",
   "id": "828c42f3",
   "metadata": {
    "slideshow": {
     "slide_type": "slide"
    }
   },
   "source": [
    "## Classe"
   ]
  },
  {
   "cell_type": "markdown",
   "id": "db38d273",
   "metadata": {},
   "source": [
    "Una classe rappresenta lo schema strutturale e di comportamento di una categoria di oggetti. <br>\n",
    "Per esempio, una classe `Macchina` descrive come sono fatte tutte le macchine, ma non è uno specifico tipo di macchina."
   ]
  },
  {
   "cell_type": "code",
   "execution_count": null,
   "id": "b9d5ea83",
   "metadata": {
    "cell_style": "center",
    "slideshow": {
     "slide_type": "fragment"
    }
   },
   "outputs": [],
   "source": [
    "class Macchina:\n",
    "    pass"
   ]
  },
  {
   "cell_type": "markdown",
   "id": "652738bc",
   "metadata": {
    "slideshow": {
     "slide_type": "subslide"
    }
   },
   "source": [
    "Gli attributi di una classe vengono definiti all'interno del costruttore. <br>\n",
    "Il costruttore definisce come vadano inizializzate le variabili interne della classe. <br>"
   ]
  },
  {
   "cell_type": "code",
   "execution_count": null,
   "id": "9a7b6729",
   "metadata": {
    "slideshow": {
     "slide_type": "-"
    }
   },
   "outputs": [],
   "source": [
    "class Macchina:\n",
    "    \n",
    "    def __init__(self, marca, modello):\n",
    "        # attributi\n",
    "        self.marca = marca\n",
    "        self.modello = modello"
   ]
  },
  {
   "cell_type": "markdown",
   "id": "79defe27",
   "metadata": {
    "slideshow": {
     "slide_type": "slide"
    }
   },
   "source": [
    "## Istanza di classe"
   ]
  },
  {
   "cell_type": "markdown",
   "id": "4f759520",
   "metadata": {
    "slideshow": {
     "slide_type": "-"
    }
   },
   "source": [
    "Gli attributi definiti all'interno del costruttore stabiliscono le caratteristiche di specifici oggetti dello stesso tipo, ma non della classe stessa."
   ]
  },
  {
   "cell_type": "markdown",
   "id": "f050193f",
   "metadata": {
    "slideshow": {
     "slide_type": "fragment"
    }
   },
   "source": [
    "Un'istanza di classe definisce un oggetto specifico della classe, la cui struttura è definita dalla classe da cui deriva.\n",
    "La classe funge da \"_stampino_\" per creare diverse istanze."
   ]
  },
  {
   "cell_type": "code",
   "execution_count": null,
   "id": "73747c09",
   "metadata": {
    "slideshow": {
     "slide_type": "subslide"
    }
   },
   "outputs": [],
   "source": [
    "macchina1 = Macchina(\"Fiat\", \"500\")\n",
    "macchina2 = Macchina(\"Peugeot\", \"308\")\n",
    "macchina3 = Macchina(\"Citroen\", \"C4\")"
   ]
  },
  {
   "cell_type": "code",
   "execution_count": null,
   "id": "85ef18e5",
   "metadata": {
    "cell_style": "split",
    "slideshow": {
     "slide_type": "fragment"
    }
   },
   "outputs": [],
   "source": [
    "macchina1"
   ]
  },
  {
   "cell_type": "code",
   "execution_count": null,
   "id": "fe3b6e20",
   "metadata": {
    "cell_style": "split"
   },
   "outputs": [],
   "source": [
    "macchina3.marca"
   ]
  },
  {
   "cell_type": "code",
   "execution_count": null,
   "id": "8ff95a12",
   "metadata": {
    "slideshow": {
     "slide_type": "fragment"
    }
   },
   "outputs": [],
   "source": [
    "Macchina.marca"
   ]
  },
  {
   "cell_type": "markdown",
   "id": "7189889f",
   "metadata": {
    "slideshow": {
     "slide_type": "slide"
    }
   },
   "source": [
    "## Attributi di classe"
   ]
  },
  {
   "cell_type": "markdown",
   "id": "3715ba4a",
   "metadata": {},
   "source": [
    "Gli attributi di classe sono fissati per la classe e per tutte le istanze. <br>\n",
    "Sono infatti tipicamente usati per definire costanti della classe, che, per convenzione, vanno scritte tutte in maiuscolo. <br>\n",
    "In altri casi sono presenti come attributi _privati_, un concetto definito più avanti."
   ]
  },
  {
   "cell_type": "code",
   "execution_count": null,
   "id": "64f6fdae",
   "metadata": {
    "slideshow": {
     "slide_type": "subslide"
    }
   },
   "outputs": [],
   "source": [
    "class Macchina:\n",
    "    NUMERO_PORTE = 5\n",
    "    \n",
    "    def __init__(self, marca, modello):\n",
    "        # attributi\n",
    "        self.marca = marca\n",
    "        self.modello = modello"
   ]
  },
  {
   "cell_type": "code",
   "execution_count": null,
   "id": "461261c8",
   "metadata": {
    "cell_style": "split",
    "scrolled": true,
    "slideshow": {
     "slide_type": "fragment"
    }
   },
   "outputs": [],
   "source": [
    "class Macchina:\n",
    "    NUMERO_PORTE = 5\n",
    "    \n",
    "    def __init__(self, marca, modello, numero_porte=5):\n",
    "        # attributi\n",
    "        self.marca = marca\n",
    "        self.modello = modello\n",
    "        \n",
    "        if numero_porte != self.NUMERO_PORTE:\n",
    "            raise ValueError(\n",
    "                \"Questa macchina deve avere 5 porte!\"\n",
    "            )\n",
    "\n",
    "Macchina(\"VW\", \"Polo\").NUMERO_PORTE"
   ]
  },
  {
   "cell_type": "code",
   "execution_count": null,
   "id": "92e74b76",
   "metadata": {
    "cell_style": "split"
   },
   "outputs": [],
   "source": [
    "class Macchina:\n",
    "    NUMERO_PORTE = 5\n",
    "    \n",
    "    def __init__(self, marca, modello, numero_porte=5):\n",
    "        # attributi\n",
    "        self.marca = marca\n",
    "        self.modello = modello\n",
    "        \n",
    "        if numero_porte != Macchina.NUMERO_PORTE:\n",
    "            raise ValueError(\n",
    "                \"Questa macchina deve avere 5 porte!\"\n",
    "            )\n",
    "\n",
    "Macchina.NUMERO_PORTE     "
   ]
  },
  {
   "cell_type": "markdown",
   "id": "f0b67baa-9f2e-4000-bb42-f748dc7e49aa",
   "metadata": {
    "slideshow": {
     "slide_type": "slide"
    },
    "tags": []
   },
   "source": [
    "# Attributi Speciali (special\\dunder attributes) di classe"
   ]
  },
  {
   "cell_type": "markdown",
   "id": "743d5496",
   "metadata": {},
   "source": [
    "Sono attributi definiti nel linguaggio Python e sempre presenti per ogni classe e possono essere utili in alcuni contesti."
   ]
  },
  {
   "cell_type": "markdown",
   "id": "bacfea0c",
   "metadata": {
    "cell_style": "split",
    "slideshow": {
     "slide_type": "fragment"
    }
   },
   "source": [
    "Nome della classe"
   ]
  },
  {
   "cell_type": "code",
   "execution_count": null,
   "id": "bc560920",
   "metadata": {
    "cell_style": "split"
   },
   "outputs": [],
   "source": [
    "Macchina.__name__"
   ]
  },
  {
   "cell_type": "markdown",
   "id": "cbf3e8b8",
   "metadata": {
    "cell_style": "split",
    "slideshow": {
     "slide_type": "fragment"
    },
    "tags": []
   },
   "source": [
    "Classe dell'istanza"
   ]
  },
  {
   "cell_type": "code",
   "execution_count": null,
   "id": "da6b72f1",
   "metadata": {
    "cell_style": "split",
    "slideshow": {
     "slide_type": "-"
    },
    "tags": []
   },
   "outputs": [],
   "source": [
    "macchina1.__class__"
   ]
  },
  {
   "cell_type": "markdown",
   "id": "8929636f",
   "metadata": {
    "cell_style": "split",
    "slideshow": {
     "slide_type": "fragment"
    },
    "tags": []
   },
   "source": [
    "Classi base (superclassi)"
   ]
  },
  {
   "cell_type": "code",
   "execution_count": null,
   "id": "c58361c0",
   "metadata": {
    "cell_style": "split",
    "slideshow": {
     "slide_type": "-"
    },
    "tags": []
   },
   "outputs": [],
   "source": [
    "Macchina.__bases__"
   ]
  },
  {
   "cell_type": "markdown",
   "id": "1cfb08a0",
   "metadata": {
    "cell_style": "split",
    "slideshow": {
     "slide_type": "fragment"
    },
    "tags": []
   },
   "source": [
    "Ordine di risoluzione dei metodi"
   ]
  },
  {
   "cell_type": "code",
   "execution_count": null,
   "id": "bc954584",
   "metadata": {
    "cell_style": "split",
    "slideshow": {
     "slide_type": "-"
    },
    "tags": []
   },
   "outputs": [],
   "source": [
    "Macchina.__mro__"
   ]
  },
  {
   "cell_type": "markdown",
   "id": "9c12777c",
   "metadata": {
    "slideshow": {
     "slide_type": "slide"
    },
    "tags": []
   },
   "source": [
    "# Metodi"
   ]
  },
  {
   "cell_type": "markdown",
   "id": "90e882c6",
   "metadata": {},
   "source": [
    "I metodi rappresentano funzioni interne della classe che descrivono il comportamento di tutte le istanze della classe. <br>\n",
    "Essi possono influenzare gli oggetti stessi o manipolare gli attributi per fornire qualche tipo di risultato. <br>"
   ]
  },
  {
   "cell_type": "markdown",
   "id": "12faef4a",
   "metadata": {
    "slideshow": {
     "slide_type": "fragment"
    }
   },
   "source": [
    "I metodi di una classe che gestiscono attributi e altri metodi interni devono sempre avere `self` come primo parametro nella loro definizione, ma *NON* va specificato quando il metodo stesso viene usato."
   ]
  },
  {
   "cell_type": "code",
   "execution_count": null,
   "id": "67f0773a",
   "metadata": {
    "cell_style": "center",
    "slideshow": {
     "slide_type": "subslide"
    }
   },
   "outputs": [],
   "source": [
    "class Macchina:\n",
    "    NUMERO_PORTE = 5\n",
    "    \n",
    "    def __init__(self, marca, modello, numero_porte=5):\n",
    "        # attributi\n",
    "        self.marca = marca\n",
    "        self.modello = modello\n",
    "        \n",
    "        self.controlla_porte(numero_porte)\n",
    "        self.numero_porte = numero_porte\n",
    "        \n",
    "    def controlla_porte(self, numero_porte):\n",
    "        if numero_porte != self.NUMERO_PORTE:\n",
    "            raise ValueError(\"Questa macchina deve avere 5 porte!\")\n",
    "    \n",
    "    def stampa_porte(self):\n",
    "        print(f\"Questa macchina ha {self.numero_porte} porte!\")"
   ]
  },
  {
   "cell_type": "code",
   "execution_count": null,
   "id": "8a8677cd",
   "metadata": {
    "cell_style": "center",
    "slideshow": {
     "slide_type": "fragment"
    }
   },
   "outputs": [],
   "source": [
    "fiat = Macchina(\"Fiat\", \"500\", 5)\n",
    "fiat.stampa_porte()"
   ]
  },
  {
   "cell_type": "markdown",
   "id": "225e07ea",
   "metadata": {
    "slideshow": {
     "slide_type": "slide"
    },
    "tags": []
   },
   "source": [
    "# Metodi Speciali (special\\dunder methods) di classe"
   ]
  },
  {
   "cell_type": "markdown",
   "id": "cb355d6b",
   "metadata": {},
   "source": [
    "Oltre ad attributi speciali, esistono anche dei metodi predefiniti che possono essere personalizzati per gestire funzionalità particolari. <br>"
   ]
  },
  {
   "cell_type": "markdown",
   "id": "2375a673",
   "metadata": {
    "slideshow": {
     "slide_type": "fragment"
    }
   },
   "source": [
    "Per esempio, i metodi speciali vengono usati nei seguenti casi: <br>\n",
    "- Come posso sommare due istanze della mia classe? <br>\n",
    "- Come posso usare le istanza come se fossero dizionari?"
   ]
  },
  {
   "cell_type": "markdown",
   "id": "367398cf",
   "metadata": {
    "slideshow": {
     "slide_type": "subslide"
    }
   },
   "source": [
    "## Rappresentazione"
   ]
  },
  {
   "cell_type": "code",
   "execution_count": null,
   "id": "c1cfe698",
   "metadata": {
    "cell_style": "split",
    "slideshow": {
     "slide_type": "-"
    }
   },
   "outputs": [],
   "source": [
    "class Macchina:\n",
    "    \n",
    "    def __init__(self, marca, modello):\n",
    "        # attributi\n",
    "        self.marca = marca\n",
    "        self.modello = modello\n",
    "    \n",
    "    def __repr__(self):\n",
    "        return \"Macchina \" + self.marca \n",
    "    \n",
    "Macchina(\"Fiat\", \"Punto\")"
   ]
  },
  {
   "cell_type": "code",
   "execution_count": null,
   "id": "6c5da4db",
   "metadata": {
    "cell_style": "split",
    "slideshow": {
     "slide_type": "fragment"
    }
   },
   "outputs": [],
   "source": [
    "class Macchina:\n",
    "    \n",
    "    def __init__(self, marca, modello):\n",
    "        # attributi\n",
    "        self.marca = marca\n",
    "        self.modello = modello\n",
    "    \n",
    "    def __str__(self):\n",
    "        return f\"{self.marca} - {self.modello}\"\n",
    "\n",
    "    def __repr__(self):\n",
    "        # str(self) == self.__str__()\n",
    "        return \"Macchina - Modello | \" + str(self)\n",
    "\n",
    "macchina = Macchina(\"Skoda\", \"Fabia\")\n",
    "print(macchina)\n",
    "macchina"
   ]
  },
  {
   "cell_type": "markdown",
   "id": "224e89f9",
   "metadata": {
    "slideshow": {
     "slide_type": "subslide"
    }
   },
   "source": [
    "## Comparazione (rich comparison)"
   ]
  },
  {
   "cell_type": "code",
   "execution_count": null,
   "id": "d5a3d2b6",
   "metadata": {
    "cell_style": "split",
    "slideshow": {
     "slide_type": "-"
    }
   },
   "outputs": [],
   "source": [
    "class Macchina:\n",
    "    \n",
    "    def __init__(self, marca, modello, anno):\n",
    "        # attributi\n",
    "        self.marca = marca\n",
    "        self.modello = modello\n",
    "        self.anno = anno\n",
    "    \n",
    "    def __lt__(self, altra_macchina):\n",
    "        return self.anno < altra_macchina.anno\n",
    "    \n",
    "    def __le__(self, altra_macchina):\n",
    "        return self.anno <= altra_macchina.anno\n",
    "    \n",
    "    def __eq__(self, altra_macchina):\n",
    "        return self.anno == altra_macchina.anno\n",
    "    \n",
    "    def __ne__(self, altra_macchina):\n",
    "        return self.anno != altra_macchina.anno\n",
    "\n",
    "    def __gt__(self, altra_macchina):\n",
    "        return self.anno > altra_macchina.anno\n",
    "\n",
    "    def __ge__(self, altra_macchina):\n",
    "        return self.anno >= altra_macchina.anno"
   ]
  },
  {
   "cell_type": "code",
   "execution_count": null,
   "id": "abc0509b",
   "metadata": {
    "cell_style": "split",
    "slideshow": {
     "slide_type": "fragment"
    }
   },
   "outputs": [],
   "source": [
    "macchina_nuova = Macchina(\"Xiaomi\", \"SU7\", 2024)\n",
    "macchina_vecchia = Macchina(\"VW\", \"Golf\", 2015)\n",
    "\n",
    "print(\"Xiaomi SU7 più nuova di VW Golf\")\n",
    "print(macchina_nuova > macchina_vecchia, end='\\n\\n')\n",
    "\n",
    "print(\"Xiaomi SU7 dello stesso anno di VW Golf\")\n",
    "print(macchina_nuova == macchina_vecchia, end='\\n\\n')\n",
    "\n",
    "print(\"VW Golg dello stesso anno di VW Golf\")\n",
    "print(macchina_nuova != macchina_vecchia)"
   ]
  },
  {
   "cell_type": "markdown",
   "id": "affa6786",
   "metadata": {
    "slideshow": {
     "slide_type": "subslide"
    }
   },
   "source": [
    "## Emulazione tipi contenitori (liste, tuple, dizionari, ...)"
   ]
  },
  {
   "cell_type": "code",
   "execution_count": null,
   "id": "799fd51b",
   "metadata": {
    "cell_style": "split",
    "slideshow": {
     "slide_type": "-"
    }
   },
   "outputs": [],
   "source": [
    "class Macchina:\n",
    "    \n",
    "    def __init__(self, marca, modello, passeggeri):\n",
    "        # attributi\n",
    "        self.marca = marca\n",
    "        self.modello = modello\n",
    "        self.passeggeri : list = passeggeri\n",
    "    \n",
    "    def __len__(self):\n",
    "        return len(self.passeggeri)\n",
    "    \n",
    "    def __getitem__(self, indice):\n",
    "        return self.passeggeri[indice]\n",
    "    \n",
    "    def __setitem__(self, indice, valore):\n",
    "        self.passeggeri[indice] = valore\n",
    "\n",
    "    def __contains__(self, valore):\n",
    "        return valore in self.passeggeri\n",
    "\n",
    "    def __iter__(self):\n",
    "        for p in range(len(self.passeggeri)):\n",
    "            if p < len(self.passeggeri):\n",
    "                yield self.passeggeri[p]\n",
    "            else:\n",
    "                raise StopIteration()"
   ]
  },
  {
   "cell_type": "code",
   "execution_count": null,
   "id": "f9718138",
   "metadata": {
    "cell_style": "split",
    "slideshow": {
     "slide_type": "fragment"
    }
   },
   "outputs": [],
   "source": [
    "passeggeri = [\n",
    "    \"Studente 1\",\n",
    "    \"Studente 2\",\n",
    "    \"Studente 3\"\n",
    "]\n",
    "macchina = Macchina(\"Kia\", \"Picanto\", passeggeri)\n",
    "\n",
    "print(\"Numero Passeggeri\", len(macchina))\n",
    "print(\"Terzo passeggero\", macchina[2])"
   ]
  },
  {
   "cell_type": "code",
   "execution_count": null,
   "id": "67ff6e96",
   "metadata": {
    "cell_style": "split",
    "slideshow": {
     "slide_type": "-"
    }
   },
   "outputs": [],
   "source": [
    "print(\"Riccardo in macchina\", \"Riccardo\" in macchina)\n",
    "\n",
    "macchina[1] = \"Gustavo\"\n",
    "for x in macchina:\n",
    "    print(x, end='  ')"
   ]
  },
  {
   "cell_type": "markdown",
   "id": "b674b412-5a27-4594-ab56-74f80b12a462",
   "metadata": {
    "slideshow": {
     "slide_type": "slide"
    },
    "tags": []
   },
   "source": [
    "# Decoratori speciali per classi"
   ]
  },
  {
   "cell_type": "markdown",
   "id": "58a381be",
   "metadata": {},
   "source": [
    "#### Ripasso\n",
    "Cos'è un decoratore?<br>\n",
    "È una funzione che ne incapsula un'altra per eseguire delle istruzioni prima che la funziona incapsulata venga chiamata."
   ]
  },
  {
   "cell_type": "markdown",
   "id": "7921db8c",
   "metadata": {
    "slideshow": {
     "slide_type": "fragment"
    }
   },
   "source": [
    "```python\n",
    "@mio_decoratore\n",
    "def mia funzione(param_1, param_2):\n",
    "    pass\n",
    "```\n",
    "risulta nel seguente flusso di esecuzione <br>\n",
    "`mio_decoratore(mia_funzione)` => istruzioni interne di `mio_decoratore` => `mia_funzione(*args, **kwargs)`"
   ]
  },
  {
   "cell_type": "markdown",
   "id": "fed254ab",
   "metadata": {
    "slideshow": {
     "slide_type": "subslide"
    }
   },
   "source": [
    "Il metodo speciale `staticmethod` serve per definire un metodo _statico_, ovvero un metodo che non dipende dall'istanza attuale. Non può quindi accedere al parametro `self` e non va incluso fra i suoi parametri."
   ]
  },
  {
   "cell_type": "code",
   "execution_count": null,
   "id": "eafcc3a6",
   "metadata": {
    "cell_style": "split",
    "slideshow": {
     "slide_type": "-"
    }
   },
   "outputs": [],
   "source": [
    "class Macchina:\n",
    "    \n",
    "    def __init__(self, marca, modello):\n",
    "        # attributi\n",
    "        self.marca = marca\n",
    "        self.modello = modello\n",
    "    \n",
    "    @staticmethod\n",
    "    def formato_singola_stringa():\n",
    "        return \"MARCA+MODELLO\"\n",
    "    \n",
    "    def __str__(self):\n",
    "        return f\"{self.marca} {self.modello}\""
   ]
  },
  {
   "cell_type": "code",
   "execution_count": null,
   "id": "194e659f",
   "metadata": {
    "cell_style": "split",
    "scrolled": true,
    "slideshow": {
     "slide_type": "fragment"
    }
   },
   "outputs": [],
   "source": [
    "print(Macchina.formato_singola_stringa(), end='\\n\\n')\n",
    "\n",
    "bmw = Macchina(\"BMW\", \"Serie 5\")\n",
    "print(bmw.formato_singola_stringa())"
   ]
  },
  {
   "cell_type": "markdown",
   "id": "1f020eaf",
   "metadata": {
    "slideshow": {
     "slide_type": "subslide"
    }
   },
   "source": [
    "Il metodo speciale `classmethod` serve per definire un metodo che va a manipolare la classe stessa. Viene tipicamente usato per creare una nuova istanza (un esempio è `pandas.DataFrame.from_dict()`) con metodologie alternative."
   ]
  },
  {
   "cell_type": "code",
   "execution_count": null,
   "id": "acc8a86d",
   "metadata": {
    "cell_style": "split",
    "slideshow": {
     "slide_type": "-"
    }
   },
   "outputs": [],
   "source": [
    "class Macchina:\n",
    "    \n",
    "    def __init__(self, marca, modello):\n",
    "        # attributi\n",
    "        self.marca = marca\n",
    "        self.modello = modello\n",
    "    \n",
    "    @classmethod\n",
    "    def da_stringa_singola(cls, stringa):\n",
    "        marca, modello = stringa.split('+')\n",
    "        return cls(marca, modello)\n",
    "    \n",
    "    def __str__(self):\n",
    "        return f\"{self.marca} {self.modello}\""
   ]
  },
  {
   "cell_type": "code",
   "execution_count": null,
   "id": "f8e8ca2e",
   "metadata": {
    "cell_style": "split",
    "slideshow": {
     "slide_type": "fragment"
    }
   },
   "outputs": [],
   "source": [
    "honda = Macchina.da_stringa_singola(\"Honda+Civic\")\n",
    "print(honda)"
   ]
  },
  {
   "cell_type": "markdown",
   "id": "91dba296",
   "metadata": {
    "slideshow": {
     "slide_type": "subslide"
    }
   },
   "source": [
    "#### Property\n",
    "Decoratore che permette di gestire come oggetti esterni manipolano gli attributi della classe. Utile per rendere un attributo _readonly_ oppure gestire particolari assegnazioni dei valori."
   ]
  },
  {
   "cell_type": "code",
   "execution_count": null,
   "id": "2b00dca9",
   "metadata": {
    "cell_style": "center",
    "slideshow": {
     "slide_type": "fragment"
    }
   },
   "outputs": [],
   "source": [
    "class Macchina:\n",
    "    \n",
    "    def __init__(self, marca, modello, telaio):\n",
    "        # attributi\n",
    "        self.marca = marca\n",
    "        self.modello = modello\n",
    "        self._telaio = telaio\n",
    "    \n",
    "    @property\n",
    "    def telaio(self):\n",
    "        return self._telaio"
   ]
  },
  {
   "cell_type": "code",
   "execution_count": null,
   "id": "7a8d5af7",
   "metadata": {
    "cell_style": "split",
    "slideshow": {
     "slide_type": "fragment"
    }
   },
   "outputs": [],
   "source": [
    "bmw = Macchina(\"BMW\", \"Serie 5\", \"CXZ432\")\n",
    "\n",
    "bmw.telaio"
   ]
  },
  {
   "cell_type": "code",
   "execution_count": null,
   "id": "2acf51e9",
   "metadata": {
    "cell_style": "split",
    "slideshow": {
     "slide_type": "fragment"
    }
   },
   "outputs": [],
   "source": [
    "bmw.telaio = \"CVVVVV\"\n",
    "\n"
   ]
  },
  {
   "cell_type": "code",
   "execution_count": null,
   "id": "24b0d268",
   "metadata": {
    "cell_style": "split",
    "slideshow": {
     "slide_type": "subslide"
    }
   },
   "outputs": [],
   "source": [
    "class Macchina:\n",
    "    \n",
    "    def __init__(self, marca, modello, telaio):\n",
    "        # attributi\n",
    "        self.marca = marca\n",
    "        self.modello = modello\n",
    "        self._telaio = telaio\n",
    "    \n",
    "    @property\n",
    "    def telaio(self):\n",
    "        return self._telaio\n",
    "    \n",
    "    @telaio.setter\n",
    "    def telaio(self, valore):\n",
    "        nuovo_valore = \"\"\n",
    "        for char in valore:\n",
    "            if char not in \"0123456789\":\n",
    "                nuovo_valore += char\n",
    "                \n",
    "        self._telaio = nuovo_valore"
   ]
  },
  {
   "cell_type": "code",
   "execution_count": null,
   "id": "15e64d5d",
   "metadata": {
    "cell_style": "split",
    "slideshow": {
     "slide_type": "fragment"
    }
   },
   "outputs": [],
   "source": [
    "bmw = Macchina(\"BMW\", \"Serie 5\", \"CXTYZV\")\n",
    "\n",
    "bmw.telaio = \"CX33ZV\"\n",
    "bmw.telaio"
   ]
  },
  {
   "cell_type": "markdown",
   "id": "a426787e",
   "metadata": {
    "slideshow": {
     "slide_type": "slide"
    },
    "tags": []
   },
   "source": [
    "# Ereditarietà in Python"
   ]
  },
  {
   "cell_type": "markdown",
   "id": "cb84c20c",
   "metadata": {
    "slideshow": {
     "slide_type": "-"
    },
    "tags": []
   },
   "source": [
    "L'ereditarietà permette di definire una classe sulla base di una classe esistente, per modificarla e/o estenderla.<br>\n",
    "Tramite l'ereditarietà una classe eredita da un'altra sia attributi che metodi e in Python una classe può ereditare da più classi, non solo una."
   ]
  },
  {
   "cell_type": "markdown",
   "id": "cf32dbef-1ce6-4a7c-a037-9aa6c166cdad",
   "metadata": {
    "slideshow": {
     "slide_type": "subslide"
    },
    "tags": []
   },
   "source": [
    "## Ereditarietà singola"
   ]
  },
  {
   "cell_type": "code",
   "execution_count": null,
   "id": "ff2fa9c7",
   "metadata": {
    "cell_style": "split"
   },
   "outputs": [],
   "source": [
    "class Macchina:\n",
    "    pass"
   ]
  },
  {
   "cell_type": "code",
   "execution_count": null,
   "id": "a8b48179",
   "metadata": {
    "cell_style": "split"
   },
   "outputs": [],
   "source": [
    "class Macchina(object):\n",
    "    pass"
   ]
  },
  {
   "cell_type": "markdown",
   "id": "742e4c67",
   "metadata": {},
   "source": [
    "Qualsiasi classe eredita da `object`, che in Python permette di definire gli oggetti e dare a classi e istanze tutte le varie funzionalità che abbiamo visto.<br>\n",
    "\n",
    "Si dice che `Macchina` sia la classe _figlio_ o _sottoclasse_ di `object`, mentre `object` è denominata classe _padre_ o _superclasse_ (da cui deriva il nome del metodo speciale `super()`).<br>\n",
    "Questa definizione è sempre valida e non specifica per `object`."
   ]
  },
  {
   "cell_type": "code",
   "execution_count": null,
   "id": "98a5c015",
   "metadata": {
    "cell_style": "split",
    "slideshow": {
     "slide_type": "subslide"
    }
   },
   "outputs": [],
   "source": [
    "class Macchina:\n",
    "    \n",
    "    def __init__(self, modello):\n",
    "        self.modello = modello\n",
    "    \n",
    "    def stampa_marca(self):\n",
    "        raise NotImplementedError(\n",
    "            \"Macchina non ha marca\"\n",
    "        )\n",
    "        \n",
    "class BMW(Macchina):\n",
    "    \n",
    "    def __init__(self, modello, anno):\n",
    "        super().__init__(modello)\n",
    "        self.anno = anno\n",
    "    \n",
    "    def stampa_marca(self):\n",
    "        print(self.__class__.__name__)"
   ]
  },
  {
   "cell_type": "code",
   "execution_count": null,
   "id": "ec92f408",
   "metadata": {
    "cell_style": "split"
   },
   "outputs": [],
   "source": [
    "bmw = BMW(\"Serie 5\", 2020)\n",
    "bmw.stampa_marca()\n",
    "\n",
    "macchina = Macchina(\"\")\n",
    "macchina.stampa_marca()"
   ]
  },
  {
   "cell_type": "markdown",
   "id": "96a7d4e4-9742-4ac8-aaf3-bf6159fa845f",
   "metadata": {
    "slideshow": {
     "slide_type": "subslide"
    },
    "tags": []
   },
   "source": [
    "## Multi-ereditarietà"
   ]
  },
  {
   "cell_type": "markdown",
   "id": "f6ba6ed7",
   "metadata": {},
   "source": [
    "La multi-ereditarietà di Python permette di creare classi che ereditono attributi e metodi da più classi.<br>\n",
    "A causa della naturale possibilità di collisioni fra attributi e metodi, ci sono alcuni standard precisi per gestire questi casi.<br>\n",
    "Sono 3 i principali modi per gestire la multi-ereditarietà in Python.\n"
   ]
  },
  {
   "cell_type": "markdown",
   "id": "75b576a6",
   "metadata": {
    "slideshow": {
     "slide_type": "subslide"
    }
   },
   "source": [
    "### Classi dissociate\n",
    "**Classi dissociate**: la classe figlio chiama separatamente il costruttore delle superclassi"
   ]
  },
  {
   "cell_type": "code",
   "execution_count": null,
   "id": "17d802f6",
   "metadata": {
    "cell_style": "split"
   },
   "outputs": [],
   "source": [
    "class Veicolo:\n",
    "    \n",
    "    def __init__(self, marca):\n",
    "        self.marca = marca\n",
    "        \n",
    "class TrasportaPersone:\n",
    "    \n",
    "    def __init__(self, numero_passeggeri):\n",
    "        self.numero_passeggeri = numero_passeggeri\n",
    "        \n",
    "class Bus(Veicolo, TrasportaPersone):\n",
    "    \n",
    "    def __init__(self, marca, numero_passeggeri):\n",
    "        Veicolo.__init__(self, marca)\n",
    "        TrasportaPersone.__init__(self, numero_passeggeri)\n",
    "        # super().__init__(marca)\n",
    "        # super(Veicolo, self).__init__(numero_passeggeri)"
   ]
  },
  {
   "cell_type": "code",
   "execution_count": null,
   "id": "cddbc183",
   "metadata": {
    "cell_style": "split",
    "slideshow": {
     "slide_type": "fragment"
    }
   },
   "outputs": [],
   "source": [
    "bus = Bus(\"Mercedes\", 50)\n",
    "\n",
    "bus.marca, bus.numero_passeggeri"
   ]
  },
  {
   "cell_type": "markdown",
   "id": "9311a2b9",
   "metadata": {
    "slideshow": {
     "slide_type": "subslide"
    }
   },
   "source": [
    "### Classi associate\n",
    "**Classi associate**: la classe figlio chiama super() una sola volta e l'MRO gestirà l'ordine in cui le classi padri verranno inizializzate"
   ]
  },
  {
   "cell_type": "code",
   "execution_count": null,
   "id": "39292300",
   "metadata": {
    "cell_style": "split"
   },
   "outputs": [],
   "source": [
    "class QuadroStrumenti:\n",
    "    \n",
    "    def __init__(self, numero_spie, **kwargs):\n",
    "        super().__init__(**kwargs)\n",
    "        self.numero_spie = numero_spie\n",
    "        \n",
    "class Navigatore:\n",
    "    \n",
    "    def __init__(self, paese, **kwargs):\n",
    "        super().__init__(**kwargs)\n",
    "        self.paese = paese\n",
    "        \n",
    "class Veicolo(QuadroStrumenti, Navigatore):\n",
    "    \n",
    "    def __init__(self, *, marca=\"\", modello=\"\", **kwargs):\n",
    "        super().__init__(**kwargs)\n",
    "        self.marca = marca\n",
    "        self.modello=modello"
   ]
  },
  {
   "cell_type": "code",
   "execution_count": null,
   "id": "947d0b7f",
   "metadata": {
    "cell_style": "split",
    "slideshow": {
     "slide_type": "fragment"
    }
   },
   "outputs": [],
   "source": [
    "veicolo = Veicolo(\n",
    "    marca=\"Nissan\",\n",
    "    modello=\"GT\",\n",
    "    numero_spie=5,\n",
    "    paese=\"Italia\"\n",
    ")\n",
    "\n",
    "( \n",
    "    veicolo.marca,\n",
    "    veicolo.modello,\n",
    "    veicolo.numero_spie,\n",
    "    veicolo.paese\n",
    ")"
   ]
  },
  {
   "cell_type": "markdown",
   "id": "769b3a81",
   "metadata": {
    "slideshow": {
     "slide_type": "subslide"
    },
    "tags": []
   },
   "source": [
    "### Con mixin\n",
    "**Mixin**: la classe padre Mixin fornisce solo nuovi metodi e funzionalità alla classe figlio, senza influenzare gli attributi"
   ]
  },
  {
   "cell_type": "code",
   "execution_count": null,
   "id": "a36d7171",
   "metadata": {
    "cell_style": "split"
   },
   "outputs": [],
   "source": [
    "class VeicoloMixin:\n",
    "    \n",
    "    def __init__(self, *args, **kwargs):\n",
    "        super().__init__(*args, **kwargs)\n",
    "        \n",
    "class Veicolo:\n",
    "    \n",
    "    def __init__(self, marca, modello):\n",
    "        self.marca = marca\n",
    "        self.modello = modello\n",
    "        \n",
    "class Auto(VeicoloMixin, Veicolo):\n",
    "    \n",
    "    def __init__(self, marca, modello):\n",
    "        super().__init__(marca, modello)"
   ]
  },
  {
   "cell_type": "code",
   "execution_count": null,
   "id": "a32efe22",
   "metadata": {
    "cell_style": "split",
    "slideshow": {
     "slide_type": "fragment"
    }
   },
   "outputs": [],
   "source": [
    "auto = Auto(\"Jeep\", \"Compass\")\n",
    "\n",
    "auto.marca, auto.modello"
   ]
  },
  {
   "cell_type": "markdown",
   "id": "eb8b4a0c",
   "metadata": {
    "slideshow": {
     "slide_type": "slide"
    },
    "tags": []
   },
   "source": [
    "# Classi Astratte (ABC)"
   ]
  },
  {
   "cell_type": "markdown",
   "id": "ca3e65e8",
   "metadata": {},
   "source": [
    "Le classi astratte permettono di definire delle `interfacce`, ovvero dei template di una classe per mostrare come le classi figlio vadano implementate.<br>\n",
    "In particolare, la definizione di metodi astratti costringe le classi figlio a implementare i suddetti metodi, altrimenti nessuna istanza potrà essere creata."
   ]
  },
  {
   "cell_type": "code",
   "execution_count": null,
   "id": "347e8128",
   "metadata": {
    "cell_style": "split"
   },
   "outputs": [],
   "source": [
    "from abc import ABC, abstractmethod\n",
    "\n",
    "class Veicolo(ABC):\n",
    "    \n",
    "    def __init__(self, marca):\n",
    "        self.marca = marca\n",
    "    \n",
    "    @abstractmethod\n",
    "    def numero_ruote(self):\n",
    "        ..."
   ]
  },
  {
   "cell_type": "code",
   "execution_count": null,
   "id": "04aa29c4",
   "metadata": {
    "cell_style": "split"
   },
   "outputs": [],
   "source": [
    "v = Veicolo('Mercedes')"
   ]
  },
  {
   "cell_type": "code",
   "execution_count": null,
   "id": "055f76c7",
   "metadata": {
    "cell_style": "split",
    "slideshow": {
     "slide_type": "subslide"
    }
   },
   "outputs": [],
   "source": [
    "class Macchina(Veicolo):\n",
    "    \n",
    "    def velocità(self):\n",
    "        return 200\n",
    "    \n",
    "Macchina()"
   ]
  },
  {
   "cell_type": "code",
   "execution_count": null,
   "id": "2f365d3f",
   "metadata": {
    "cell_style": "split",
    "slideshow": {
     "slide_type": "fragment"
    }
   },
   "outputs": [],
   "source": [
    "class Macchina(Veicolo):\n",
    "    \n",
    "    def numero_ruote(self):\n",
    "        return 4\n",
    "    \n",
    "    def velocità(self):\n",
    "        return 200\n",
    "    \n",
    "Macchina(\"BMW\")"
   ]
  },
  {
   "cell_type": "markdown",
   "id": "430535e7",
   "metadata": {
    "slideshow": {
     "slide_type": "slide"
    }
   },
   "source": [
    "# \"Finta\" Incapsulazione in Python"
   ]
  },
  {
   "cell_type": "markdown",
   "id": "2836a28a",
   "metadata": {},
   "source": [
    "In altri linguaggi di programmazione ad oggetti, creare le classi e i corrispondenti oggetti implica la scelta di quali funzionalità debbano essere gestita solo internamente oppure condivise con le altre classi/oggetti del codice.<br>\n",
    "\n",
    "Questo determina che attributi e metodi possano avere diversi livelli di _scope_ (visibilità):\n",
    "- pubblico (public): il metodo o attributo è sempre accessibile\n",
    "- protetto (protected): il metodo o attributo è accessibile solo dalla classe stessa o dai suoi figli\n",
    "- privato (private): il metodo o attributo è accessibile solo dalla classe stessa\n",
    "\n",
    "In Python l'incapsulazione non è prevista come costrutto, ma è fintamente gestito da come sono nominati gli attributi e metodi (anche i metodi privati sono comunque accessibili"
   ]
  },
  {
   "cell_type": "code",
   "execution_count": null,
   "id": "6244aecf",
   "metadata": {
    "slideshow": {
     "slide_type": "subslide"
    }
   },
   "outputs": [],
   "source": [
    "class Classe:\n",
    "    \n",
    "    def __init__(self):\n",
    "        self.pubblico = 0 # PUBBLICO\n",
    "        self._protetto = 1 # PROTETTO\n",
    "        self.__privato = 2 # PRIVATO\n",
    "        \n",
    "class Figlio(Classe):\n",
    "    \n",
    "    def __init__(self):\n",
    "        super().__init__()"
   ]
  },
  {
   "cell_type": "code",
   "execution_count": null,
   "id": "4c61fd05",
   "metadata": {
    "cell_style": "split",
    "slideshow": {
     "slide_type": "fragment"
    }
   },
   "outputs": [],
   "source": [
    "f = Figlio()\n",
    "print(f.pubblico)\n",
    "print(f._protetto)\n",
    "print(f.__privato)"
   ]
  },
  {
   "cell_type": "code",
   "execution_count": null,
   "id": "4adf6112",
   "metadata": {
    "cell_style": "split"
   },
   "outputs": [],
   "source": [
    "f = Figlio()\n",
    "print(f.pubblico)\n",
    "print(f._protetto)\n",
    "print(f._Classe__privato)"
   ]
  }
 ],
 "metadata": {
  "celltoolbar": "Slideshow",
  "kernelspec": {
   "display_name": "Python 3 (ipykernel)",
   "language": "python",
   "name": "python3"
  },
  "language_info": {
   "codemirror_mode": {
    "name": "ipython",
    "version": 3
   },
   "file_extension": ".py",
   "mimetype": "text/x-python",
   "name": "python",
   "nbconvert_exporter": "python",
   "pygments_lexer": "ipython3",
   "version": "3.8.10"
  },
  "rise": {
   "auto_select": "code",
   "autolaunch": true,
   "center": true,
   "enable_chalkboard": true,
   "slideNumber": "c/t"
  }
 },
 "nbformat": 4,
 "nbformat_minor": 5
}
